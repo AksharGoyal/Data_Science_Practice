{
 "metadata": {
  "language_info": {
   "codemirror_mode": {
    "name": "ipython",
    "version": 3
   },
   "file_extension": ".py",
   "mimetype": "text/x-python",
   "name": "python",
   "nbconvert_exporter": "python",
   "pygments_lexer": "ipython3",
   "version": "3.9.5"
  },
  "orig_nbformat": 2,
  "kernelspec": {
   "name": "python395jvsc74a57bd00f27ee7ae2a36fe0332937b6925fd134e3bd5d4b5d84aa99da9ff270dcba1596",
   "display_name": "Python 3.9.5 64-bit"
  }
 },
 "nbformat": 4,
 "nbformat_minor": 2,
 "cells": [
  {
   "source": [
    "# Cleaning the Naukri dataset (my fav one)"
   ],
   "cell_type": "markdown",
   "metadata": {}
  },
  {
   "cell_type": "code",
   "execution_count": 1,
   "metadata": {},
   "outputs": [],
   "source": [
    "import pandas as pd \n",
    "import numpy as np\n",
    "import matplotlib.pyplot as plt \n",
    "import seaborn as sns\n"
   ]
  },
  {
   "cell_type": "code",
   "execution_count": 2,
   "metadata": {},
   "outputs": [
    {
     "output_type": "stream",
     "name": "stdout",
     "text": [
      "(22000, 14)\n"
     ]
    },
    {
     "output_type": "execute_result",
     "data": {
      "text/plain": [
       "                                      company  \\\n",
       "0                            MM Media Pvt Ltd   \n",
       "1                          find live infotech   \n",
       "2         Softtech Career Infosystem Pvt. Ltd   \n",
       "3                      Onboard HRServices LLP   \n",
       "4  Spire Technologies and Solutions Pvt. Ltd.   \n",
       "\n",
       "                                           education   experience  \\\n",
       "0  UG: B.Tech/B.E. - Any Specialization PG:Any Po...    0 - 1 yrs   \n",
       "1  UG: B.Tech/B.E. - Any Specialization PG:MBA/PG...    0 - 0 yrs   \n",
       "2  UG: Any Graduate - Any Specialization PG:Any P...    4 - 8 yrs   \n",
       "3  UG: Any Graduate - Any Specialization PG:CA Do...  11 - 15 yrs   \n",
       "4  UG: B.Tech/B.E. - Any Specialization PG:Any Po...    6 - 8 yrs   \n",
       "\n",
       "                                   industry  \\\n",
       "0          Media / Entertainment / Internet   \n",
       "1  Advertising / PR / MR / Event Management   \n",
       "2           IT-Software / Software Services   \n",
       "3    Banking / Financial Services / Broking   \n",
       "4           IT-Software / Software Services   \n",
       "\n",
       "                                      jobdescription         jobid  \\\n",
       "0  Job Description   Send me Jobs like this Quali...  210516002263   \n",
       "1  Job Description   Send me Jobs like this Quali...  210516002391   \n",
       "2  Job Description   Send me Jobs like this - as ...  101016900534   \n",
       "3  Job Description   Send me Jobs like this - Inv...   81016900536   \n",
       "4  Job Description   Send me Jobs like this Pleas...  120916002122   \n",
       "\n",
       "                                 joblocation_address  \\\n",
       "0                                            Chennai   \n",
       "1                                            Chennai   \n",
       "2                                          Bengaluru   \n",
       "3  Mumbai, Bengaluru, Kolkata, Chennai, Coimbator...   \n",
       "4                                          Bengaluru   \n",
       "\n",
       "                                   jobtitle  numberofpositions  \\\n",
       "0  Walkin Data Entry Operator (night Shift)                NaN   \n",
       "1        Work Based Onhome Based Part Time.               60.0   \n",
       "2                    Pl/sql Developer - SQL                NaN   \n",
       "3    Manager/ad/partner - Indirect Tax - CA                NaN   \n",
       "4           JAVA Technical Lead (6-8 yrs) -                4.0   \n",
       "\n",
       "                          payrate                   postdate site_name  \\\n",
       "0         1,50,000 - 2,25,000 P.A  2016-05-21 19:30:00 +0000       NaN   \n",
       "1  1,50,000 - 2,50,000 P.A. 20000  2016-05-21 19:30:00 +0000       NaN   \n",
       "2      Not Disclosed by Recruiter  2016-10-13 16:20:55 +0000       NaN   \n",
       "3      Not Disclosed by Recruiter  2016-10-13 16:20:55 +0000       NaN   \n",
       "4      Not Disclosed by Recruiter  2016-10-13 16:20:55 +0000       NaN   \n",
       "\n",
       "                                  skills                           uniq_id  \n",
       "0                                   ITES  43b19632647068535437c774b6ca6cf8  \n",
       "1                              Marketing  d4c72325e57f89f364812b5ed5a795f0  \n",
       "2  IT Software - Application Programming  c47df6f4cfdf5b46f1fd713ba61b9eba  \n",
       "3                               Accounts  115d28f140f694dd1cc61c53d03c66ae  \n",
       "4  IT Software - Application Programming  a12553fc03bc7bcced8b1bb8963f97b4  "
      ],
      "text/html": "<div>\n<style scoped>\n    .dataframe tbody tr th:only-of-type {\n        vertical-align: middle;\n    }\n\n    .dataframe tbody tr th {\n        vertical-align: top;\n    }\n\n    .dataframe thead th {\n        text-align: right;\n    }\n</style>\n<table border=\"1\" class=\"dataframe\">\n  <thead>\n    <tr style=\"text-align: right;\">\n      <th></th>\n      <th>company</th>\n      <th>education</th>\n      <th>experience</th>\n      <th>industry</th>\n      <th>jobdescription</th>\n      <th>jobid</th>\n      <th>joblocation_address</th>\n      <th>jobtitle</th>\n      <th>numberofpositions</th>\n      <th>payrate</th>\n      <th>postdate</th>\n      <th>site_name</th>\n      <th>skills</th>\n      <th>uniq_id</th>\n    </tr>\n  </thead>\n  <tbody>\n    <tr>\n      <th>0</th>\n      <td>MM Media Pvt Ltd</td>\n      <td>UG: B.Tech/B.E. - Any Specialization PG:Any Po...</td>\n      <td>0 - 1 yrs</td>\n      <td>Media / Entertainment / Internet</td>\n      <td>Job Description   Send me Jobs like this Quali...</td>\n      <td>210516002263</td>\n      <td>Chennai</td>\n      <td>Walkin Data Entry Operator (night Shift)</td>\n      <td>NaN</td>\n      <td>1,50,000 - 2,25,000 P.A</td>\n      <td>2016-05-21 19:30:00 +0000</td>\n      <td>NaN</td>\n      <td>ITES</td>\n      <td>43b19632647068535437c774b6ca6cf8</td>\n    </tr>\n    <tr>\n      <th>1</th>\n      <td>find live infotech</td>\n      <td>UG: B.Tech/B.E. - Any Specialization PG:MBA/PG...</td>\n      <td>0 - 0 yrs</td>\n      <td>Advertising / PR / MR / Event Management</td>\n      <td>Job Description   Send me Jobs like this Quali...</td>\n      <td>210516002391</td>\n      <td>Chennai</td>\n      <td>Work Based Onhome Based Part Time.</td>\n      <td>60.0</td>\n      <td>1,50,000 - 2,50,000 P.A. 20000</td>\n      <td>2016-05-21 19:30:00 +0000</td>\n      <td>NaN</td>\n      <td>Marketing</td>\n      <td>d4c72325e57f89f364812b5ed5a795f0</td>\n    </tr>\n    <tr>\n      <th>2</th>\n      <td>Softtech Career Infosystem Pvt. Ltd</td>\n      <td>UG: Any Graduate - Any Specialization PG:Any P...</td>\n      <td>4 - 8 yrs</td>\n      <td>IT-Software / Software Services</td>\n      <td>Job Description   Send me Jobs like this - as ...</td>\n      <td>101016900534</td>\n      <td>Bengaluru</td>\n      <td>Pl/sql Developer - SQL</td>\n      <td>NaN</td>\n      <td>Not Disclosed by Recruiter</td>\n      <td>2016-10-13 16:20:55 +0000</td>\n      <td>NaN</td>\n      <td>IT Software - Application Programming</td>\n      <td>c47df6f4cfdf5b46f1fd713ba61b9eba</td>\n    </tr>\n    <tr>\n      <th>3</th>\n      <td>Onboard HRServices LLP</td>\n      <td>UG: Any Graduate - Any Specialization PG:CA Do...</td>\n      <td>11 - 15 yrs</td>\n      <td>Banking / Financial Services / Broking</td>\n      <td>Job Description   Send me Jobs like this - Inv...</td>\n      <td>81016900536</td>\n      <td>Mumbai, Bengaluru, Kolkata, Chennai, Coimbator...</td>\n      <td>Manager/ad/partner - Indirect Tax - CA</td>\n      <td>NaN</td>\n      <td>Not Disclosed by Recruiter</td>\n      <td>2016-10-13 16:20:55 +0000</td>\n      <td>NaN</td>\n      <td>Accounts</td>\n      <td>115d28f140f694dd1cc61c53d03c66ae</td>\n    </tr>\n    <tr>\n      <th>4</th>\n      <td>Spire Technologies and Solutions Pvt. Ltd.</td>\n      <td>UG: B.Tech/B.E. - Any Specialization PG:Any Po...</td>\n      <td>6 - 8 yrs</td>\n      <td>IT-Software / Software Services</td>\n      <td>Job Description   Send me Jobs like this Pleas...</td>\n      <td>120916002122</td>\n      <td>Bengaluru</td>\n      <td>JAVA Technical Lead (6-8 yrs) -</td>\n      <td>4.0</td>\n      <td>Not Disclosed by Recruiter</td>\n      <td>2016-10-13 16:20:55 +0000</td>\n      <td>NaN</td>\n      <td>IT Software - Application Programming</td>\n      <td>a12553fc03bc7bcced8b1bb8963f97b4</td>\n    </tr>\n  </tbody>\n</table>\n</div>"
     },
     "metadata": {},
     "execution_count": 2
    }
   ],
   "source": [
    "data = pd.read_csv('naukri.csv')\n",
    "print(data.shape)\n",
    "data.head()"
   ]
  },
  {
   "source": [
    "## split the locations to explode the dataset and understand things better"
   ],
   "cell_type": "markdown",
   "metadata": {}
  },
  {
   "cell_type": "code",
   "execution_count": 3,
   "metadata": {},
   "outputs": [
    {
     "output_type": "execute_result",
     "data": {
      "text/plain": [
       "0                                            [Chennai]\n",
       "1                                            [Chennai]\n",
       "2                                          [Bengaluru]\n",
       "3    [Mumbai, Bengaluru, Kolkata, Chennai, Coimbato...\n",
       "4                                          [Bengaluru]\n",
       "5                                          [Bengaluru]\n",
       "6    [Delhi NCR, Mumbai, Bengaluru, Kochi, Greater ...\n",
       "7                                          [Bengaluru]\n",
       "8                                          [Bengaluru]\n",
       "9                                          [Bengaluru]\n",
       "Name: joblocation_address, dtype: object"
      ]
     },
     "metadata": {},
     "execution_count": 3
    }
   ],
   "source": [
    "data['joblocation_address'] = data['joblocation_address'].str.split(', ')\n",
    "data['joblocation_address'][:10]"
   ]
  },
  {
   "cell_type": "code",
   "execution_count": 4,
   "metadata": {},
   "outputs": [
    {
     "output_type": "execute_result",
     "data": {
      "text/plain": [
       "Bengaluru/Bangalore                   6605\n",
       "Mumbai                                5961\n",
       "Chennai                               3369\n",
       "Hyderabad / Secunderabad              2648\n",
       "Delhi                                 2465\n",
       "Bengaluru                             2441\n",
       "Gurgaon                               1909\n",
       "Hyderabad                             1712\n",
       "Noida                                 1681\n",
       "Delhi/NCR(National Capital Region)    1438\n",
       "Pune                                  1227\n",
       "Bengaluru / Bangalore                  718\n",
       "Kolkata                                543\n",
       "Ahmedabad                              404\n",
       "Noida/Greater Noida                    381\n",
       "Hyderabad/Secunderabad                 210\n",
       "Navi Mumbai                            203\n",
       "Delhi/NCR                              200\n",
       "Chandigarh                             189\n",
       "Ghaziabad                              188\n",
       "Delhi NCR                              176\n",
       "Faridabad                              159\n",
       "Mumbai Suburbs                         150\n",
       "Coimbatore                             136\n",
       "Jaipur                                 129\n",
       "Ernakulam / Kochi/ Cochin              107\n",
       "Surat                                  106\n",
       "Lucknow                                101\n",
       "Bengaluru Bangalore                     96\n",
       "Vijayawada                              84\n",
       "Bhubaneshwar                            80\n",
       "Visakhapatnam/Vizag                     80\n",
       "Trivandrum                              69\n",
       "Indore                                  66\n",
       "karnataka                               63\n",
       "Mangalore                               58\n",
       "mumbai                                  53\n",
       "Nagpur                                  52\n",
       "Thane                                   49\n",
       "maharashtra                             46\n",
       "Visakhapatnam                           45\n",
       "Greater Noida                           44\n",
       "Mysore                                  43\n",
       "Bhopal                                  42\n",
       "Guwahati                                41\n",
       "Kanpur                                  40\n",
       "Vadodara/Baroda                         40\n",
       "Patna                                   38\n",
       "Trichy                                  33\n",
       "Raipur                                  32\n",
       "Dehradun                                32\n",
       "bangalore                               31\n",
       "Ludhiana                                30\n",
       "Agra                                    28\n",
       "Kochi                                   28\n",
       "Ranchi                                  27\n",
       "Nasik                                   27\n",
       "Vadodara                                27\n",
       "Hubli                                   26\n",
       "Cuttack                                 25\n",
       "delhi                                   24\n",
       "Guntur                                  24\n",
       "Belgaum                                 23\n",
       "haryana                                 23\n",
       "Ambala                                  21\n",
       "Madurai                                 20\n",
       "Vellore                                 20\n",
       "Salem                                   19\n",
       "India                                   16\n",
       "Rohtak                                  16\n",
       "Pondicherry                             15\n",
       "Other City(s) in Uttar Pradesh          15\n",
       "Bellary                                 15\n",
       "Bangalore                               15\n",
       "Aurangabad                              15\n",
       "Nellore                                 14\n",
       "Karnal                                  14\n",
       "noida                                   14\n",
       "Anantapur                               13\n",
       "Mohali                                  13\n",
       "Tirupati                                12\n",
       "Kota                                    12\n",
       "Varanasi                                12\n",
       "Tuticorin                               12\n",
       "Panipat                                 11\n",
       "Tirunelveli                             11\n",
       "Kurukshetra                             11\n",
       "Meerut                                  11\n",
       "Ooty                                    10\n",
       "Cuddalore                               10\n",
       "Haryana Other                           10\n",
       "Amritsar                                 9\n",
       "Nagercoil                                9\n",
       "gurgaon                                  9\n",
       "Udaipur                                  9\n",
       "Rajahmundry                              9\n",
       "Chennai Bangalore                        9\n",
       "Rajkot                                   9\n",
       "Kakinada                                 9\n",
       "Dubai/ UAE                               9\n",
       "Name: joblocation_address, dtype: int64"
      ]
     },
     "metadata": {},
     "execution_count": 4
    }
   ],
   "source": [
    "data = data.explode('joblocation_address')\n",
    "data['joblocation_address'] = data['joblocation_address'].str.strip()\n",
    "pd.set_option('max_rows', 3000)\n",
    "data['joblocation_address'].value_counts()[:100]"
   ]
  },
  {
   "source": [
    "## Removing all the possible duplicates for a cleaner dataset"
   ],
   "cell_type": "markdown",
   "metadata": {}
  },
  {
   "cell_type": "code",
   "execution_count": 5,
   "metadata": {},
   "outputs": [
    {
     "output_type": "execute_result",
     "data": {
      "text/plain": [
       "Chandigarh                                       190\n",
       "Kochi                                            140\n",
       "Coimbatore                                       136\n",
       "Jaipur                                           131\n",
       "Visakhapatnam                                    125\n",
       "Surat                                            106\n",
       "Lucknow                                          101\n",
       "Vijayawada                                        84\n",
       "Bhubaneshwar                                      80\n",
       "Karnataka                                         71\n",
       "Trivandrum                                        69\n",
       "Vadodara                                          68\n",
       "Indore                                            66\n",
       "Thane                                             58\n",
       "Mangalore                                         58\n",
       "Nagpur                                            52\n",
       "Mysore                                            43\n",
       "Bhopal                                            42\n",
       "Guwahati                                          41\n",
       "Kanpur                                            40\n",
       "Haryana                                           39\n",
       "Patna                                             38\n",
       "Trichy                                            33\n",
       "Raipur                                            32\n",
       "Dehradun                                          32\n",
       "Ludhiana                                          30\n",
       "Agra                                              28\n",
       "Ranchi                                            27\n",
       "Nasik                                             27\n",
       "Hubli                                             26\n",
       "Cuttack                                           25\n",
       "Guntur                                            24\n",
       "Belgaum                                           23\n",
       "Ambala                                            21\n",
       "Madurai                                           20\n",
       "Vellore                                           20\n",
       "Uttar Pradesh                                     19\n",
       "Salem                                             19\n",
       "Rohtak                                            16\n",
       "India                                             16\n",
       "Andhra Pradesh                                    15\n",
       "Aurangabad                                        15\n",
       "Pondicherry                                       15\n",
       "Bellary                                           15\n",
       "Karnal                                            14\n",
       "Nellore                                           14\n",
       "Gujarat                                           13\n",
       "Mohali                                            13\n",
       "Anantapur                                         13\n",
       "Varanasi                                          12\n",
       "Tuticorin                                         12\n",
       "Tirupati                                          12\n",
       "Kota                                              12\n",
       "Kurukshetra                                       11\n",
       "Panipat                                           11\n",
       "Meerut                                            11\n",
       "Tirunelveli                                       11\n",
       "Cuddalore                                         10\n",
       "Thrissur                                          10\n",
       "Ooty                                              10\n",
       "Rajkot                                             9\n",
       "Dubai/ UAE                                         9\n",
       "Warangal                                           9\n",
       "Kakinada                                           9\n",
       "Rajahmundry                                        9\n",
       "Chennai Bangalore                                  9\n",
       "Nagercoil                                          9\n",
       "Udaipur                                            9\n",
       "Amritsar                                           9\n",
       "Kozhikode / Calicut                                8\n",
       "Jamshedpur                                         8\n",
       "Singapore                                          8\n",
       "United States (U.S)                                8\n",
       "Kurnool                                            8\n",
       "Jodhpur                                            8\n",
       "Dadra & Nagar Haveli / Silvassa                    8\n",
       "Davangere                                          8\n",
       "Jammu                                              8\n",
       "Haridwar                                           8\n",
       "Hosur                                              7\n",
       "Dharwad                                            7\n",
       "Panjim                                             7\n",
       "hyderabad                                          7\n",
       "United Kingdom (U.K)                               7\n",
       "Erode                                              7\n",
       "Kanchipuram                                        7\n",
       "Agartala                                           7\n",
       "Manesar                                            6\n",
       "Hisar                                              6\n",
       "Karur                                              6\n",
       "Panjim/Panaji                                      6\n",
       "Jalandhar                                          6\n",
       "Bhiwadi                                            6\n",
       "Allahabad                                          6\n",
       "Tumkur                                             6\n",
       "Mehsana                                            6\n",
       "Wayanad                                            6\n",
       "Hyderabad Kolkata                                  6\n",
       "Gulbarga                                           6\n",
       "Gandhinagar                                        6\n",
       "Chennai Mumbai                                     5\n",
       "Saudi Arabia                                       5\n",
       "Kerala                                             5\n",
       "Rourkela                                           5\n",
       "Vasco Da Gama                                      5\n",
       "Mumbai PUNE                                        5\n",
       "Kolar                                              5\n",
       "Bharuch                                            5\n",
       "Durg                                               5\n",
       "Malaysia                                           5\n",
       "kolkata                                            5\n",
       "Kozhikode                                          5\n",
       "Bhilai/Bhillai                                     5\n",
       "Vapi                                               5\n",
       "Baddi                                              5\n",
       "Moradabad                                          5\n",
       "Sonepat                                            4\n",
       "Ankleshwar                                         4\n",
       "Kolhapur                                           4\n",
       "Nizamabad                                          4\n",
       "Gwalior                                            4\n",
       "Maharashtra                                        4\n",
       "Gorakhpur                                          4\n",
       "pune                                               4\n",
       "Dahej                                              4\n",
       "Bangalore Kolkata                                  4\n",
       "Australia                                          4\n",
       "Hong Kong                                          4\n",
       "Malappuram                                         4\n",
       "MP                                                 4\n",
       "Daman & Diu                                        4\n",
       "Bareilly                                           4\n",
       "Thanjavur                                          4\n",
       "Faizabad                                           4\n",
       "Shimoga                                            4\n",
       "Bijnor                                             3\n",
       "Lakshadweep                                        3\n",
       "Valsad                                             3\n",
       "Dadra and Nagar Haveli                             3\n",
       "Aligarh                                            3\n",
       "Cuddapah                                           3\n",
       "Vasai                                              3\n",
       "Varanasi / Banaras                                 3\n",
       "Ahmednagar                                         3\n",
       "Guntakal                                           3\n",
       "Vikhroli                                           3\n",
       "Mathura                                            3\n",
       "Japan                                              3\n",
       "Other City(s) in Kerala                            3\n",
       "Srinagar                                           3\n",
       "Kashipur                                           3\n",
       "Bidar                                              3\n",
       "Gandhidham                                         3\n",
       "indore                                             3\n",
       "Sambalpur                                          3\n",
       "Dalhousie                                          3\n",
       "Punjab                                             3\n",
       "Doda                                               3\n",
       "London                                             3\n",
       "chandigarh                                         3\n",
       "Chennai Hyderabad                                  3\n",
       "Ujjain                                             3\n",
       "Hindupur                                           2\n",
       "Telangana                                          2\n",
       "Jamnagar                                           2\n",
       "Kullu/Manali                                       2\n",
       "Bangalore Hyderabad                                2\n",
       "Adilabad                                           2\n",
       "Rewari                                             2\n",
       "Bokaro                                             2\n",
       "Other City(s) in Jammu & Kashmir                   2\n",
       "Dharmasala                                         2\n",
       "UP                                                 2\n",
       "Palakkad / Palghat                                 2\n",
       "Hospet                                             2\n",
       "Ganganagar                                         2\n",
       "Coimbatore Mumbai                                  2\n",
       "mumbai/pune                                        2\n",
       "banda                                              2\n",
       "Salem Tiruppur                                     2\n",
       "Haldwani                                           2\n",
       "Other City(s) in Chhattisgarh                      2\n",
       "Solapur                                            2\n",
       "PUNE Delhi                                         2\n",
       "Goa Other                                          2\n",
       "Anand                                              2\n",
       "Dhanbad                                            2\n",
       "Kuwait                                             2\n",
       "Lonavala                                           2\n",
       "lucknow                                            2\n",
       "Thiruvananthapuram                                 2\n",
       "punjab                                             2\n",
       "Khammam                                            2\n",
       "Other City(s) in Punjab                            2\n",
       "Kharagpur                                          2\n",
       "Akola                                              2\n",
       "Haldia                                             2\n",
       "PANVEL                                             2\n",
       "Chandrapur                                         2\n",
       "Bhillai                                            2\n",
       "Karimnagar                                         2\n",
       "Other City(s) in Har                               2\n",
       "IN-IN                                              2\n",
       "Palakkad                                           2\n",
       "Silchar                                            2\n",
       "Yamunanagar                                        2\n",
       "Mysoru / Mysore                                    2\n",
       "Saharanpur                                         2\n",
       "Qatar                                              2\n",
       "khurja                                             2\n",
       "Uttaranchal Other                                  2\n",
       "Kolkata Bangalore                                  2\n",
       "Rudrapur                                           2\n",
       "Rajasthan                                          2\n",
       "Other City(s) in Bihar                             1\n",
       "Goa                                                1\n",
       "Arunachalpradesh Oth                               1\n",
       "Mussoorie Mysore                                   1\n",
       "Bihar                                              1\n",
       "seoni                                              1\n",
       "Cincinnati                                         1\n",
       "Mandi                                              1\n",
       "MULUND                                             1\n",
       "Jaisalmer                                          1\n",
       "HR                                                 1\n",
       "Banswara                                           1\n",
       "airoli                                             1\n",
       "Kottayam                                           1\n",
       "Chennai Rajahmundry                                1\n",
       "Erode Cuddalore                                    1\n",
       "Kolkata PUNE                                       1\n",
       "Rajasthan Other                                    1\n",
       "Other City(s) in Tamil Nadu                        1\n",
       "Jalgaon                                            1\n",
       "Bangalore ,                                        1\n",
       "Moga                                               1\n",
       "VASHI                                              1\n",
       "PUNE Tirunelveli                                   1\n",
       "Amstc                                              1\n",
       "Atlanta                                            1\n",
       "Chennai Vijayawada                                 1\n",
       "Mumbai Pune                                        1\n",
       "Asansol                                            1\n",
       "Alappuzha / Alleppey                               1\n",
       "Cochin                                             1\n",
       "Selection                                          1\n",
       "Houston                                            1\n",
       "Hyderabad Mumbai                                   1\n",
       "Jajpur Odisha                                      1\n",
       "Patiala                                            1\n",
       "City                                               1\n",
       "Pune (Salunke Vihar)                               1\n",
       "Jammuandkashmir Othe                               1\n",
       "Raigarh                                            1\n",
       "Overseas                                           1\n",
       "Chennai Coimbatore                                 1\n",
       "Recruitment                                        1\n",
       "Thane(Turbhe)                                      1\n",
       "Dharuhera                                          1\n",
       "Dhule                                              1\n",
       "GHATKOPAR                                          1\n",
       "Kolkata Hyderabad                                  1\n",
       "Guindy Koyembedu                                   1\n",
       "Kandla                                             1\n",
       "Chennai Trichy                                     1\n",
       "Vizag Hyderabad                                    1\n",
       "Angul                                              1\n",
       "Sri Lanka                                          1\n",
       "Alaska                                             1\n",
       "Manali Nagpur                                      1\n",
       "Bhavnagar                                          1\n",
       "Trivandrum Cochin                                  1\n",
       "18                                                 1\n",
       "Buldhana                                           1\n",
       "Siliguri                                           1\n",
       "Bikaner                                            1\n",
       "Kadapa Kakinada                                    1\n",
       "Bangalore PUNE                                     1\n",
       "Kollam / Quilon                                    1\n",
       "Delhi Bangalore                                    1\n",
       "Jhansi                                             1\n",
       "Udupi                                              1\n",
       "hosur                                              1\n",
       "Wadala                                             1\n",
       "Vellore Salem                                      1\n",
       "Tarapur                                            1\n",
       "Tripura Other                                      1\n",
       "Location: White Field                              1\n",
       "Pune (Swarga                                       1\n",
       "Schenectady                                        1\n",
       "Tirupati Vellore                                   1\n",
       "Jalandhar and Kolkata – India and Bangladesh       1\n",
       "Matriculation and Alumni Impact - Pune/Mumbai      1\n",
       "Itanagar                                           1\n",
       "Mauritius                                          1\n",
       "Dibrugarh                                          1\n",
       "Dimapur                                            1\n",
       "chittoor                                           1\n",
       "Tamilnadu                                          1\n",
       "gujarat                                            1\n",
       "Villupuram Pondy                                   1\n",
       "OOTY Orchha                                        1\n",
       "Gir                                                1\n",
       "Germany                                            1\n",
       "Hyderabad PUNE                                     1\n",
       "IND                                                1\n",
       "Panaji Patna                                       1\n",
       "BANDRA                                             1\n",
       "COLABA                                             1\n",
       "Chicago                                            1\n",
       "Other City(s) in Karnataka                         1\n",
       "PUNE Mumbai                                        1\n",
       "Muzaffarpur                                        1\n",
       "Bangladesh                                         1\n",
       "Bhuj                                               1\n",
       "Assam                                              1\n",
       "palghar                                            1\n",
       "Madhyapradesh Other                                1\n",
       "Tirupathi Anantapur                                1\n",
       "Neemrana                                           1\n",
       "Gauribidanur                                       1\n",
       "Latur                                              1\n",
       "Other City(s) in Goa                               1\n",
       "Chennai Kolkata                                    1\n",
       "Puri                                               1\n",
       "dwarka                                             1\n",
       "Davanagere                                         1\n",
       "Hyderabad Bangalore                                1\n",
       "Kolkata Mumbai                                     1\n",
       "Quilon                                             1\n",
       "Amravati                                           1\n",
       "NARIMAN POINT.                                     1\n",
       "Tambaram Perambur                                  1\n",
       "BORIVILLI                                          1\n",
       "Shimla                                             1\n",
       "Velachery Madipakkam                               1\n",
       "Santacruz                                          1\n",
       "Nainital Noida                                     1\n",
       "Bhiwani                                            1\n",
       "Roorkee                                            1\n",
       "DOMBIVLLI                                          1\n",
       "Ajmer                                              1\n",
       "Baden                                              1\n",
       "Phagwara                                           1\n",
       "Anywhere India                                     1\n",
       "bolpur                                             1\n",
       "Madhepura                                          1\n",
       "PUNE Bangalore                                     1\n",
       "Canada                                             1\n",
       "Nellore Kurnool                                    1\n",
       "Mathura Mountabu                                   1\n",
       "Jharkhand Other                                    1\n",
       "Other City(s) in Maharasht                         1\n",
       "Bangalore/Mumbai                                   1\n",
       "Vijayawada Guntur                                  1\n",
       "nagpur                                             1\n",
       "Rupnagar                                           1\n",
       "south india                                        1\n",
       "morena                                             1\n",
       "Indonesia-Jakarta                                  1\n",
       "Orissa                                             1\n",
       "Varnasi                                            1\n",
       "Chennai Vizag                                      1\n",
       "Kalpakkam                                          1\n",
       "Indonesia                                          1\n",
       "Bawal                                              1\n",
       "Name: joblocation_address, dtype: int64"
      ]
     },
     "metadata": {},
     "execution_count": 5
    }
   ],
   "source": [
    "data['joblocation_address'] = data['joblocation_address'].replace(('Vadodara/Baroda', 'Vadodara', 'Baroda'), 'Vadodara')\n",
    "data['joblocation_address'] = data['joblocation_address'].replace(('Bengaluru/Bangalore', 'Bengaluru / Bangalore', 'bangalore', 'Bengaluru Bangalore', 'India-Karnataka-Bangalore', 'Bangalore', 'India - Bangalore', 'Near Bangalore', 'IN - KA - Bangalore', 'India-Bangalore'), 'Bangalore')\n",
    "data['joblocation_address'] = data['joblocation_address'].replace(('Other City(s) in Gujarat ,', 'Other City(s) in Gujarat', 'Gujarat'), 'Gujarat')\n",
    "data['joblocation_address'] = data['joblocation_address'].replace(('THANE', 'Thane', 'thane', 'IND-Maharashtra-Thane'), 'Thane')\n",
    "data['joblocation_address'] = data['joblocation_address'].replace(('Hyderabad / Secunderabad', 'Hyderabad/Secunderabad', 'primary_city\":\"Hyderabad\"'), 'Hyderabad')\n",
    "data['joblocation_address'] = data['joblocation_address'].replace(('Visakhapatnam/Vizag', 'Visakhapatnam'), 'Visakhapatnam')\n",
    "data['joblocation_address'] = data['joblocation_address'].replace(('Ernakulam / Kochi/ Cochin', 'Cochin/ Kochi/ Ernakulam', 'Kochi'), 'Kochi')\n",
    "data['joblocation_address'] = data['joblocation_address'].replace(('Delhi/NCR(National Capital Region)', 'Delhi/NCR', 'Delhi NCR', 'Noida', 'India-Gurgaon-Gurgaon', 'Location: Gurgaon', 'Noida/Greater Noida', 'Noida/ Greater Noida', 'noida', 'Ghaziabad', 'Faridabad', 'Greater Noida', 'delhi', 'India; Gurgaon', 'gurgaon', 'Gurgaon', 'IN-HR-Gurgaon', 'IN - DL - New Delhi', 'IN-DL-New Delhi', 'New Delhi', 'INDIA - Noida', 'India-Noida', 'INDIA-NOIDA-NOIDA', 'NCR'), 'NCR')\n",
    "data['joblocation_address'] = data['joblocation_address'].replace(('Navi Mumbai', 'Mumbai Suburbs', 'mumbai', 'maharashtra', 'Mumbai', 'NAVI MUMBAI', 'IN-MH-Greater Mumbai-Mumbai-Voltas C', 'IN-MH-Greater Mumbai-Mumbai', 'Other City(s) in Maharashtra', 'Asia-India-Greater Mumbai', 'JOB LOCATION: MUMBAI (INDIA)', 'Mumbai Corporate Office', 'Goregaon (E)', 'IN-MH-Mumbai-Prism Towers / 31002', 'Borivali', 'National Team Mumbai', 'National Team - Mumbai', 'India - Mumbai', 'GOREGOAN', 'ANDHERI', 'India-Mumbai'), 'Mumbai')\n",
    "data['joblocation_address'] = data['joblocation_address'].replace(('chennai', 'Chennai'), 'Chennai')\n",
    "data['joblocation_address'] = data['joblocation_address'].replace(('jaipur', 'Jaipur'), 'Jaipur')\n",
    "data['joblocation_address'] = data['joblocation_address'].replace(('Haryana Other', 'haryana', 'Haryana'), 'Haryana')\n",
    "data['joblocation_address'] = data['joblocation_address'].replace(('Andhrapradesh Other', 'Other City(s) in Andhra Pradesh', '\"primary_state\":\"Andhra Pradesh', 'andra', 'Other City(s) in Andhra Pradesh ,'), 'Andhra Pradesh')\n",
    "data['joblocation_address'] = data['joblocation_address'].replace(('Other City(s) in Uttar Pradesh', 'Uttarpradesh Other'), 'Uttar Pradesh')\n",
    "data['joblocation_address'] = data['joblocation_address'].replace(('Durg ,', 'Varanasi / Banaras ,', 'Doda ,'),('Durg', 'Varnasi', 'Doda'))\n",
    "data['joblocation_address'] = data['joblocation_address'].replace(('Karnataka Other', 'karnataka'), 'Karnataka')\n",
    "data['joblocation_address'] = data['joblocation_address'].replace(('Thrissur / Trichur', 'Thrissur'), 'Thrissur')\n",
    "data['joblocation_address'] = data['joblocation_address'].replace(('Ahmedabad', 'ahmedabad'), 'Ahmedabad')\n",
    "data['joblocation_address'] = data['joblocation_address'].replace(('Thiruvananthapuram ,', 'Other City(s) in Kerala ,', 'Other City(s) in Tamil Nadu ,', '- Chandigarh', 'Bikaner ,'),('Thiruvananthapuram', 'Other City(s) in Kerala', 'Other City(s) in Tamil Nadu', 'Chandigarh', 'Bikaner'))\n",
    "data['joblocation_address'].value_counts()[10:]"
   ]
  },
  {
   "source": [
    "## Let's focus on cities with more jobs"
   ],
   "cell_type": "markdown",
   "metadata": {}
  },
  {
   "cell_type": "code",
   "execution_count": 6,
   "metadata": {},
   "outputs": [
    {
     "output_type": "display_data",
     "data": {
      "text/plain": "Bangalore        7472\nMumbai           6437\nNCR              6238\nHyderabad        4571\nChennai          3373\nDelhi            2465\nBengaluru        2441\nPune             1227\nKolkata           543\nAhmedabad         405\nChandigarh        190\nKochi             140\nCoimbatore        136\nJaipur            131\nVisakhapatnam     125\nSurat             106\nLucknow           101\nVijayawada         84\nBhubaneshwar       80\nKarnataka          71\nTrivandrum         69\nVadodara           68\nIndore             66\nThane              58\nMangalore          58\nNagpur             52\nMysore             43\nBhopal             42\nGuwahati           41\nKanpur             40\nHaryana            39\nPatna              38\nTrichy             33\nRaipur             32\nDehradun           32\nLudhiana           30\nAgra               28\nRanchi             27\nNasik              27\nHubli              26\nName: joblocation_address, dtype: int64"
     },
     "metadata": {}
    }
   ],
   "source": [
    "counts = data['joblocation_address'].value_counts()\n",
    "data = data.loc[data['joblocation_address'].isin(counts.index[counts > 25])]\n",
    "display(data['joblocation_address'].value_counts())"
   ]
  },
  {
   "source": [
    "## Plot of cities with > 25 jobs"
   ],
   "cell_type": "markdown",
   "metadata": {}
  },
  {
   "cell_type": "code",
   "execution_count": 7,
   "metadata": {},
   "outputs": [
    {
     "output_type": "display_data",
     "data": {
      "text/plain": "<Figure size 432x288 with 1 Axes>",
      "image/svg+xml": "<?xml version=\"1.0\" encoding=\"utf-8\" standalone=\"no\"?>\r\n<!DOCTYPE svg PUBLIC \"-//W3C//DTD SVG 1.1//EN\"\r\n  \"http://www.w3.org/Graphics/SVG/1.1/DTD/svg11.dtd\">\r\n<svg height=\"351.305625pt\" version=\"1.1\" viewBox=\"0 0 395.982188 351.305625\" width=\"395.982188pt\" xmlns=\"http://www.w3.org/2000/svg\" xmlns:xlink=\"http://www.w3.org/1999/xlink\">\r\n <metadata>\r\n  <rdf:RDF xmlns:cc=\"http://creativecommons.org/ns#\" xmlns:dc=\"http://purl.org/dc/elements/1.1/\" xmlns:rdf=\"http://www.w3.org/1999/02/22-rdf-syntax-ns#\">\r\n   <cc:Work>\r\n    <dc:type rdf:resource=\"http://purl.org/dc/dcmitype/StillImage\"/>\r\n    <dc:date>2021-05-10T21:51:01.439427</dc:date>\r\n    <dc:format>image/svg+xml</dc:format>\r\n    <dc:creator>\r\n     <cc:Agent>\r\n      <dc:title>Matplotlib v3.4.1, https://matplotlib.org/</dc:title>\r\n     </cc:Agent>\r\n    </dc:creator>\r\n   </cc:Work>\r\n  </rdf:RDF>\r\n </metadata>\r\n <defs>\r\n  <style type=\"text/css\">*{stroke-linecap:butt;stroke-linejoin:round;}</style>\r\n </defs>\r\n <g id=\"figure_1\">\r\n  <g id=\"patch_1\">\r\n   <path d=\"M 0 351.305625 \r\nL 395.982188 351.305625 \r\nL 395.982188 0 \r\nL 0 0 \r\nz\r\n\" style=\"fill:none;\"/>\r\n  </g>\r\n  <g id=\"axes_1\">\r\n   <g id=\"patch_2\">\r\n    <path d=\"M 53.328125 245.836875 \r\nL 388.128125 245.836875 \r\nL 388.128125 28.396875 \r\nL 53.328125 28.396875 \r\nz\r\n\" style=\"fill:#ffffff;\"/>\r\n   </g>\r\n   <g id=\"patch_3\">\r\n    <path clip-path=\"url(#p6d267527ae)\" d=\"M 54.165125 245.836875 \r\nL 60.861125 245.836875 \r\nL 60.861125 152.354526 \r\nL 54.165125 152.354526 \r\nz\r\n\" style=\"fill:#04030d;\"/>\r\n   </g>\r\n   <g id=\"patch_4\">\r\n    <path clip-path=\"url(#p6d267527ae)\" d=\"M 62.535125 245.836875 \r\nL 69.231125 245.836875 \r\nL 69.231125 178.18481 \r\nL 62.535125 178.18481 \r\nz\r\n\" style=\"fill:#090818;\"/>\r\n   </g>\r\n   <g id=\"patch_5\">\r\n    <path clip-path=\"url(#p6d267527ae)\" d=\"M 70.905125 245.836875 \r\nL 77.601125 245.836875 \r\nL 77.601125 67.43608 \r\nL 70.905125 67.43608 \r\nz\r\n\" style=\"fill:#100c25;\"/>\r\n   </g>\r\n   <g id=\"patch_6\">\r\n    <path clip-path=\"url(#p6d267527ae)\" d=\"M 79.275125 245.836875 \r\nL 85.971125 245.836875 \r\nL 85.971125 230.787686 \r\nL 79.275125 230.787686 \r\nz\r\n\" style=\"fill:#181131;\"/>\r\n   </g>\r\n   <g id=\"patch_7\">\r\n    <path clip-path=\"url(#p6d267527ae)\" d=\"M 87.645125 245.836875 \r\nL 94.341125 245.836875 \r\nL 94.341125 242.067649 \r\nL 87.645125 242.067649 \r\nz\r\n\" style=\"fill:#221440;\"/>\r\n   </g>\r\n   <g id=\"patch_8\">\r\n    <path clip-path=\"url(#p6d267527ae)\" d=\"M 96.015125 245.836875 \r\nL 102.711125 245.836875 \r\nL 102.711125 72.951344 \r\nL 96.015125 72.951344 \r\nz\r\n\" style=\"fill:#2b144c;\"/>\r\n   </g>\r\n   <g id=\"patch_9\">\r\n    <path clip-path=\"url(#p6d267527ae)\" d=\"M 104.385125 245.836875 \r\nL 111.081125 245.836875 \r\nL 111.081125 241.956789 \r\nL 104.385125 241.956789 \r\nz\r\n\" style=\"fill:#341454;\"/>\r\n   </g>\r\n   <g id=\"patch_10\">\r\n    <path clip-path=\"url(#p6d267527ae)\" d=\"M 112.755125 245.836875 \r\nL 119.451125 245.836875 \r\nL 119.451125 119.152078 \r\nL 112.755125 119.152078 \r\nz\r\n\" style=\"fill:#3d155a;\"/>\r\n   </g>\r\n   <g id=\"patch_11\">\r\n    <path clip-path=\"url(#p6d267527ae)\" d=\"M 121.125125 245.836875 \r\nL 127.821125 245.836875 \r\nL 127.821125 243.03767 \r\nL 121.125125 243.03767 \r\nz\r\n\" style=\"fill:#46185f;\"/>\r\n   </g>\r\n   <g id=\"patch_12\">\r\n    <path clip-path=\"url(#p6d267527ae)\" d=\"M 129.495125 245.836875 \r\nL 136.191125 245.836875 \r\nL 136.191125 177.519653 \r\nL 129.495125 177.519653 \r\nz\r\n\" style=\"fill:#4e1b61;\"/>\r\n   </g>\r\n   <g id=\"patch_13\">\r\n    <path clip-path=\"url(#p6d267527ae)\" d=\"M 137.865125 245.836875 \r\nL 144.561125 245.836875 \r\nL 144.561125 242.372513 \r\nL 137.865125 242.372513 \r\nz\r\n\" style=\"fill:#561e63;\"/>\r\n   </g>\r\n   <g id=\"patch_14\">\r\n    <path clip-path=\"url(#p6d267527ae)\" d=\"M 146.235125 245.836875 \r\nL 152.931125 245.836875 \r\nL 152.931125 234.612342 \r\nL 146.235125 234.612342 \r\nz\r\n\" style=\"fill:#5e2163;\"/>\r\n   </g>\r\n   <g id=\"patch_15\">\r\n    <path clip-path=\"url(#p6d267527ae)\" d=\"M 154.605125 245.836875 \r\nL 161.301125 245.836875 \r\nL 161.301125 211.830696 \r\nL 154.605125 211.830696 \r\nz\r\n\" style=\"fill:#672564;\"/>\r\n   </g>\r\n   <g id=\"patch_16\">\r\n    <path clip-path=\"url(#p6d267527ae)\" d=\"M 162.975125 245.836875 \r\nL 169.671125 245.836875 \r\nL 169.671125 244.007692 \r\nL 162.975125 244.007692 \r\nz\r\n\" style=\"fill:#702965;\"/>\r\n   </g>\r\n   <g id=\"patch_17\">\r\n    <path clip-path=\"url(#p6d267527ae)\" d=\"M 171.345125 245.836875 \r\nL 178.041125 245.836875 \r\nL 178.041125 240.571044 \r\nL 171.345125 240.571044 \r\nz\r\n\" style=\"fill:#792d65;\"/>\r\n   </g>\r\n   <g id=\"patch_18\">\r\n    <path clip-path=\"url(#p6d267527ae)\" d=\"M 179.715125 245.836875 \r\nL 186.411125 245.836875 \r\nL 186.411125 242.206223 \r\nL 179.715125 242.206223 \r\nz\r\n\" style=\"fill:#813165;\"/>\r\n   </g>\r\n   <g id=\"patch_19\">\r\n    <path clip-path=\"url(#p6d267527ae)\" d=\"M 188.085125 245.836875 \r\nL 194.781125 245.836875 \r\nL 194.781125 243.508824 \r\nL 188.085125 243.508824 \r\nz\r\n\" style=\"fill:#8c3664;\"/>\r\n   </g>\r\n   <g id=\"patch_20\">\r\n    <path clip-path=\"url(#p6d267527ae)\" d=\"M 196.455125 245.836875 \r\nL 203.151125 245.836875 \r\nL 203.151125 243.924547 \r\nL 196.455125 243.924547 \r\nz\r\n\" style=\"fill:#943b63;\"/>\r\n   </g>\r\n   <g id=\"patch_21\">\r\n    <path clip-path=\"url(#p6d267527ae)\" d=\"M 204.825125 245.836875 \r\nL 211.521125 245.836875 \r\nL 211.521125 38.751161 \r\nL 204.825125 38.751161 \r\nz\r\n\" style=\"fill:#9d3f61;\"/>\r\n   </g>\r\n   <g id=\"patch_22\">\r\n    <path clip-path=\"url(#p6d267527ae)\" d=\"M 213.195125 245.836875 \r\nL 219.891125 245.836875 \r\nL 219.891125 242.899096 \r\nL 213.195125 242.899096 \r\nz\r\n\" style=\"fill:#a5445f;\"/>\r\n   </g>\r\n   <g id=\"patch_23\">\r\n    <path clip-path=\"url(#p6d267527ae)\" d=\"M 221.565125 245.836875 \r\nL 228.261125 245.836875 \r\nL 228.261125 243.619683 \r\nL 221.565125 243.619683 \r\nz\r\n\" style=\"fill:#af4a5c;\"/>\r\n   </g>\r\n   <g id=\"patch_24\">\r\n    <path clip-path=\"url(#p6d267527ae)\" d=\"M 229.935125 245.836875 \r\nL 236.631125 245.836875 \r\nL 236.631125 244.949998 \r\nL 229.935125 244.949998 \r\nz\r\n\" style=\"fill:#b75059;\"/>\r\n   </g>\r\n   <g id=\"patch_25\">\r\n    <path clip-path=\"url(#p6d267527ae)\" d=\"M 238.305125 245.836875 \r\nL 245.001125 245.836875 \r\nL 245.001125 244.229411 \r\nL 238.305125 244.229411 \r\nz\r\n\" style=\"fill:#bf5656;\"/>\r\n   </g>\r\n   <g id=\"patch_26\">\r\n    <path clip-path=\"url(#p6d267527ae)\" d=\"M 246.675125 245.836875 \r\nL 253.371125 245.836875 \r\nL 253.371125 244.229411 \r\nL 246.675125 244.229411 \r\nz\r\n\" style=\"fill:#c55c51;\"/>\r\n   </g>\r\n   <g id=\"patch_27\">\r\n    <path clip-path=\"url(#p6d267527ae)\" d=\"M 255.045125 245.836875 \r\nL 261.741125 245.836875 \r\nL 261.741125 245.060858 \r\nL 255.045125 245.060858 \r\nz\r\n\" style=\"fill:#cb624b;\"/>\r\n   </g>\r\n   <g id=\"patch_28\">\r\n    <path clip-path=\"url(#p6d267527ae)\" d=\"M 263.415125 245.836875 \r\nL 270.111125 245.836875 \r\nL 270.111125 245.116288 \r\nL 263.415125 245.116288 \r\nz\r\n\" style=\"fill:#cf6846;\"/>\r\n   </g>\r\n   <g id=\"patch_29\">\r\n    <path clip-path=\"url(#p6d267527ae)\" d=\"M 271.785125 245.836875 \r\nL 278.481125 245.836875 \r\nL 278.481125 244.645134 \r\nL 271.785125 244.645134 \r\nz\r\n\" style=\"fill:#d36f40;\"/>\r\n   </g>\r\n   <g id=\"patch_30\">\r\n    <path clip-path=\"url(#p6d267527ae)\" d=\"M 280.155125 245.836875 \r\nL 286.851125 245.836875 \r\nL 286.851125 244.922283 \r\nL 280.155125 244.922283 \r\nz\r\n\" style=\"fill:#d6753a;\"/>\r\n   </g>\r\n   <g id=\"patch_31\">\r\n    <path clip-path=\"url(#p6d267527ae)\" d=\"M 288.525125 245.836875 \r\nL 295.221125 245.836875 \r\nL 295.221125 245.005428 \r\nL 288.525125 245.005428 \r\nz\r\n\" style=\"fill:#d97e33;\"/>\r\n   </g>\r\n   <g id=\"patch_32\">\r\n    <path clip-path=\"url(#p6d267527ae)\" d=\"M 296.895125 245.836875 \r\nL 303.591125 245.836875 \r\nL 303.591125 244.3957 \r\nL 296.895125 244.3957 \r\nz\r\n\" style=\"fill:#da852c;\"/>\r\n   </g>\r\n   <g id=\"patch_33\">\r\n    <path clip-path=\"url(#p6d267527ae)\" d=\"M 305.265125 245.836875 \r\nL 311.961125 245.836875 \r\nL 311.961125 244.672849 \r\nL 305.265125 244.672849 \r\nz\r\n\" style=\"fill:#dc8c26;\"/>\r\n   </g>\r\n   <g id=\"patch_34\">\r\n    <path clip-path=\"url(#p6d267527ae)\" d=\"M 313.635125 245.836875 \r\nL 320.331125 245.836875 \r\nL 320.331125 244.783709 \r\nL 313.635125 244.783709 \r\nz\r\n\" style=\"fill:#dd9525;\"/>\r\n   </g>\r\n   <g id=\"patch_35\">\r\n    <path clip-path=\"url(#p6d267527ae)\" d=\"M 322.005125 245.836875 \r\nL 328.701125 245.836875 \r\nL 328.701125 243.952262 \r\nL 322.005125 243.952262 \r\nz\r\n\" style=\"fill:#de9f2b;\"/>\r\n   </g>\r\n   <g id=\"patch_36\">\r\n    <path clip-path=\"url(#p6d267527ae)\" d=\"M 330.375125 245.836875 \r\nL 337.071125 245.836875 \r\nL 337.071125 243.869117 \r\nL 330.375125 243.869117 \r\nz\r\n\" style=\"fill:#dfa935;\"/>\r\n   </g>\r\n   <g id=\"patch_37\">\r\n    <path clip-path=\"url(#p6d267527ae)\" d=\"M 338.745125 245.836875 \r\nL 345.441125 245.836875 \r\nL 345.441125 244.755994 \r\nL 338.745125 244.755994 \r\nz\r\n\" style=\"fill:#e0b440;\"/>\r\n   </g>\r\n   <g id=\"patch_38\">\r\n    <path clip-path=\"url(#p6d267527ae)\" d=\"M 347.115125 245.836875 \r\nL 353.811125 245.836875 \r\nL 353.811125 244.700564 \r\nL 347.115125 244.700564 \r\nz\r\n\" style=\"fill:#e0be4d;\"/>\r\n   </g>\r\n   <g id=\"patch_39\">\r\n    <path clip-path=\"url(#p6d267527ae)\" d=\"M 355.485125 245.836875 \r\nL 362.181125 245.836875 \r\nL 362.181125 244.949998 \r\nL 355.485125 244.949998 \r\nz\r\n\" style=\"fill:#e0cb5e;\"/>\r\n   </g>\r\n   <g id=\"patch_40\">\r\n    <path clip-path=\"url(#p6d267527ae)\" d=\"M 363.855125 245.836875 \r\nL 370.551125 245.836875 \r\nL 370.551125 244.728279 \r\nL 363.855125 244.728279 \r\nz\r\n\" style=\"fill:#e0d570;\"/>\r\n   </g>\r\n   <g id=\"patch_41\">\r\n    <path clip-path=\"url(#p6d267527ae)\" d=\"M 372.225125 245.836875 \r\nL 378.921125 245.836875 \r\nL 378.921125 245.088573 \r\nL 372.225125 245.088573 \r\nz\r\n\" style=\"fill:#e2e084;\"/>\r\n   </g>\r\n   <g id=\"patch_42\">\r\n    <path clip-path=\"url(#p6d267527ae)\" d=\"M 380.595125 245.836875 \r\nL 387.291125 245.836875 \r\nL 387.291125 245.088573 \r\nL 380.595125 245.088573 \r\nz\r\n\" style=\"fill:#e8ea9b;\"/>\r\n   </g>\r\n   <g id=\"matplotlib.axis_1\">\r\n    <g id=\"xtick_1\">\r\n     <g id=\"line2d_1\">\r\n      <defs>\r\n       <path d=\"M 0 0 \r\nL 0 3.5 \r\n\" id=\"meb8520d12e\" style=\"stroke:#000000;stroke-width:0.8;\"/>\r\n      </defs>\r\n      <g>\r\n       <use style=\"stroke:#000000;stroke-width:0.8;\" x=\"57.513125\" xlink:href=\"#meb8520d12e\" y=\"245.836875\"/>\r\n      </g>\r\n     </g>\r\n     <g id=\"text_1\">\r\n      <!-- Chennai -->\r\n      <g transform=\"translate(60.2725 293.891562)rotate(-90)scale(0.1 -0.1)\">\r\n       <defs>\r\n        <path d=\"M 4122 4306 \r\nL 4122 3641 \r\nQ 3803 3938 3442 4084 \r\nQ 3081 4231 2675 4231 \r\nQ 1875 4231 1450 3742 \r\nQ 1025 3253 1025 2328 \r\nQ 1025 1406 1450 917 \r\nQ 1875 428 2675 428 \r\nQ 3081 428 3442 575 \r\nQ 3803 722 4122 1019 \r\nL 4122 359 \r\nQ 3791 134 3420 21 \r\nQ 3050 -91 2638 -91 \r\nQ 1578 -91 968 557 \r\nQ 359 1206 359 2328 \r\nQ 359 3453 968 4101 \r\nQ 1578 4750 2638 4750 \r\nQ 3056 4750 3426 4639 \r\nQ 3797 4528 4122 4306 \r\nz\r\n\" id=\"DejaVuSans-43\" transform=\"scale(0.015625)\"/>\r\n        <path d=\"M 3513 2113 \r\nL 3513 0 \r\nL 2938 0 \r\nL 2938 2094 \r\nQ 2938 2591 2744 2837 \r\nQ 2550 3084 2163 3084 \r\nQ 1697 3084 1428 2787 \r\nQ 1159 2491 1159 1978 \r\nL 1159 0 \r\nL 581 0 \r\nL 581 4863 \r\nL 1159 4863 \r\nL 1159 2956 \r\nQ 1366 3272 1645 3428 \r\nQ 1925 3584 2291 3584 \r\nQ 2894 3584 3203 3211 \r\nQ 3513 2838 3513 2113 \r\nz\r\n\" id=\"DejaVuSans-68\" transform=\"scale(0.015625)\"/>\r\n        <path d=\"M 3597 1894 \r\nL 3597 1613 \r\nL 953 1613 \r\nQ 991 1019 1311 708 \r\nQ 1631 397 2203 397 \r\nQ 2534 397 2845 478 \r\nQ 3156 559 3463 722 \r\nL 3463 178 \r\nQ 3153 47 2828 -22 \r\nQ 2503 -91 2169 -91 \r\nQ 1331 -91 842 396 \r\nQ 353 884 353 1716 \r\nQ 353 2575 817 3079 \r\nQ 1281 3584 2069 3584 \r\nQ 2775 3584 3186 3129 \r\nQ 3597 2675 3597 1894 \r\nz\r\nM 3022 2063 \r\nQ 3016 2534 2758 2815 \r\nQ 2500 3097 2075 3097 \r\nQ 1594 3097 1305 2825 \r\nQ 1016 2553 972 2059 \r\nL 3022 2063 \r\nz\r\n\" id=\"DejaVuSans-65\" transform=\"scale(0.015625)\"/>\r\n        <path d=\"M 3513 2113 \r\nL 3513 0 \r\nL 2938 0 \r\nL 2938 2094 \r\nQ 2938 2591 2744 2837 \r\nQ 2550 3084 2163 3084 \r\nQ 1697 3084 1428 2787 \r\nQ 1159 2491 1159 1978 \r\nL 1159 0 \r\nL 581 0 \r\nL 581 3500 \r\nL 1159 3500 \r\nL 1159 2956 \r\nQ 1366 3272 1645 3428 \r\nQ 1925 3584 2291 3584 \r\nQ 2894 3584 3203 3211 \r\nQ 3513 2838 3513 2113 \r\nz\r\n\" id=\"DejaVuSans-6e\" transform=\"scale(0.015625)\"/>\r\n        <path d=\"M 2194 1759 \r\nQ 1497 1759 1228 1600 \r\nQ 959 1441 959 1056 \r\nQ 959 750 1161 570 \r\nQ 1363 391 1709 391 \r\nQ 2188 391 2477 730 \r\nQ 2766 1069 2766 1631 \r\nL 2766 1759 \r\nL 2194 1759 \r\nz\r\nM 3341 1997 \r\nL 3341 0 \r\nL 2766 0 \r\nL 2766 531 \r\nQ 2569 213 2275 61 \r\nQ 1981 -91 1556 -91 \r\nQ 1019 -91 701 211 \r\nQ 384 513 384 1019 \r\nQ 384 1609 779 1909 \r\nQ 1175 2209 1959 2209 \r\nL 2766 2209 \r\nL 2766 2266 \r\nQ 2766 2663 2505 2880 \r\nQ 2244 3097 1772 3097 \r\nQ 1472 3097 1187 3025 \r\nQ 903 2953 641 2809 \r\nL 641 3341 \r\nQ 956 3463 1253 3523 \r\nQ 1550 3584 1831 3584 \r\nQ 2591 3584 2966 3190 \r\nQ 3341 2797 3341 1997 \r\nz\r\n\" id=\"DejaVuSans-61\" transform=\"scale(0.015625)\"/>\r\n        <path d=\"M 603 3500 \r\nL 1178 3500 \r\nL 1178 0 \r\nL 603 0 \r\nL 603 3500 \r\nz\r\nM 603 4863 \r\nL 1178 4863 \r\nL 1178 4134 \r\nL 603 4134 \r\nL 603 4863 \r\nz\r\n\" id=\"DejaVuSans-69\" transform=\"scale(0.015625)\"/>\r\n       </defs>\r\n       <use xlink:href=\"#DejaVuSans-43\"/>\r\n       <use x=\"69.824219\" xlink:href=\"#DejaVuSans-68\"/>\r\n       <use x=\"133.203125\" xlink:href=\"#DejaVuSans-65\"/>\r\n       <use x=\"194.726562\" xlink:href=\"#DejaVuSans-6e\"/>\r\n       <use x=\"258.105469\" xlink:href=\"#DejaVuSans-6e\"/>\r\n       <use x=\"321.484375\" xlink:href=\"#DejaVuSans-61\"/>\r\n       <use x=\"382.763672\" xlink:href=\"#DejaVuSans-69\"/>\r\n      </g>\r\n     </g>\r\n    </g>\r\n    <g id=\"xtick_2\">\r\n     <g id=\"line2d_2\">\r\n      <g>\r\n       <use style=\"stroke:#000000;stroke-width:0.8;\" x=\"65.883125\" xlink:href=\"#meb8520d12e\" y=\"245.836875\"/>\r\n      </g>\r\n     </g>\r\n     <g id=\"text_2\">\r\n      <!-- Bengaluru -->\r\n      <g transform=\"translate(68.6425 304.229062)rotate(-90)scale(0.1 -0.1)\">\r\n       <defs>\r\n        <path d=\"M 1259 2228 \r\nL 1259 519 \r\nL 2272 519 \r\nQ 2781 519 3026 730 \r\nQ 3272 941 3272 1375 \r\nQ 3272 1813 3026 2020 \r\nQ 2781 2228 2272 2228 \r\nL 1259 2228 \r\nz\r\nM 1259 4147 \r\nL 1259 2741 \r\nL 2194 2741 \r\nQ 2656 2741 2882 2914 \r\nQ 3109 3088 3109 3444 \r\nQ 3109 3797 2882 3972 \r\nQ 2656 4147 2194 4147 \r\nL 1259 4147 \r\nz\r\nM 628 4666 \r\nL 2241 4666 \r\nQ 2963 4666 3353 4366 \r\nQ 3744 4066 3744 3513 \r\nQ 3744 3084 3544 2831 \r\nQ 3344 2578 2956 2516 \r\nQ 3422 2416 3680 2098 \r\nQ 3938 1781 3938 1306 \r\nQ 3938 681 3513 340 \r\nQ 3088 0 2303 0 \r\nL 628 0 \r\nL 628 4666 \r\nz\r\n\" id=\"DejaVuSans-42\" transform=\"scale(0.015625)\"/>\r\n        <path d=\"M 2906 1791 \r\nQ 2906 2416 2648 2759 \r\nQ 2391 3103 1925 3103 \r\nQ 1463 3103 1205 2759 \r\nQ 947 2416 947 1791 \r\nQ 947 1169 1205 825 \r\nQ 1463 481 1925 481 \r\nQ 2391 481 2648 825 \r\nQ 2906 1169 2906 1791 \r\nz\r\nM 3481 434 \r\nQ 3481 -459 3084 -895 \r\nQ 2688 -1331 1869 -1331 \r\nQ 1566 -1331 1297 -1286 \r\nQ 1028 -1241 775 -1147 \r\nL 775 -588 \r\nQ 1028 -725 1275 -790 \r\nQ 1522 -856 1778 -856 \r\nQ 2344 -856 2625 -561 \r\nQ 2906 -266 2906 331 \r\nL 2906 616 \r\nQ 2728 306 2450 153 \r\nQ 2172 0 1784 0 \r\nQ 1141 0 747 490 \r\nQ 353 981 353 1791 \r\nQ 353 2603 747 3093 \r\nQ 1141 3584 1784 3584 \r\nQ 2172 3584 2450 3431 \r\nQ 2728 3278 2906 2969 \r\nL 2906 3500 \r\nL 3481 3500 \r\nL 3481 434 \r\nz\r\n\" id=\"DejaVuSans-67\" transform=\"scale(0.015625)\"/>\r\n        <path d=\"M 603 4863 \r\nL 1178 4863 \r\nL 1178 0 \r\nL 603 0 \r\nL 603 4863 \r\nz\r\n\" id=\"DejaVuSans-6c\" transform=\"scale(0.015625)\"/>\r\n        <path d=\"M 544 1381 \r\nL 544 3500 \r\nL 1119 3500 \r\nL 1119 1403 \r\nQ 1119 906 1312 657 \r\nQ 1506 409 1894 409 \r\nQ 2359 409 2629 706 \r\nQ 2900 1003 2900 1516 \r\nL 2900 3500 \r\nL 3475 3500 \r\nL 3475 0 \r\nL 2900 0 \r\nL 2900 538 \r\nQ 2691 219 2414 64 \r\nQ 2138 -91 1772 -91 \r\nQ 1169 -91 856 284 \r\nQ 544 659 544 1381 \r\nz\r\nM 1991 3584 \r\nL 1991 3584 \r\nz\r\n\" id=\"DejaVuSans-75\" transform=\"scale(0.015625)\"/>\r\n        <path d=\"M 2631 2963 \r\nQ 2534 3019 2420 3045 \r\nQ 2306 3072 2169 3072 \r\nQ 1681 3072 1420 2755 \r\nQ 1159 2438 1159 1844 \r\nL 1159 0 \r\nL 581 0 \r\nL 581 3500 \r\nL 1159 3500 \r\nL 1159 2956 \r\nQ 1341 3275 1631 3429 \r\nQ 1922 3584 2338 3584 \r\nQ 2397 3584 2469 3576 \r\nQ 2541 3569 2628 3553 \r\nL 2631 2963 \r\nz\r\n\" id=\"DejaVuSans-72\" transform=\"scale(0.015625)\"/>\r\n       </defs>\r\n       <use xlink:href=\"#DejaVuSans-42\"/>\r\n       <use x=\"68.603516\" xlink:href=\"#DejaVuSans-65\"/>\r\n       <use x=\"130.126953\" xlink:href=\"#DejaVuSans-6e\"/>\r\n       <use x=\"193.505859\" xlink:href=\"#DejaVuSans-67\"/>\r\n       <use x=\"256.982422\" xlink:href=\"#DejaVuSans-61\"/>\r\n       <use x=\"318.261719\" xlink:href=\"#DejaVuSans-6c\"/>\r\n       <use x=\"346.044922\" xlink:href=\"#DejaVuSans-75\"/>\r\n       <use x=\"409.423828\" xlink:href=\"#DejaVuSans-72\"/>\r\n       <use x=\"450.537109\" xlink:href=\"#DejaVuSans-75\"/>\r\n      </g>\r\n     </g>\r\n    </g>\r\n    <g id=\"xtick_3\">\r\n     <g id=\"line2d_3\">\r\n      <g>\r\n       <use style=\"stroke:#000000;stroke-width:0.8;\" x=\"74.253125\" xlink:href=\"#meb8520d12e\" y=\"245.836875\"/>\r\n      </g>\r\n     </g>\r\n     <g id=\"text_3\">\r\n      <!-- Mumbai -->\r\n      <g transform=\"translate(77.0125 292.797812)rotate(-90)scale(0.1 -0.1)\">\r\n       <defs>\r\n        <path d=\"M 628 4666 \r\nL 1569 4666 \r\nL 2759 1491 \r\nL 3956 4666 \r\nL 4897 4666 \r\nL 4897 0 \r\nL 4281 0 \r\nL 4281 4097 \r\nL 3078 897 \r\nL 2444 897 \r\nL 1241 4097 \r\nL 1241 0 \r\nL 628 0 \r\nL 628 4666 \r\nz\r\n\" id=\"DejaVuSans-4d\" transform=\"scale(0.015625)\"/>\r\n        <path d=\"M 3328 2828 \r\nQ 3544 3216 3844 3400 \r\nQ 4144 3584 4550 3584 \r\nQ 5097 3584 5394 3201 \r\nQ 5691 2819 5691 2113 \r\nL 5691 0 \r\nL 5113 0 \r\nL 5113 2094 \r\nQ 5113 2597 4934 2840 \r\nQ 4756 3084 4391 3084 \r\nQ 3944 3084 3684 2787 \r\nQ 3425 2491 3425 1978 \r\nL 3425 0 \r\nL 2847 0 \r\nL 2847 2094 \r\nQ 2847 2600 2669 2842 \r\nQ 2491 3084 2119 3084 \r\nQ 1678 3084 1418 2786 \r\nQ 1159 2488 1159 1978 \r\nL 1159 0 \r\nL 581 0 \r\nL 581 3500 \r\nL 1159 3500 \r\nL 1159 2956 \r\nQ 1356 3278 1631 3431 \r\nQ 1906 3584 2284 3584 \r\nQ 2666 3584 2933 3390 \r\nQ 3200 3197 3328 2828 \r\nz\r\n\" id=\"DejaVuSans-6d\" transform=\"scale(0.015625)\"/>\r\n        <path d=\"M 3116 1747 \r\nQ 3116 2381 2855 2742 \r\nQ 2594 3103 2138 3103 \r\nQ 1681 3103 1420 2742 \r\nQ 1159 2381 1159 1747 \r\nQ 1159 1113 1420 752 \r\nQ 1681 391 2138 391 \r\nQ 2594 391 2855 752 \r\nQ 3116 1113 3116 1747 \r\nz\r\nM 1159 2969 \r\nQ 1341 3281 1617 3432 \r\nQ 1894 3584 2278 3584 \r\nQ 2916 3584 3314 3078 \r\nQ 3713 2572 3713 1747 \r\nQ 3713 922 3314 415 \r\nQ 2916 -91 2278 -91 \r\nQ 1894 -91 1617 61 \r\nQ 1341 213 1159 525 \r\nL 1159 0 \r\nL 581 0 \r\nL 581 4863 \r\nL 1159 4863 \r\nL 1159 2969 \r\nz\r\n\" id=\"DejaVuSans-62\" transform=\"scale(0.015625)\"/>\r\n       </defs>\r\n       <use xlink:href=\"#DejaVuSans-4d\"/>\r\n       <use x=\"86.279297\" xlink:href=\"#DejaVuSans-75\"/>\r\n       <use x=\"149.658203\" xlink:href=\"#DejaVuSans-6d\"/>\r\n       <use x=\"247.070312\" xlink:href=\"#DejaVuSans-62\"/>\r\n       <use x=\"310.546875\" xlink:href=\"#DejaVuSans-61\"/>\r\n       <use x=\"371.826172\" xlink:href=\"#DejaVuSans-69\"/>\r\n      </g>\r\n     </g>\r\n    </g>\r\n    <g id=\"xtick_4\">\r\n     <g id=\"line2d_4\">\r\n      <g>\r\n       <use style=\"stroke:#000000;stroke-width:0.8;\" x=\"82.623125\" xlink:href=\"#meb8520d12e\" y=\"245.836875\"/>\r\n      </g>\r\n     </g>\r\n     <g id=\"text_4\">\r\n      <!-- Kolkata -->\r\n      <g transform=\"translate(85.3825 289.58375)rotate(-90)scale(0.1 -0.1)\">\r\n       <defs>\r\n        <path d=\"M 628 4666 \r\nL 1259 4666 \r\nL 1259 2694 \r\nL 3353 4666 \r\nL 4166 4666 \r\nL 1850 2491 \r\nL 4331 0 \r\nL 3500 0 \r\nL 1259 2247 \r\nL 1259 0 \r\nL 628 0 \r\nL 628 4666 \r\nz\r\n\" id=\"DejaVuSans-4b\" transform=\"scale(0.015625)\"/>\r\n        <path d=\"M 1959 3097 \r\nQ 1497 3097 1228 2736 \r\nQ 959 2375 959 1747 \r\nQ 959 1119 1226 758 \r\nQ 1494 397 1959 397 \r\nQ 2419 397 2687 759 \r\nQ 2956 1122 2956 1747 \r\nQ 2956 2369 2687 2733 \r\nQ 2419 3097 1959 3097 \r\nz\r\nM 1959 3584 \r\nQ 2709 3584 3137 3096 \r\nQ 3566 2609 3566 1747 \r\nQ 3566 888 3137 398 \r\nQ 2709 -91 1959 -91 \r\nQ 1206 -91 779 398 \r\nQ 353 888 353 1747 \r\nQ 353 2609 779 3096 \r\nQ 1206 3584 1959 3584 \r\nz\r\n\" id=\"DejaVuSans-6f\" transform=\"scale(0.015625)\"/>\r\n        <path d=\"M 581 4863 \r\nL 1159 4863 \r\nL 1159 1991 \r\nL 2875 3500 \r\nL 3609 3500 \r\nL 1753 1863 \r\nL 3688 0 \r\nL 2938 0 \r\nL 1159 1709 \r\nL 1159 0 \r\nL 581 0 \r\nL 581 4863 \r\nz\r\n\" id=\"DejaVuSans-6b\" transform=\"scale(0.015625)\"/>\r\n        <path d=\"M 1172 4494 \r\nL 1172 3500 \r\nL 2356 3500 \r\nL 2356 3053 \r\nL 1172 3053 \r\nL 1172 1153 \r\nQ 1172 725 1289 603 \r\nQ 1406 481 1766 481 \r\nL 2356 481 \r\nL 2356 0 \r\nL 1766 0 \r\nQ 1100 0 847 248 \r\nQ 594 497 594 1153 \r\nL 594 3053 \r\nL 172 3053 \r\nL 172 3500 \r\nL 594 3500 \r\nL 594 4494 \r\nL 1172 4494 \r\nz\r\n\" id=\"DejaVuSans-74\" transform=\"scale(0.015625)\"/>\r\n       </defs>\r\n       <use xlink:href=\"#DejaVuSans-4b\"/>\r\n       <use x=\"60.576172\" xlink:href=\"#DejaVuSans-6f\"/>\r\n       <use x=\"121.757812\" xlink:href=\"#DejaVuSans-6c\"/>\r\n       <use x=\"149.541016\" xlink:href=\"#DejaVuSans-6b\"/>\r\n       <use x=\"205.701172\" xlink:href=\"#DejaVuSans-61\"/>\r\n       <use x=\"266.980469\" xlink:href=\"#DejaVuSans-74\"/>\r\n       <use x=\"306.189453\" xlink:href=\"#DejaVuSans-61\"/>\r\n      </g>\r\n     </g>\r\n    </g>\r\n    <g id=\"xtick_5\">\r\n     <g id=\"line2d_5\">\r\n      <g>\r\n       <use style=\"stroke:#000000;stroke-width:0.8;\" x=\"90.993125\" xlink:href=\"#meb8520d12e\" y=\"245.836875\"/>\r\n      </g>\r\n     </g>\r\n     <g id=\"text_5\">\r\n      <!-- Coimbatore -->\r\n      <g transform=\"translate(93.7525 311.011875)rotate(-90)scale(0.1 -0.1)\">\r\n       <use xlink:href=\"#DejaVuSans-43\"/>\r\n       <use x=\"69.824219\" xlink:href=\"#DejaVuSans-6f\"/>\r\n       <use x=\"131.005859\" xlink:href=\"#DejaVuSans-69\"/>\r\n       <use x=\"158.789062\" xlink:href=\"#DejaVuSans-6d\"/>\r\n       <use x=\"256.201172\" xlink:href=\"#DejaVuSans-62\"/>\r\n       <use x=\"319.677734\" xlink:href=\"#DejaVuSans-61\"/>\r\n       <use x=\"380.957031\" xlink:href=\"#DejaVuSans-74\"/>\r\n       <use x=\"420.166016\" xlink:href=\"#DejaVuSans-6f\"/>\r\n       <use x=\"481.347656\" xlink:href=\"#DejaVuSans-72\"/>\r\n       <use x=\"520.210938\" xlink:href=\"#DejaVuSans-65\"/>\r\n      </g>\r\n     </g>\r\n    </g>\r\n    <g id=\"xtick_6\">\r\n     <g id=\"line2d_6\">\r\n      <g>\r\n       <use style=\"stroke:#000000;stroke-width:0.8;\" x=\"99.363125\" xlink:href=\"#meb8520d12e\" y=\"245.836875\"/>\r\n      </g>\r\n     </g>\r\n     <g id=\"text_6\">\r\n      <!-- NCR -->\r\n      <g transform=\"translate(102.1225 274.249375)rotate(-90)scale(0.1 -0.1)\">\r\n       <defs>\r\n        <path d=\"M 628 4666 \r\nL 1478 4666 \r\nL 3547 763 \r\nL 3547 4666 \r\nL 4159 4666 \r\nL 4159 0 \r\nL 3309 0 \r\nL 1241 3903 \r\nL 1241 0 \r\nL 628 0 \r\nL 628 4666 \r\nz\r\n\" id=\"DejaVuSans-4e\" transform=\"scale(0.015625)\"/>\r\n        <path d=\"M 2841 2188 \r\nQ 3044 2119 3236 1894 \r\nQ 3428 1669 3622 1275 \r\nL 4263 0 \r\nL 3584 0 \r\nL 2988 1197 \r\nQ 2756 1666 2539 1819 \r\nQ 2322 1972 1947 1972 \r\nL 1259 1972 \r\nL 1259 0 \r\nL 628 0 \r\nL 628 4666 \r\nL 2053 4666 \r\nQ 2853 4666 3247 4331 \r\nQ 3641 3997 3641 3322 \r\nQ 3641 2881 3436 2590 \r\nQ 3231 2300 2841 2188 \r\nz\r\nM 1259 4147 \r\nL 1259 2491 \r\nL 2053 2491 \r\nQ 2509 2491 2742 2702 \r\nQ 2975 2913 2975 3322 \r\nQ 2975 3731 2742 3939 \r\nQ 2509 4147 2053 4147 \r\nL 1259 4147 \r\nz\r\n\" id=\"DejaVuSans-52\" transform=\"scale(0.015625)\"/>\r\n       </defs>\r\n       <use xlink:href=\"#DejaVuSans-4e\"/>\r\n       <use x=\"74.804688\" xlink:href=\"#DejaVuSans-43\"/>\r\n       <use x=\"144.628906\" xlink:href=\"#DejaVuSans-52\"/>\r\n      </g>\r\n     </g>\r\n    </g>\r\n    <g id=\"xtick_7\">\r\n     <g id=\"line2d_7\">\r\n      <g>\r\n       <use style=\"stroke:#000000;stroke-width:0.8;\" x=\"107.733125\" xlink:href=\"#meb8520d12e\" y=\"245.836875\"/>\r\n      </g>\r\n     </g>\r\n     <g id=\"text_7\">\r\n      <!-- Kochi -->\r\n      <g transform=\"translate(110.4925 279.6275)rotate(-90)scale(0.1 -0.1)\">\r\n       <defs>\r\n        <path d=\"M 3122 3366 \r\nL 3122 2828 \r\nQ 2878 2963 2633 3030 \r\nQ 2388 3097 2138 3097 \r\nQ 1578 3097 1268 2742 \r\nQ 959 2388 959 1747 \r\nQ 959 1106 1268 751 \r\nQ 1578 397 2138 397 \r\nQ 2388 397 2633 464 \r\nQ 2878 531 3122 666 \r\nL 3122 134 \r\nQ 2881 22 2623 -34 \r\nQ 2366 -91 2075 -91 \r\nQ 1284 -91 818 406 \r\nQ 353 903 353 1747 \r\nQ 353 2603 823 3093 \r\nQ 1294 3584 2113 3584 \r\nQ 2378 3584 2631 3529 \r\nQ 2884 3475 3122 3366 \r\nz\r\n\" id=\"DejaVuSans-63\" transform=\"scale(0.015625)\"/>\r\n       </defs>\r\n       <use xlink:href=\"#DejaVuSans-4b\"/>\r\n       <use x=\"60.576172\" xlink:href=\"#DejaVuSans-6f\"/>\r\n       <use x=\"121.757812\" xlink:href=\"#DejaVuSans-63\"/>\r\n       <use x=\"176.738281\" xlink:href=\"#DejaVuSans-68\"/>\r\n       <use x=\"240.117188\" xlink:href=\"#DejaVuSans-69\"/>\r\n      </g>\r\n     </g>\r\n    </g>\r\n    <g id=\"xtick_8\">\r\n     <g id=\"line2d_8\">\r\n      <g>\r\n       <use style=\"stroke:#000000;stroke-width:0.8;\" x=\"116.103125\" xlink:href=\"#meb8520d12e\" y=\"245.836875\"/>\r\n      </g>\r\n     </g>\r\n     <g id=\"text_8\">\r\n      <!-- Hyderabad -->\r\n      <g transform=\"translate(118.8625 307.841562)rotate(-90)scale(0.1 -0.1)\">\r\n       <defs>\r\n        <path d=\"M 628 4666 \r\nL 1259 4666 \r\nL 1259 2753 \r\nL 3553 2753 \r\nL 3553 4666 \r\nL 4184 4666 \r\nL 4184 0 \r\nL 3553 0 \r\nL 3553 2222 \r\nL 1259 2222 \r\nL 1259 0 \r\nL 628 0 \r\nL 628 4666 \r\nz\r\n\" id=\"DejaVuSans-48\" transform=\"scale(0.015625)\"/>\r\n        <path d=\"M 2059 -325 \r\nQ 1816 -950 1584 -1140 \r\nQ 1353 -1331 966 -1331 \r\nL 506 -1331 \r\nL 506 -850 \r\nL 844 -850 \r\nQ 1081 -850 1212 -737 \r\nQ 1344 -625 1503 -206 \r\nL 1606 56 \r\nL 191 3500 \r\nL 800 3500 \r\nL 1894 763 \r\nL 2988 3500 \r\nL 3597 3500 \r\nL 2059 -325 \r\nz\r\n\" id=\"DejaVuSans-79\" transform=\"scale(0.015625)\"/>\r\n        <path d=\"M 2906 2969 \r\nL 2906 4863 \r\nL 3481 4863 \r\nL 3481 0 \r\nL 2906 0 \r\nL 2906 525 \r\nQ 2725 213 2448 61 \r\nQ 2172 -91 1784 -91 \r\nQ 1150 -91 751 415 \r\nQ 353 922 353 1747 \r\nQ 353 2572 751 3078 \r\nQ 1150 3584 1784 3584 \r\nQ 2172 3584 2448 3432 \r\nQ 2725 3281 2906 2969 \r\nz\r\nM 947 1747 \r\nQ 947 1113 1208 752 \r\nQ 1469 391 1925 391 \r\nQ 2381 391 2643 752 \r\nQ 2906 1113 2906 1747 \r\nQ 2906 2381 2643 2742 \r\nQ 2381 3103 1925 3103 \r\nQ 1469 3103 1208 2742 \r\nQ 947 2381 947 1747 \r\nz\r\n\" id=\"DejaVuSans-64\" transform=\"scale(0.015625)\"/>\r\n       </defs>\r\n       <use xlink:href=\"#DejaVuSans-48\"/>\r\n       <use x=\"75.195312\" xlink:href=\"#DejaVuSans-79\"/>\r\n       <use x=\"134.375\" xlink:href=\"#DejaVuSans-64\"/>\r\n       <use x=\"197.851562\" xlink:href=\"#DejaVuSans-65\"/>\r\n       <use x=\"259.375\" xlink:href=\"#DejaVuSans-72\"/>\r\n       <use x=\"300.488281\" xlink:href=\"#DejaVuSans-61\"/>\r\n       <use x=\"361.767578\" xlink:href=\"#DejaVuSans-62\"/>\r\n       <use x=\"425.244141\" xlink:href=\"#DejaVuSans-61\"/>\r\n       <use x=\"486.523438\" xlink:href=\"#DejaVuSans-64\"/>\r\n      </g>\r\n     </g>\r\n    </g>\r\n    <g id=\"xtick_9\">\r\n     <g id=\"line2d_9\">\r\n      <g>\r\n       <use style=\"stroke:#000000;stroke-width:0.8;\" x=\"124.473125\" xlink:href=\"#meb8520d12e\" y=\"245.836875\"/>\r\n      </g>\r\n     </g>\r\n     <g id=\"text_9\">\r\n      <!-- Lucknow -->\r\n      <g transform=\"translate(127.2325 296.494687)rotate(-90)scale(0.1 -0.1)\">\r\n       <defs>\r\n        <path d=\"M 628 4666 \r\nL 1259 4666 \r\nL 1259 531 \r\nL 3531 531 \r\nL 3531 0 \r\nL 628 0 \r\nL 628 4666 \r\nz\r\n\" id=\"DejaVuSans-4c\" transform=\"scale(0.015625)\"/>\r\n        <path d=\"M 269 3500 \r\nL 844 3500 \r\nL 1563 769 \r\nL 2278 3500 \r\nL 2956 3500 \r\nL 3675 769 \r\nL 4391 3500 \r\nL 4966 3500 \r\nL 4050 0 \r\nL 3372 0 \r\nL 2619 2869 \r\nL 1863 0 \r\nL 1184 0 \r\nL 269 3500 \r\nz\r\n\" id=\"DejaVuSans-77\" transform=\"scale(0.015625)\"/>\r\n       </defs>\r\n       <use xlink:href=\"#DejaVuSans-4c\"/>\r\n       <use x=\"53.962891\" xlink:href=\"#DejaVuSans-75\"/>\r\n       <use x=\"117.341797\" xlink:href=\"#DejaVuSans-63\"/>\r\n       <use x=\"172.322266\" xlink:href=\"#DejaVuSans-6b\"/>\r\n       <use x=\"230.232422\" xlink:href=\"#DejaVuSans-6e\"/>\r\n       <use x=\"293.611328\" xlink:href=\"#DejaVuSans-6f\"/>\r\n       <use x=\"354.792969\" xlink:href=\"#DejaVuSans-77\"/>\r\n      </g>\r\n     </g>\r\n    </g>\r\n    <g id=\"xtick_10\">\r\n     <g id=\"line2d_10\">\r\n      <g>\r\n       <use style=\"stroke:#000000;stroke-width:0.8;\" x=\"132.843125\" xlink:href=\"#meb8520d12e\" y=\"245.836875\"/>\r\n      </g>\r\n     </g>\r\n     <g id=\"text_10\">\r\n      <!-- Delhi -->\r\n      <g transform=\"translate(135.6025 278.58375)rotate(-90)scale(0.1 -0.1)\">\r\n       <defs>\r\n        <path d=\"M 1259 4147 \r\nL 1259 519 \r\nL 2022 519 \r\nQ 2988 519 3436 956 \r\nQ 3884 1394 3884 2338 \r\nQ 3884 3275 3436 3711 \r\nQ 2988 4147 2022 4147 \r\nL 1259 4147 \r\nz\r\nM 628 4666 \r\nL 1925 4666 \r\nQ 3281 4666 3915 4102 \r\nQ 4550 3538 4550 2338 \r\nQ 4550 1131 3912 565 \r\nQ 3275 0 1925 0 \r\nL 628 0 \r\nL 628 4666 \r\nz\r\n\" id=\"DejaVuSans-44\" transform=\"scale(0.015625)\"/>\r\n       </defs>\r\n       <use xlink:href=\"#DejaVuSans-44\"/>\r\n       <use x=\"77.001953\" xlink:href=\"#DejaVuSans-65\"/>\r\n       <use x=\"138.525391\" xlink:href=\"#DejaVuSans-6c\"/>\r\n       <use x=\"166.308594\" xlink:href=\"#DejaVuSans-68\"/>\r\n       <use x=\"229.6875\" xlink:href=\"#DejaVuSans-69\"/>\r\n      </g>\r\n     </g>\r\n    </g>\r\n    <g id=\"xtick_11\">\r\n     <g id=\"line2d_11\">\r\n      <g>\r\n       <use style=\"stroke:#000000;stroke-width:0.8;\" x=\"141.213125\" xlink:href=\"#meb8520d12e\" y=\"245.836875\"/>\r\n      </g>\r\n     </g>\r\n     <g id=\"text_11\">\r\n      <!-- Visakhapatnam -->\r\n      <g transform=\"translate(143.9725 330.4275)rotate(-90)scale(0.1 -0.1)\">\r\n       <defs>\r\n        <path d=\"M 1831 0 \r\nL 50 4666 \r\nL 709 4666 \r\nL 2188 738 \r\nL 3669 4666 \r\nL 4325 4666 \r\nL 2547 0 \r\nL 1831 0 \r\nz\r\n\" id=\"DejaVuSans-56\" transform=\"scale(0.015625)\"/>\r\n        <path d=\"M 2834 3397 \r\nL 2834 2853 \r\nQ 2591 2978 2328 3040 \r\nQ 2066 3103 1784 3103 \r\nQ 1356 3103 1142 2972 \r\nQ 928 2841 928 2578 \r\nQ 928 2378 1081 2264 \r\nQ 1234 2150 1697 2047 \r\nL 1894 2003 \r\nQ 2506 1872 2764 1633 \r\nQ 3022 1394 3022 966 \r\nQ 3022 478 2636 193 \r\nQ 2250 -91 1575 -91 \r\nQ 1294 -91 989 -36 \r\nQ 684 19 347 128 \r\nL 347 722 \r\nQ 666 556 975 473 \r\nQ 1284 391 1588 391 \r\nQ 1994 391 2212 530 \r\nQ 2431 669 2431 922 \r\nQ 2431 1156 2273 1281 \r\nQ 2116 1406 1581 1522 \r\nL 1381 1569 \r\nQ 847 1681 609 1914 \r\nQ 372 2147 372 2553 \r\nQ 372 3047 722 3315 \r\nQ 1072 3584 1716 3584 \r\nQ 2034 3584 2315 3537 \r\nQ 2597 3491 2834 3397 \r\nz\r\n\" id=\"DejaVuSans-73\" transform=\"scale(0.015625)\"/>\r\n        <path d=\"M 1159 525 \r\nL 1159 -1331 \r\nL 581 -1331 \r\nL 581 3500 \r\nL 1159 3500 \r\nL 1159 2969 \r\nQ 1341 3281 1617 3432 \r\nQ 1894 3584 2278 3584 \r\nQ 2916 3584 3314 3078 \r\nQ 3713 2572 3713 1747 \r\nQ 3713 922 3314 415 \r\nQ 2916 -91 2278 -91 \r\nQ 1894 -91 1617 61 \r\nQ 1341 213 1159 525 \r\nz\r\nM 3116 1747 \r\nQ 3116 2381 2855 2742 \r\nQ 2594 3103 2138 3103 \r\nQ 1681 3103 1420 2742 \r\nQ 1159 2381 1159 1747 \r\nQ 1159 1113 1420 752 \r\nQ 1681 391 2138 391 \r\nQ 2594 391 2855 752 \r\nQ 3116 1113 3116 1747 \r\nz\r\n\" id=\"DejaVuSans-70\" transform=\"scale(0.015625)\"/>\r\n       </defs>\r\n       <use xlink:href=\"#DejaVuSans-56\"/>\r\n       <use x=\"66.158203\" xlink:href=\"#DejaVuSans-69\"/>\r\n       <use x=\"93.941406\" xlink:href=\"#DejaVuSans-73\"/>\r\n       <use x=\"146.041016\" xlink:href=\"#DejaVuSans-61\"/>\r\n       <use x=\"207.320312\" xlink:href=\"#DejaVuSans-6b\"/>\r\n       <use x=\"265.230469\" xlink:href=\"#DejaVuSans-68\"/>\r\n       <use x=\"328.609375\" xlink:href=\"#DejaVuSans-61\"/>\r\n       <use x=\"389.888672\" xlink:href=\"#DejaVuSans-70\"/>\r\n       <use x=\"453.365234\" xlink:href=\"#DejaVuSans-61\"/>\r\n       <use x=\"514.644531\" xlink:href=\"#DejaVuSans-74\"/>\r\n       <use x=\"553.853516\" xlink:href=\"#DejaVuSans-6e\"/>\r\n       <use x=\"617.232422\" xlink:href=\"#DejaVuSans-61\"/>\r\n       <use x=\"678.511719\" xlink:href=\"#DejaVuSans-6d\"/>\r\n      </g>\r\n     </g>\r\n    </g>\r\n    <g id=\"xtick_12\">\r\n     <g id=\"line2d_12\">\r\n      <g>\r\n       <use style=\"stroke:#000000;stroke-width:0.8;\" x=\"149.583125\" xlink:href=\"#meb8520d12e\" y=\"245.836875\"/>\r\n      </g>\r\n     </g>\r\n     <g id=\"text_12\">\r\n      <!-- Ahmedabad -->\r\n      <g transform=\"translate(152.3425 313.210312)rotate(-90)scale(0.1 -0.1)\">\r\n       <defs>\r\n        <path d=\"M 2188 4044 \r\nL 1331 1722 \r\nL 3047 1722 \r\nL 2188 4044 \r\nz\r\nM 1831 4666 \r\nL 2547 4666 \r\nL 4325 0 \r\nL 3669 0 \r\nL 3244 1197 \r\nL 1141 1197 \r\nL 716 0 \r\nL 50 0 \r\nL 1831 4666 \r\nz\r\n\" id=\"DejaVuSans-41\" transform=\"scale(0.015625)\"/>\r\n       </defs>\r\n       <use xlink:href=\"#DejaVuSans-41\"/>\r\n       <use x=\"68.408203\" xlink:href=\"#DejaVuSans-68\"/>\r\n       <use x=\"131.787109\" xlink:href=\"#DejaVuSans-6d\"/>\r\n       <use x=\"229.199219\" xlink:href=\"#DejaVuSans-65\"/>\r\n       <use x=\"290.722656\" xlink:href=\"#DejaVuSans-64\"/>\r\n       <use x=\"354.199219\" xlink:href=\"#DejaVuSans-61\"/>\r\n       <use x=\"415.478516\" xlink:href=\"#DejaVuSans-62\"/>\r\n       <use x=\"478.955078\" xlink:href=\"#DejaVuSans-61\"/>\r\n       <use x=\"540.234375\" xlink:href=\"#DejaVuSans-64\"/>\r\n      </g>\r\n     </g>\r\n    </g>\r\n    <g id=\"xtick_13\">\r\n     <g id=\"line2d_13\">\r\n      <g>\r\n       <use style=\"stroke:#000000;stroke-width:0.8;\" x=\"157.953125\" xlink:href=\"#meb8520d12e\" y=\"245.836875\"/>\r\n      </g>\r\n     </g>\r\n     <g id=\"text_13\">\r\n      <!-- Pune -->\r\n      <g transform=\"translate(160.7125 277.519687)rotate(-90)scale(0.1 -0.1)\">\r\n       <defs>\r\n        <path d=\"M 1259 4147 \r\nL 1259 2394 \r\nL 2053 2394 \r\nQ 2494 2394 2734 2622 \r\nQ 2975 2850 2975 3272 \r\nQ 2975 3691 2734 3919 \r\nQ 2494 4147 2053 4147 \r\nL 1259 4147 \r\nz\r\nM 628 4666 \r\nL 2053 4666 \r\nQ 2838 4666 3239 4311 \r\nQ 3641 3956 3641 3272 \r\nQ 3641 2581 3239 2228 \r\nQ 2838 1875 2053 1875 \r\nL 1259 1875 \r\nL 1259 0 \r\nL 628 0 \r\nL 628 4666 \r\nz\r\n\" id=\"DejaVuSans-50\" transform=\"scale(0.015625)\"/>\r\n       </defs>\r\n       <use xlink:href=\"#DejaVuSans-50\"/>\r\n       <use x=\"58.552734\" xlink:href=\"#DejaVuSans-75\"/>\r\n       <use x=\"121.931641\" xlink:href=\"#DejaVuSans-6e\"/>\r\n       <use x=\"185.310547\" xlink:href=\"#DejaVuSans-65\"/>\r\n      </g>\r\n     </g>\r\n    </g>\r\n    <g id=\"xtick_14\">\r\n     <g id=\"line2d_14\">\r\n      <g>\r\n       <use style=\"stroke:#000000;stroke-width:0.8;\" x=\"166.323125\" xlink:href=\"#meb8520d12e\" y=\"245.836875\"/>\r\n      </g>\r\n     </g>\r\n     <g id=\"text_14\">\r\n      <!-- Indore -->\r\n      <g transform=\"translate(169.0825 284.630625)rotate(-90)scale(0.1 -0.1)\">\r\n       <defs>\r\n        <path d=\"M 628 4666 \r\nL 1259 4666 \r\nL 1259 0 \r\nL 628 0 \r\nL 628 4666 \r\nz\r\n\" id=\"DejaVuSans-49\" transform=\"scale(0.015625)\"/>\r\n       </defs>\r\n       <use xlink:href=\"#DejaVuSans-49\"/>\r\n       <use x=\"29.492188\" xlink:href=\"#DejaVuSans-6e\"/>\r\n       <use x=\"92.871094\" xlink:href=\"#DejaVuSans-64\"/>\r\n       <use x=\"156.347656\" xlink:href=\"#DejaVuSans-6f\"/>\r\n       <use x=\"217.529297\" xlink:href=\"#DejaVuSans-72\"/>\r\n       <use x=\"256.392578\" xlink:href=\"#DejaVuSans-65\"/>\r\n      </g>\r\n     </g>\r\n    </g>\r\n    <g id=\"xtick_15\">\r\n     <g id=\"line2d_15\">\r\n      <g>\r\n       <use style=\"stroke:#000000;stroke-width:0.8;\" x=\"174.693125\" xlink:href=\"#meb8520d12e\" y=\"245.836875\"/>\r\n      </g>\r\n     </g>\r\n     <g id=\"text_15\">\r\n      <!-- Chandigarh -->\r\n      <g transform=\"translate(177.4525 310.499375)rotate(-90)scale(0.1 -0.1)\">\r\n       <use xlink:href=\"#DejaVuSans-43\"/>\r\n       <use x=\"69.824219\" xlink:href=\"#DejaVuSans-68\"/>\r\n       <use x=\"133.203125\" xlink:href=\"#DejaVuSans-61\"/>\r\n       <use x=\"194.482422\" xlink:href=\"#DejaVuSans-6e\"/>\r\n       <use x=\"257.861328\" xlink:href=\"#DejaVuSans-64\"/>\r\n       <use x=\"321.337891\" xlink:href=\"#DejaVuSans-69\"/>\r\n       <use x=\"349.121094\" xlink:href=\"#DejaVuSans-67\"/>\r\n       <use x=\"412.597656\" xlink:href=\"#DejaVuSans-61\"/>\r\n       <use x=\"473.876953\" xlink:href=\"#DejaVuSans-72\"/>\r\n       <use x=\"513.240234\" xlink:href=\"#DejaVuSans-68\"/>\r\n      </g>\r\n     </g>\r\n    </g>\r\n    <g id=\"xtick_16\">\r\n     <g id=\"line2d_16\">\r\n      <g>\r\n       <use style=\"stroke:#000000;stroke-width:0.8;\" x=\"183.063125\" xlink:href=\"#meb8520d12e\" y=\"245.836875\"/>\r\n      </g>\r\n     </g>\r\n     <g id=\"text_16\">\r\n      <!-- Jaipur -->\r\n      <g transform=\"translate(185.8225 281.49)rotate(-90)scale(0.1 -0.1)\">\r\n       <defs>\r\n        <path d=\"M 628 4666 \r\nL 1259 4666 \r\nL 1259 325 \r\nQ 1259 -519 939 -900 \r\nQ 619 -1281 -91 -1281 \r\nL -331 -1281 \r\nL -331 -750 \r\nL -134 -750 \r\nQ 284 -750 456 -515 \r\nQ 628 -281 628 325 \r\nL 628 4666 \r\nz\r\n\" id=\"DejaVuSans-4a\" transform=\"scale(0.015625)\"/>\r\n       </defs>\r\n       <use xlink:href=\"#DejaVuSans-4a\"/>\r\n       <use x=\"29.492188\" xlink:href=\"#DejaVuSans-61\"/>\r\n       <use x=\"90.771484\" xlink:href=\"#DejaVuSans-69\"/>\r\n       <use x=\"118.554688\" xlink:href=\"#DejaVuSans-70\"/>\r\n       <use x=\"182.03125\" xlink:href=\"#DejaVuSans-75\"/>\r\n       <use x=\"245.410156\" xlink:href=\"#DejaVuSans-72\"/>\r\n      </g>\r\n     </g>\r\n    </g>\r\n    <g id=\"xtick_17\">\r\n     <g id=\"line2d_17\">\r\n      <g>\r\n       <use style=\"stroke:#000000;stroke-width:0.8;\" x=\"191.433125\" xlink:href=\"#meb8520d12e\" y=\"245.836875\"/>\r\n      </g>\r\n     </g>\r\n     <g id=\"text_17\">\r\n      <!-- Vijayawada -->\r\n      <g transform=\"translate(194.1925 309.966562)rotate(-90)scale(0.1 -0.1)\">\r\n       <defs>\r\n        <path d=\"M 603 3500 \r\nL 1178 3500 \r\nL 1178 -63 \r\nQ 1178 -731 923 -1031 \r\nQ 669 -1331 103 -1331 \r\nL -116 -1331 \r\nL -116 -844 \r\nL 38 -844 \r\nQ 366 -844 484 -692 \r\nQ 603 -541 603 -63 \r\nL 603 3500 \r\nz\r\nM 603 4863 \r\nL 1178 4863 \r\nL 1178 4134 \r\nL 603 4134 \r\nL 603 4863 \r\nz\r\n\" id=\"DejaVuSans-6a\" transform=\"scale(0.015625)\"/>\r\n       </defs>\r\n       <use xlink:href=\"#DejaVuSans-56\"/>\r\n       <use x=\"66.158203\" xlink:href=\"#DejaVuSans-69\"/>\r\n       <use x=\"93.941406\" xlink:href=\"#DejaVuSans-6a\"/>\r\n       <use x=\"121.724609\" xlink:href=\"#DejaVuSans-61\"/>\r\n       <use x=\"183.003906\" xlink:href=\"#DejaVuSans-79\"/>\r\n       <use x=\"242.183594\" xlink:href=\"#DejaVuSans-61\"/>\r\n       <use x=\"303.462891\" xlink:href=\"#DejaVuSans-77\"/>\r\n       <use x=\"385.25\" xlink:href=\"#DejaVuSans-61\"/>\r\n       <use x=\"446.529297\" xlink:href=\"#DejaVuSans-64\"/>\r\n       <use x=\"510.005859\" xlink:href=\"#DejaVuSans-61\"/>\r\n      </g>\r\n     </g>\r\n    </g>\r\n    <g id=\"xtick_18\">\r\n     <g id=\"line2d_18\">\r\n      <g>\r\n       <use style=\"stroke:#000000;stroke-width:0.8;\" x=\"199.803125\" xlink:href=\"#meb8520d12e\" y=\"245.836875\"/>\r\n      </g>\r\n     </g>\r\n     <g id=\"text_18\">\r\n      <!-- Trivandrum -->\r\n      <g transform=\"translate(202.5625 309.280625)rotate(-90)scale(0.1 -0.1)\">\r\n       <defs>\r\n        <path d=\"M -19 4666 \r\nL 3928 4666 \r\nL 3928 4134 \r\nL 2272 4134 \r\nL 2272 0 \r\nL 1638 0 \r\nL 1638 4134 \r\nL -19 4134 \r\nL -19 4666 \r\nz\r\n\" id=\"DejaVuSans-54\" transform=\"scale(0.015625)\"/>\r\n        <path d=\"M 191 3500 \r\nL 800 3500 \r\nL 1894 563 \r\nL 2988 3500 \r\nL 3597 3500 \r\nL 2284 0 \r\nL 1503 0 \r\nL 191 3500 \r\nz\r\n\" id=\"DejaVuSans-76\" transform=\"scale(0.015625)\"/>\r\n       </defs>\r\n       <use xlink:href=\"#DejaVuSans-54\"/>\r\n       <use x=\"46.333984\" xlink:href=\"#DejaVuSans-72\"/>\r\n       <use x=\"87.447266\" xlink:href=\"#DejaVuSans-69\"/>\r\n       <use x=\"115.230469\" xlink:href=\"#DejaVuSans-76\"/>\r\n       <use x=\"174.410156\" xlink:href=\"#DejaVuSans-61\"/>\r\n       <use x=\"235.689453\" xlink:href=\"#DejaVuSans-6e\"/>\r\n       <use x=\"299.068359\" xlink:href=\"#DejaVuSans-64\"/>\r\n       <use x=\"362.544922\" xlink:href=\"#DejaVuSans-72\"/>\r\n       <use x=\"403.658203\" xlink:href=\"#DejaVuSans-75\"/>\r\n       <use x=\"467.037109\" xlink:href=\"#DejaVuSans-6d\"/>\r\n      </g>\r\n     </g>\r\n    </g>\r\n    <g id=\"xtick_19\">\r\n     <g id=\"line2d_19\">\r\n      <g>\r\n       <use style=\"stroke:#000000;stroke-width:0.8;\" x=\"208.173125\" xlink:href=\"#meb8520d12e\" y=\"245.836875\"/>\r\n      </g>\r\n     </g>\r\n     <g id=\"text_19\">\r\n      <!-- Bangalore -->\r\n      <g transform=\"translate(210.9325 303.575937)rotate(-90)scale(0.1 -0.1)\">\r\n       <use xlink:href=\"#DejaVuSans-42\"/>\r\n       <use x=\"68.603516\" xlink:href=\"#DejaVuSans-61\"/>\r\n       <use x=\"129.882812\" xlink:href=\"#DejaVuSans-6e\"/>\r\n       <use x=\"193.261719\" xlink:href=\"#DejaVuSans-67\"/>\r\n       <use x=\"256.738281\" xlink:href=\"#DejaVuSans-61\"/>\r\n       <use x=\"318.017578\" xlink:href=\"#DejaVuSans-6c\"/>\r\n       <use x=\"345.800781\" xlink:href=\"#DejaVuSans-6f\"/>\r\n       <use x=\"406.982422\" xlink:href=\"#DejaVuSans-72\"/>\r\n       <use x=\"445.845703\" xlink:href=\"#DejaVuSans-65\"/>\r\n      </g>\r\n     </g>\r\n    </g>\r\n    <g id=\"xtick_20\">\r\n     <g id=\"line2d_20\">\r\n      <g>\r\n       <use style=\"stroke:#000000;stroke-width:0.8;\" x=\"216.543125\" xlink:href=\"#meb8520d12e\" y=\"245.836875\"/>\r\n      </g>\r\n     </g>\r\n     <g id=\"text_20\">\r\n      <!-- Surat -->\r\n      <g transform=\"translate(219.3025 279.682187)rotate(-90)scale(0.1 -0.1)\">\r\n       <defs>\r\n        <path d=\"M 3425 4513 \r\nL 3425 3897 \r\nQ 3066 4069 2747 4153 \r\nQ 2428 4238 2131 4238 \r\nQ 1616 4238 1336 4038 \r\nQ 1056 3838 1056 3469 \r\nQ 1056 3159 1242 3001 \r\nQ 1428 2844 1947 2747 \r\nL 2328 2669 \r\nQ 3034 2534 3370 2195 \r\nQ 3706 1856 3706 1288 \r\nQ 3706 609 3251 259 \r\nQ 2797 -91 1919 -91 \r\nQ 1588 -91 1214 -16 \r\nQ 841 59 441 206 \r\nL 441 856 \r\nQ 825 641 1194 531 \r\nQ 1563 422 1919 422 \r\nQ 2459 422 2753 634 \r\nQ 3047 847 3047 1241 \r\nQ 3047 1584 2836 1778 \r\nQ 2625 1972 2144 2069 \r\nL 1759 2144 \r\nQ 1053 2284 737 2584 \r\nQ 422 2884 422 3419 \r\nQ 422 4038 858 4394 \r\nQ 1294 4750 2059 4750 \r\nQ 2388 4750 2728 4690 \r\nQ 3069 4631 3425 4513 \r\nz\r\n\" id=\"DejaVuSans-53\" transform=\"scale(0.015625)\"/>\r\n       </defs>\r\n       <use xlink:href=\"#DejaVuSans-53\"/>\r\n       <use x=\"63.476562\" xlink:href=\"#DejaVuSans-75\"/>\r\n       <use x=\"126.855469\" xlink:href=\"#DejaVuSans-72\"/>\r\n       <use x=\"167.96875\" xlink:href=\"#DejaVuSans-61\"/>\r\n       <use x=\"229.248047\" xlink:href=\"#DejaVuSans-74\"/>\r\n      </g>\r\n     </g>\r\n    </g>\r\n    <g id=\"xtick_21\">\r\n     <g id=\"line2d_21\">\r\n      <g>\r\n       <use style=\"stroke:#000000;stroke-width:0.8;\" x=\"224.913125\" xlink:href=\"#meb8520d12e\" y=\"245.836875\"/>\r\n      </g>\r\n     </g>\r\n     <g id=\"text_21\">\r\n      <!-- Bhubaneshwar -->\r\n      <g transform=\"translate(227.6725 327.304062)rotate(-90)scale(0.1 -0.1)\">\r\n       <use xlink:href=\"#DejaVuSans-42\"/>\r\n       <use x=\"68.603516\" xlink:href=\"#DejaVuSans-68\"/>\r\n       <use x=\"131.982422\" xlink:href=\"#DejaVuSans-75\"/>\r\n       <use x=\"195.361328\" xlink:href=\"#DejaVuSans-62\"/>\r\n       <use x=\"258.837891\" xlink:href=\"#DejaVuSans-61\"/>\r\n       <use x=\"320.117188\" xlink:href=\"#DejaVuSans-6e\"/>\r\n       <use x=\"383.496094\" xlink:href=\"#DejaVuSans-65\"/>\r\n       <use x=\"445.019531\" xlink:href=\"#DejaVuSans-73\"/>\r\n       <use x=\"497.119141\" xlink:href=\"#DejaVuSans-68\"/>\r\n       <use x=\"560.498047\" xlink:href=\"#DejaVuSans-77\"/>\r\n       <use x=\"642.285156\" xlink:href=\"#DejaVuSans-61\"/>\r\n       <use x=\"703.564453\" xlink:href=\"#DejaVuSans-72\"/>\r\n      </g>\r\n     </g>\r\n    </g>\r\n    <g id=\"xtick_22\">\r\n     <g id=\"line2d_22\">\r\n      <g>\r\n       <use style=\"stroke:#000000;stroke-width:0.8;\" x=\"233.283125\" xlink:href=\"#meb8520d12e\" y=\"245.836875\"/>\r\n      </g>\r\n     </g>\r\n     <g id=\"text_22\">\r\n      <!-- Dehradun -->\r\n      <g transform=\"translate(236.0425 302.29)rotate(-90)scale(0.1 -0.1)\">\r\n       <use xlink:href=\"#DejaVuSans-44\"/>\r\n       <use x=\"77.001953\" xlink:href=\"#DejaVuSans-65\"/>\r\n       <use x=\"138.525391\" xlink:href=\"#DejaVuSans-68\"/>\r\n       <use x=\"201.904297\" xlink:href=\"#DejaVuSans-72\"/>\r\n       <use x=\"243.017578\" xlink:href=\"#DejaVuSans-61\"/>\r\n       <use x=\"304.296875\" xlink:href=\"#DejaVuSans-64\"/>\r\n       <use x=\"367.773438\" xlink:href=\"#DejaVuSans-75\"/>\r\n       <use x=\"431.152344\" xlink:href=\"#DejaVuSans-6e\"/>\r\n      </g>\r\n     </g>\r\n    </g>\r\n    <g id=\"xtick_23\">\r\n     <g id=\"line2d_23\">\r\n      <g>\r\n       <use style=\"stroke:#000000;stroke-width:0.8;\" x=\"241.653125\" xlink:href=\"#meb8520d12e\" y=\"245.836875\"/>\r\n      </g>\r\n     </g>\r\n     <g id=\"text_23\">\r\n      <!-- Mangalore -->\r\n      <g transform=\"translate(244.4125 305.343125)rotate(-90)scale(0.1 -0.1)\">\r\n       <use xlink:href=\"#DejaVuSans-4d\"/>\r\n       <use x=\"86.279297\" xlink:href=\"#DejaVuSans-61\"/>\r\n       <use x=\"147.558594\" xlink:href=\"#DejaVuSans-6e\"/>\r\n       <use x=\"210.9375\" xlink:href=\"#DejaVuSans-67\"/>\r\n       <use x=\"274.414062\" xlink:href=\"#DejaVuSans-61\"/>\r\n       <use x=\"335.693359\" xlink:href=\"#DejaVuSans-6c\"/>\r\n       <use x=\"363.476562\" xlink:href=\"#DejaVuSans-6f\"/>\r\n       <use x=\"424.658203\" xlink:href=\"#DejaVuSans-72\"/>\r\n       <use x=\"463.521484\" xlink:href=\"#DejaVuSans-65\"/>\r\n      </g>\r\n     </g>\r\n    </g>\r\n    <g id=\"xtick_24\">\r\n     <g id=\"line2d_24\">\r\n      <g>\r\n       <use style=\"stroke:#000000;stroke-width:0.8;\" x=\"250.023125\" xlink:href=\"#meb8520d12e\" y=\"245.836875\"/>\r\n      </g>\r\n     </g>\r\n     <g id=\"text_24\">\r\n      <!-- Thane -->\r\n      <g transform=\"translate(252.7825 283.900937)rotate(-90)scale(0.1 -0.1)\">\r\n       <use xlink:href=\"#DejaVuSans-54\"/>\r\n       <use x=\"61.083984\" xlink:href=\"#DejaVuSans-68\"/>\r\n       <use x=\"124.462891\" xlink:href=\"#DejaVuSans-61\"/>\r\n       <use x=\"185.742188\" xlink:href=\"#DejaVuSans-6e\"/>\r\n       <use x=\"249.121094\" xlink:href=\"#DejaVuSans-65\"/>\r\n      </g>\r\n     </g>\r\n    </g>\r\n    <g id=\"xtick_25\">\r\n     <g id=\"line2d_25\">\r\n      <g>\r\n       <use style=\"stroke:#000000;stroke-width:0.8;\" x=\"258.393125\" xlink:href=\"#meb8520d12e\" y=\"245.836875\"/>\r\n      </g>\r\n     </g>\r\n     <g id=\"text_25\">\r\n      <!-- Agra -->\r\n      <g transform=\"translate(261.1525 276.265)rotate(-90)scale(0.1 -0.1)\">\r\n       <use xlink:href=\"#DejaVuSans-41\"/>\r\n       <use x=\"68.408203\" xlink:href=\"#DejaVuSans-67\"/>\r\n       <use x=\"131.884766\" xlink:href=\"#DejaVuSans-72\"/>\r\n       <use x=\"172.998047\" xlink:href=\"#DejaVuSans-61\"/>\r\n      </g>\r\n     </g>\r\n    </g>\r\n    <g id=\"xtick_26\">\r\n     <g id=\"line2d_26\">\r\n      <g>\r\n       <use style=\"stroke:#000000;stroke-width:0.8;\" x=\"266.763125\" xlink:href=\"#meb8520d12e\" y=\"245.836875\"/>\r\n      </g>\r\n     </g>\r\n     <g id=\"text_26\">\r\n      <!-- Hubli -->\r\n      <g transform=\"translate(269.5225 278.599375)rotate(-90)scale(0.1 -0.1)\">\r\n       <use xlink:href=\"#DejaVuSans-48\"/>\r\n       <use x=\"75.195312\" xlink:href=\"#DejaVuSans-75\"/>\r\n       <use x=\"138.574219\" xlink:href=\"#DejaVuSans-62\"/>\r\n       <use x=\"202.050781\" xlink:href=\"#DejaVuSans-6c\"/>\r\n       <use x=\"229.833984\" xlink:href=\"#DejaVuSans-69\"/>\r\n      </g>\r\n     </g>\r\n    </g>\r\n    <g id=\"xtick_27\">\r\n     <g id=\"line2d_27\">\r\n      <g>\r\n       <use style=\"stroke:#000000;stroke-width:0.8;\" x=\"275.133125\" xlink:href=\"#meb8520d12e\" y=\"245.836875\"/>\r\n      </g>\r\n     </g>\r\n     <g id=\"text_27\">\r\n      <!-- Mysore -->\r\n      <g transform=\"translate(277.8925 288.750937)rotate(-90)scale(0.1 -0.1)\">\r\n       <use xlink:href=\"#DejaVuSans-4d\"/>\r\n       <use x=\"86.279297\" xlink:href=\"#DejaVuSans-79\"/>\r\n       <use x=\"145.458984\" xlink:href=\"#DejaVuSans-73\"/>\r\n       <use x=\"197.558594\" xlink:href=\"#DejaVuSans-6f\"/>\r\n       <use x=\"258.740234\" xlink:href=\"#DejaVuSans-72\"/>\r\n       <use x=\"297.603516\" xlink:href=\"#DejaVuSans-65\"/>\r\n      </g>\r\n     </g>\r\n    </g>\r\n    <g id=\"xtick_28\">\r\n     <g id=\"line2d_28\">\r\n      <g>\r\n       <use style=\"stroke:#000000;stroke-width:0.8;\" x=\"283.503125\" xlink:href=\"#meb8520d12e\" y=\"245.836875\"/>\r\n      </g>\r\n     </g>\r\n     <g id=\"text_28\">\r\n      <!-- Trichy -->\r\n      <g transform=\"translate(286.2625 282.113437)rotate(-90)scale(0.1 -0.1)\">\r\n       <use xlink:href=\"#DejaVuSans-54\"/>\r\n       <use x=\"46.333984\" xlink:href=\"#DejaVuSans-72\"/>\r\n       <use x=\"87.447266\" xlink:href=\"#DejaVuSans-69\"/>\r\n       <use x=\"115.230469\" xlink:href=\"#DejaVuSans-63\"/>\r\n       <use x=\"170.210938\" xlink:href=\"#DejaVuSans-68\"/>\r\n       <use x=\"233.589844\" xlink:href=\"#DejaVuSans-79\"/>\r\n      </g>\r\n     </g>\r\n    </g>\r\n    <g id=\"xtick_29\">\r\n     <g id=\"line2d_29\">\r\n      <g>\r\n       <use style=\"stroke:#000000;stroke-width:0.8;\" x=\"291.873125\" xlink:href=\"#meb8520d12e\" y=\"245.836875\"/>\r\n      </g>\r\n     </g>\r\n     <g id=\"text_29\">\r\n      <!-- Ludhiana -->\r\n      <g transform=\"translate(294.6325 298.629062)rotate(-90)scale(0.1 -0.1)\">\r\n       <use xlink:href=\"#DejaVuSans-4c\"/>\r\n       <use x=\"53.962891\" xlink:href=\"#DejaVuSans-75\"/>\r\n       <use x=\"117.341797\" xlink:href=\"#DejaVuSans-64\"/>\r\n       <use x=\"180.818359\" xlink:href=\"#DejaVuSans-68\"/>\r\n       <use x=\"244.197266\" xlink:href=\"#DejaVuSans-69\"/>\r\n       <use x=\"271.980469\" xlink:href=\"#DejaVuSans-61\"/>\r\n       <use x=\"333.259766\" xlink:href=\"#DejaVuSans-6e\"/>\r\n       <use x=\"396.638672\" xlink:href=\"#DejaVuSans-61\"/>\r\n      </g>\r\n     </g>\r\n    </g>\r\n    <g id=\"xtick_30\">\r\n     <g id=\"line2d_30\">\r\n      <g>\r\n       <use style=\"stroke:#000000;stroke-width:0.8;\" x=\"300.243125\" xlink:href=\"#meb8520d12e\" y=\"245.836875\"/>\r\n      </g>\r\n     </g>\r\n     <g id=\"text_30\">\r\n      <!-- Nagpur -->\r\n      <g transform=\"translate(303.0025 289.591562)rotate(-90)scale(0.1 -0.1)\">\r\n       <use xlink:href=\"#DejaVuSans-4e\"/>\r\n       <use x=\"74.804688\" xlink:href=\"#DejaVuSans-61\"/>\r\n       <use x=\"136.083984\" xlink:href=\"#DejaVuSans-67\"/>\r\n       <use x=\"199.560547\" xlink:href=\"#DejaVuSans-70\"/>\r\n       <use x=\"263.037109\" xlink:href=\"#DejaVuSans-75\"/>\r\n       <use x=\"326.416016\" xlink:href=\"#DejaVuSans-72\"/>\r\n      </g>\r\n     </g>\r\n    </g>\r\n    <g id=\"xtick_31\">\r\n     <g id=\"line2d_31\">\r\n      <g>\r\n       <use style=\"stroke:#000000;stroke-width:0.8;\" x=\"308.613125\" xlink:href=\"#meb8520d12e\" y=\"245.836875\"/>\r\n      </g>\r\n     </g>\r\n     <g id=\"text_31\">\r\n      <!-- Bhopal -->\r\n      <g transform=\"translate(311.3725 287.40875)rotate(-90)scale(0.1 -0.1)\">\r\n       <use xlink:href=\"#DejaVuSans-42\"/>\r\n       <use x=\"68.603516\" xlink:href=\"#DejaVuSans-68\"/>\r\n       <use x=\"131.982422\" xlink:href=\"#DejaVuSans-6f\"/>\r\n       <use x=\"193.164062\" xlink:href=\"#DejaVuSans-70\"/>\r\n       <use x=\"256.640625\" xlink:href=\"#DejaVuSans-61\"/>\r\n       <use x=\"317.919922\" xlink:href=\"#DejaVuSans-6c\"/>\r\n      </g>\r\n     </g>\r\n    </g>\r\n    <g id=\"xtick_32\">\r\n     <g id=\"line2d_32\">\r\n      <g>\r\n       <use style=\"stroke:#000000;stroke-width:0.8;\" x=\"316.983125\" xlink:href=\"#meb8520d12e\" y=\"245.836875\"/>\r\n      </g>\r\n     </g>\r\n     <g id=\"text_32\">\r\n      <!-- Patna -->\r\n      <g transform=\"translate(319.7425 280.930625)rotate(-90)scale(0.1 -0.1)\">\r\n       <use xlink:href=\"#DejaVuSans-50\"/>\r\n       <use x=\"55.802734\" xlink:href=\"#DejaVuSans-61\"/>\r\n       <use x=\"117.082031\" xlink:href=\"#DejaVuSans-74\"/>\r\n       <use x=\"156.291016\" xlink:href=\"#DejaVuSans-6e\"/>\r\n       <use x=\"219.669922\" xlink:href=\"#DejaVuSans-61\"/>\r\n      </g>\r\n     </g>\r\n    </g>\r\n    <g id=\"xtick_33\">\r\n     <g id=\"line2d_33\">\r\n      <g>\r\n       <use style=\"stroke:#000000;stroke-width:0.8;\" x=\"325.353125\" xlink:href=\"#meb8520d12e\" y=\"245.836875\"/>\r\n      </g>\r\n     </g>\r\n     <g id=\"text_33\">\r\n      <!-- Vadodara -->\r\n      <g transform=\"translate(328.1125 300.213437)rotate(-90)scale(0.1 -0.1)\">\r\n       <use xlink:href=\"#DejaVuSans-56\"/>\r\n       <use x=\"60.658203\" xlink:href=\"#DejaVuSans-61\"/>\r\n       <use x=\"121.9375\" xlink:href=\"#DejaVuSans-64\"/>\r\n       <use x=\"185.414062\" xlink:href=\"#DejaVuSans-6f\"/>\r\n       <use x=\"246.595703\" xlink:href=\"#DejaVuSans-64\"/>\r\n       <use x=\"310.072266\" xlink:href=\"#DejaVuSans-61\"/>\r\n       <use x=\"371.351562\" xlink:href=\"#DejaVuSans-72\"/>\r\n       <use x=\"412.464844\" xlink:href=\"#DejaVuSans-61\"/>\r\n      </g>\r\n     </g>\r\n    </g>\r\n    <g id=\"xtick_34\">\r\n     <g id=\"line2d_34\">\r\n      <g>\r\n       <use style=\"stroke:#000000;stroke-width:0.8;\" x=\"333.723125\" xlink:href=\"#meb8520d12e\" y=\"245.836875\"/>\r\n      </g>\r\n     </g>\r\n     <g id=\"text_34\">\r\n      <!-- Karnataka -->\r\n      <g transform=\"translate(336.4825 303.541562)rotate(-90)scale(0.1 -0.1)\">\r\n       <use xlink:href=\"#DejaVuSans-4b\"/>\r\n       <use x=\"63.826172\" xlink:href=\"#DejaVuSans-61\"/>\r\n       <use x=\"125.105469\" xlink:href=\"#DejaVuSans-72\"/>\r\n       <use x=\"164.46875\" xlink:href=\"#DejaVuSans-6e\"/>\r\n       <use x=\"227.847656\" xlink:href=\"#DejaVuSans-61\"/>\r\n       <use x=\"289.126953\" xlink:href=\"#DejaVuSans-74\"/>\r\n       <use x=\"328.335938\" xlink:href=\"#DejaVuSans-61\"/>\r\n       <use x=\"389.615234\" xlink:href=\"#DejaVuSans-6b\"/>\r\n       <use x=\"445.775391\" xlink:href=\"#DejaVuSans-61\"/>\r\n      </g>\r\n     </g>\r\n    </g>\r\n    <g id=\"xtick_35\">\r\n     <g id=\"line2d_35\">\r\n      <g>\r\n       <use style=\"stroke:#000000;stroke-width:0.8;\" x=\"342.093125\" xlink:href=\"#meb8520d12e\" y=\"245.836875\"/>\r\n      </g>\r\n     </g>\r\n     <g id=\"text_35\">\r\n      <!-- Haryana -->\r\n      <g transform=\"translate(344.8525 295.10875)rotate(-90)scale(0.1 -0.1)\">\r\n       <use xlink:href=\"#DejaVuSans-48\"/>\r\n       <use x=\"75.195312\" xlink:href=\"#DejaVuSans-61\"/>\r\n       <use x=\"136.474609\" xlink:href=\"#DejaVuSans-72\"/>\r\n       <use x=\"177.587891\" xlink:href=\"#DejaVuSans-79\"/>\r\n       <use x=\"236.767578\" xlink:href=\"#DejaVuSans-61\"/>\r\n       <use x=\"298.046875\" xlink:href=\"#DejaVuSans-6e\"/>\r\n       <use x=\"361.425781\" xlink:href=\"#DejaVuSans-61\"/>\r\n      </g>\r\n     </g>\r\n    </g>\r\n    <g id=\"xtick_36\">\r\n     <g id=\"line2d_36\">\r\n      <g>\r\n       <use style=\"stroke:#000000;stroke-width:0.8;\" x=\"350.463125\" xlink:href=\"#meb8520d12e\" y=\"245.836875\"/>\r\n      </g>\r\n     </g>\r\n     <g id=\"text_36\">\r\n      <!-- Guwahati -->\r\n      <g transform=\"translate(353.2225 300.393125)rotate(-90)scale(0.1 -0.1)\">\r\n       <defs>\r\n        <path d=\"M 3809 666 \r\nL 3809 1919 \r\nL 2778 1919 \r\nL 2778 2438 \r\nL 4434 2438 \r\nL 4434 434 \r\nQ 4069 175 3628 42 \r\nQ 3188 -91 2688 -91 \r\nQ 1594 -91 976 548 \r\nQ 359 1188 359 2328 \r\nQ 359 3472 976 4111 \r\nQ 1594 4750 2688 4750 \r\nQ 3144 4750 3555 4637 \r\nQ 3966 4525 4313 4306 \r\nL 4313 3634 \r\nQ 3963 3931 3569 4081 \r\nQ 3175 4231 2741 4231 \r\nQ 1884 4231 1454 3753 \r\nQ 1025 3275 1025 2328 \r\nQ 1025 1384 1454 906 \r\nQ 1884 428 2741 428 \r\nQ 3075 428 3337 486 \r\nQ 3600 544 3809 666 \r\nz\r\n\" id=\"DejaVuSans-47\" transform=\"scale(0.015625)\"/>\r\n       </defs>\r\n       <use xlink:href=\"#DejaVuSans-47\"/>\r\n       <use x=\"77.490234\" xlink:href=\"#DejaVuSans-75\"/>\r\n       <use x=\"140.869141\" xlink:href=\"#DejaVuSans-77\"/>\r\n       <use x=\"222.65625\" xlink:href=\"#DejaVuSans-61\"/>\r\n       <use x=\"283.935547\" xlink:href=\"#DejaVuSans-68\"/>\r\n       <use x=\"347.314453\" xlink:href=\"#DejaVuSans-61\"/>\r\n       <use x=\"408.59375\" xlink:href=\"#DejaVuSans-74\"/>\r\n       <use x=\"447.802734\" xlink:href=\"#DejaVuSans-69\"/>\r\n      </g>\r\n     </g>\r\n    </g>\r\n    <g id=\"xtick_37\">\r\n     <g id=\"line2d_37\">\r\n      <g>\r\n       <use style=\"stroke:#000000;stroke-width:0.8;\" x=\"358.833125\" xlink:href=\"#meb8520d12e\" y=\"245.836875\"/>\r\n      </g>\r\n     </g>\r\n     <g id=\"text_37\">\r\n      <!-- Raipur -->\r\n      <g transform=\"translate(361.5925 285.263437)rotate(-90)scale(0.1 -0.1)\">\r\n       <use xlink:href=\"#DejaVuSans-52\"/>\r\n       <use x=\"67.232422\" xlink:href=\"#DejaVuSans-61\"/>\r\n       <use x=\"128.511719\" xlink:href=\"#DejaVuSans-69\"/>\r\n       <use x=\"156.294922\" xlink:href=\"#DejaVuSans-70\"/>\r\n       <use x=\"219.771484\" xlink:href=\"#DejaVuSans-75\"/>\r\n       <use x=\"283.150391\" xlink:href=\"#DejaVuSans-72\"/>\r\n      </g>\r\n     </g>\r\n    </g>\r\n    <g id=\"xtick_38\">\r\n     <g id=\"line2d_38\">\r\n      <g>\r\n       <use style=\"stroke:#000000;stroke-width:0.8;\" x=\"367.203125\" xlink:href=\"#meb8520d12e\" y=\"245.836875\"/>\r\n      </g>\r\n     </g>\r\n     <g id=\"text_38\">\r\n      <!-- Kanpur -->\r\n      <g transform=\"translate(369.9625 288.482187)rotate(-90)scale(0.1 -0.1)\">\r\n       <use xlink:href=\"#DejaVuSans-4b\"/>\r\n       <use x=\"63.826172\" xlink:href=\"#DejaVuSans-61\"/>\r\n       <use x=\"125.105469\" xlink:href=\"#DejaVuSans-6e\"/>\r\n       <use x=\"188.484375\" xlink:href=\"#DejaVuSans-70\"/>\r\n       <use x=\"251.960938\" xlink:href=\"#DejaVuSans-75\"/>\r\n       <use x=\"315.339844\" xlink:href=\"#DejaVuSans-72\"/>\r\n      </g>\r\n     </g>\r\n    </g>\r\n    <g id=\"xtick_39\">\r\n     <g id=\"line2d_39\">\r\n      <g>\r\n       <use style=\"stroke:#000000;stroke-width:0.8;\" x=\"375.573125\" xlink:href=\"#meb8520d12e\" y=\"245.836875\"/>\r\n      </g>\r\n     </g>\r\n     <g id=\"text_39\">\r\n      <!-- Nasik -->\r\n      <g transform=\"translate(378.3325 280.224375)rotate(-90)scale(0.1 -0.1)\">\r\n       <use xlink:href=\"#DejaVuSans-4e\"/>\r\n       <use x=\"74.804688\" xlink:href=\"#DejaVuSans-61\"/>\r\n       <use x=\"136.083984\" xlink:href=\"#DejaVuSans-73\"/>\r\n       <use x=\"188.183594\" xlink:href=\"#DejaVuSans-69\"/>\r\n       <use x=\"215.966797\" xlink:href=\"#DejaVuSans-6b\"/>\r\n      </g>\r\n     </g>\r\n    </g>\r\n    <g id=\"xtick_40\">\r\n     <g id=\"line2d_40\">\r\n      <g>\r\n       <use style=\"stroke:#000000;stroke-width:0.8;\" x=\"383.943125\" xlink:href=\"#meb8520d12e\" y=\"245.836875\"/>\r\n      </g>\r\n     </g>\r\n     <g id=\"text_40\">\r\n      <!-- Ranchi -->\r\n      <g transform=\"translate(386.7025 286.64)rotate(-90)scale(0.1 -0.1)\">\r\n       <use xlink:href=\"#DejaVuSans-52\"/>\r\n       <use x=\"67.232422\" xlink:href=\"#DejaVuSans-61\"/>\r\n       <use x=\"128.511719\" xlink:href=\"#DejaVuSans-6e\"/>\r\n       <use x=\"191.890625\" xlink:href=\"#DejaVuSans-63\"/>\r\n       <use x=\"246.871094\" xlink:href=\"#DejaVuSans-68\"/>\r\n       <use x=\"310.25\" xlink:href=\"#DejaVuSans-69\"/>\r\n      </g>\r\n     </g>\r\n    </g>\r\n    <g id=\"text_41\">\r\n     <!--   -->\r\n     <g transform=\"translate(219.139062 342.025937)scale(0.1 -0.1)\">\r\n      <defs>\r\n       <path id=\"DejaVuSans-20\" transform=\"scale(0.015625)\"/>\r\n      </defs>\r\n      <use xlink:href=\"#DejaVuSans-20\"/>\r\n     </g>\r\n    </g>\r\n   </g>\r\n   <g id=\"matplotlib.axis_2\">\r\n    <g id=\"ytick_1\">\r\n     <g id=\"line2d_41\">\r\n      <defs>\r\n       <path d=\"M 0 0 \r\nL -3.5 0 \r\n\" id=\"m647a799422\" style=\"stroke:#000000;stroke-width:0.8;\"/>\r\n      </defs>\r\n      <g>\r\n       <use style=\"stroke:#000000;stroke-width:0.8;\" x=\"53.328125\" xlink:href=\"#m647a799422\" y=\"245.836875\"/>\r\n      </g>\r\n     </g>\r\n     <g id=\"text_42\">\r\n      <!-- 0 -->\r\n      <g transform=\"translate(39.965625 249.636094)scale(0.1 -0.1)\">\r\n       <defs>\r\n        <path d=\"M 2034 4250 \r\nQ 1547 4250 1301 3770 \r\nQ 1056 3291 1056 2328 \r\nQ 1056 1369 1301 889 \r\nQ 1547 409 2034 409 \r\nQ 2525 409 2770 889 \r\nQ 3016 1369 3016 2328 \r\nQ 3016 3291 2770 3770 \r\nQ 2525 4250 2034 4250 \r\nz\r\nM 2034 4750 \r\nQ 2819 4750 3233 4129 \r\nQ 3647 3509 3647 2328 \r\nQ 3647 1150 3233 529 \r\nQ 2819 -91 2034 -91 \r\nQ 1250 -91 836 529 \r\nQ 422 1150 422 2328 \r\nQ 422 3509 836 4129 \r\nQ 1250 4750 2034 4750 \r\nz\r\n\" id=\"DejaVuSans-30\" transform=\"scale(0.015625)\"/>\r\n       </defs>\r\n       <use xlink:href=\"#DejaVuSans-30\"/>\r\n      </g>\r\n     </g>\r\n    </g>\r\n    <g id=\"ytick_2\">\r\n     <g id=\"line2d_42\">\r\n      <g>\r\n       <use style=\"stroke:#000000;stroke-width:0.8;\" x=\"53.328125\" xlink:href=\"#m647a799422\" y=\"218.121977\"/>\r\n      </g>\r\n     </g>\r\n     <g id=\"text_43\">\r\n      <!-- 1000 -->\r\n      <g transform=\"translate(20.878125 221.921196)scale(0.1 -0.1)\">\r\n       <defs>\r\n        <path d=\"M 794 531 \r\nL 1825 531 \r\nL 1825 4091 \r\nL 703 3866 \r\nL 703 4441 \r\nL 1819 4666 \r\nL 2450 4666 \r\nL 2450 531 \r\nL 3481 531 \r\nL 3481 0 \r\nL 794 0 \r\nL 794 531 \r\nz\r\n\" id=\"DejaVuSans-31\" transform=\"scale(0.015625)\"/>\r\n       </defs>\r\n       <use xlink:href=\"#DejaVuSans-31\"/>\r\n       <use x=\"63.623047\" xlink:href=\"#DejaVuSans-30\"/>\r\n       <use x=\"127.246094\" xlink:href=\"#DejaVuSans-30\"/>\r\n       <use x=\"190.869141\" xlink:href=\"#DejaVuSans-30\"/>\r\n      </g>\r\n     </g>\r\n    </g>\r\n    <g id=\"ytick_3\">\r\n     <g id=\"line2d_43\">\r\n      <g>\r\n       <use style=\"stroke:#000000;stroke-width:0.8;\" x=\"53.328125\" xlink:href=\"#m647a799422\" y=\"190.40708\"/>\r\n      </g>\r\n     </g>\r\n     <g id=\"text_44\">\r\n      <!-- 2000 -->\r\n      <g transform=\"translate(20.878125 194.206299)scale(0.1 -0.1)\">\r\n       <defs>\r\n        <path d=\"M 1228 531 \r\nL 3431 531 \r\nL 3431 0 \r\nL 469 0 \r\nL 469 531 \r\nQ 828 903 1448 1529 \r\nQ 2069 2156 2228 2338 \r\nQ 2531 2678 2651 2914 \r\nQ 2772 3150 2772 3378 \r\nQ 2772 3750 2511 3984 \r\nQ 2250 4219 1831 4219 \r\nQ 1534 4219 1204 4116 \r\nQ 875 4013 500 3803 \r\nL 500 4441 \r\nQ 881 4594 1212 4672 \r\nQ 1544 4750 1819 4750 \r\nQ 2544 4750 2975 4387 \r\nQ 3406 4025 3406 3419 \r\nQ 3406 3131 3298 2873 \r\nQ 3191 2616 2906 2266 \r\nQ 2828 2175 2409 1742 \r\nQ 1991 1309 1228 531 \r\nz\r\n\" id=\"DejaVuSans-32\" transform=\"scale(0.015625)\"/>\r\n       </defs>\r\n       <use xlink:href=\"#DejaVuSans-32\"/>\r\n       <use x=\"63.623047\" xlink:href=\"#DejaVuSans-30\"/>\r\n       <use x=\"127.246094\" xlink:href=\"#DejaVuSans-30\"/>\r\n       <use x=\"190.869141\" xlink:href=\"#DejaVuSans-30\"/>\r\n      </g>\r\n     </g>\r\n    </g>\r\n    <g id=\"ytick_4\">\r\n     <g id=\"line2d_44\">\r\n      <g>\r\n       <use style=\"stroke:#000000;stroke-width:0.8;\" x=\"53.328125\" xlink:href=\"#m647a799422\" y=\"162.692182\"/>\r\n      </g>\r\n     </g>\r\n     <g id=\"text_45\">\r\n      <!-- 3000 -->\r\n      <g transform=\"translate(20.878125 166.491401)scale(0.1 -0.1)\">\r\n       <defs>\r\n        <path d=\"M 2597 2516 \r\nQ 3050 2419 3304 2112 \r\nQ 3559 1806 3559 1356 \r\nQ 3559 666 3084 287 \r\nQ 2609 -91 1734 -91 \r\nQ 1441 -91 1130 -33 \r\nQ 819 25 488 141 \r\nL 488 750 \r\nQ 750 597 1062 519 \r\nQ 1375 441 1716 441 \r\nQ 2309 441 2620 675 \r\nQ 2931 909 2931 1356 \r\nQ 2931 1769 2642 2001 \r\nQ 2353 2234 1838 2234 \r\nL 1294 2234 \r\nL 1294 2753 \r\nL 1863 2753 \r\nQ 2328 2753 2575 2939 \r\nQ 2822 3125 2822 3475 \r\nQ 2822 3834 2567 4026 \r\nQ 2313 4219 1838 4219 \r\nQ 1578 4219 1281 4162 \r\nQ 984 4106 628 3988 \r\nL 628 4550 \r\nQ 988 4650 1302 4700 \r\nQ 1616 4750 1894 4750 \r\nQ 2613 4750 3031 4423 \r\nQ 3450 4097 3450 3541 \r\nQ 3450 3153 3228 2886 \r\nQ 3006 2619 2597 2516 \r\nz\r\n\" id=\"DejaVuSans-33\" transform=\"scale(0.015625)\"/>\r\n       </defs>\r\n       <use xlink:href=\"#DejaVuSans-33\"/>\r\n       <use x=\"63.623047\" xlink:href=\"#DejaVuSans-30\"/>\r\n       <use x=\"127.246094\" xlink:href=\"#DejaVuSans-30\"/>\r\n       <use x=\"190.869141\" xlink:href=\"#DejaVuSans-30\"/>\r\n      </g>\r\n     </g>\r\n    </g>\r\n    <g id=\"ytick_5\">\r\n     <g id=\"line2d_45\">\r\n      <g>\r\n       <use style=\"stroke:#000000;stroke-width:0.8;\" x=\"53.328125\" xlink:href=\"#m647a799422\" y=\"134.977285\"/>\r\n      </g>\r\n     </g>\r\n     <g id=\"text_46\">\r\n      <!-- 4000 -->\r\n      <g transform=\"translate(20.878125 138.776504)scale(0.1 -0.1)\">\r\n       <defs>\r\n        <path d=\"M 2419 4116 \r\nL 825 1625 \r\nL 2419 1625 \r\nL 2419 4116 \r\nz\r\nM 2253 4666 \r\nL 3047 4666 \r\nL 3047 1625 \r\nL 3713 1625 \r\nL 3713 1100 \r\nL 3047 1100 \r\nL 3047 0 \r\nL 2419 0 \r\nL 2419 1100 \r\nL 313 1100 \r\nL 313 1709 \r\nL 2253 4666 \r\nz\r\n\" id=\"DejaVuSans-34\" transform=\"scale(0.015625)\"/>\r\n       </defs>\r\n       <use xlink:href=\"#DejaVuSans-34\"/>\r\n       <use x=\"63.623047\" xlink:href=\"#DejaVuSans-30\"/>\r\n       <use x=\"127.246094\" xlink:href=\"#DejaVuSans-30\"/>\r\n       <use x=\"190.869141\" xlink:href=\"#DejaVuSans-30\"/>\r\n      </g>\r\n     </g>\r\n    </g>\r\n    <g id=\"ytick_6\">\r\n     <g id=\"line2d_46\">\r\n      <g>\r\n       <use style=\"stroke:#000000;stroke-width:0.8;\" x=\"53.328125\" xlink:href=\"#m647a799422\" y=\"107.262387\"/>\r\n      </g>\r\n     </g>\r\n     <g id=\"text_47\">\r\n      <!-- 5000 -->\r\n      <g transform=\"translate(20.878125 111.061606)scale(0.1 -0.1)\">\r\n       <defs>\r\n        <path d=\"M 691 4666 \r\nL 3169 4666 \r\nL 3169 4134 \r\nL 1269 4134 \r\nL 1269 2991 \r\nQ 1406 3038 1543 3061 \r\nQ 1681 3084 1819 3084 \r\nQ 2600 3084 3056 2656 \r\nQ 3513 2228 3513 1497 \r\nQ 3513 744 3044 326 \r\nQ 2575 -91 1722 -91 \r\nQ 1428 -91 1123 -41 \r\nQ 819 9 494 109 \r\nL 494 744 \r\nQ 775 591 1075 516 \r\nQ 1375 441 1709 441 \r\nQ 2250 441 2565 725 \r\nQ 2881 1009 2881 1497 \r\nQ 2881 1984 2565 2268 \r\nQ 2250 2553 1709 2553 \r\nQ 1456 2553 1204 2497 \r\nQ 953 2441 691 2322 \r\nL 691 4666 \r\nz\r\n\" id=\"DejaVuSans-35\" transform=\"scale(0.015625)\"/>\r\n       </defs>\r\n       <use xlink:href=\"#DejaVuSans-35\"/>\r\n       <use x=\"63.623047\" xlink:href=\"#DejaVuSans-30\"/>\r\n       <use x=\"127.246094\" xlink:href=\"#DejaVuSans-30\"/>\r\n       <use x=\"190.869141\" xlink:href=\"#DejaVuSans-30\"/>\r\n      </g>\r\n     </g>\r\n    </g>\r\n    <g id=\"ytick_7\">\r\n     <g id=\"line2d_47\">\r\n      <g>\r\n       <use style=\"stroke:#000000;stroke-width:0.8;\" x=\"53.328125\" xlink:href=\"#m647a799422\" y=\"79.54749\"/>\r\n      </g>\r\n     </g>\r\n     <g id=\"text_48\">\r\n      <!-- 6000 -->\r\n      <g transform=\"translate(20.878125 83.346709)scale(0.1 -0.1)\">\r\n       <defs>\r\n        <path d=\"M 2113 2584 \r\nQ 1688 2584 1439 2293 \r\nQ 1191 2003 1191 1497 \r\nQ 1191 994 1439 701 \r\nQ 1688 409 2113 409 \r\nQ 2538 409 2786 701 \r\nQ 3034 994 3034 1497 \r\nQ 3034 2003 2786 2293 \r\nQ 2538 2584 2113 2584 \r\nz\r\nM 3366 4563 \r\nL 3366 3988 \r\nQ 3128 4100 2886 4159 \r\nQ 2644 4219 2406 4219 \r\nQ 1781 4219 1451 3797 \r\nQ 1122 3375 1075 2522 \r\nQ 1259 2794 1537 2939 \r\nQ 1816 3084 2150 3084 \r\nQ 2853 3084 3261 2657 \r\nQ 3669 2231 3669 1497 \r\nQ 3669 778 3244 343 \r\nQ 2819 -91 2113 -91 \r\nQ 1303 -91 875 529 \r\nQ 447 1150 447 2328 \r\nQ 447 3434 972 4092 \r\nQ 1497 4750 2381 4750 \r\nQ 2619 4750 2861 4703 \r\nQ 3103 4656 3366 4563 \r\nz\r\n\" id=\"DejaVuSans-36\" transform=\"scale(0.015625)\"/>\r\n       </defs>\r\n       <use xlink:href=\"#DejaVuSans-36\"/>\r\n       <use x=\"63.623047\" xlink:href=\"#DejaVuSans-30\"/>\r\n       <use x=\"127.246094\" xlink:href=\"#DejaVuSans-30\"/>\r\n       <use x=\"190.869141\" xlink:href=\"#DejaVuSans-30\"/>\r\n      </g>\r\n     </g>\r\n    </g>\r\n    <g id=\"ytick_8\">\r\n     <g id=\"line2d_48\">\r\n      <g>\r\n       <use style=\"stroke:#000000;stroke-width:0.8;\" x=\"53.328125\" xlink:href=\"#m647a799422\" y=\"51.832592\"/>\r\n      </g>\r\n     </g>\r\n     <g id=\"text_49\">\r\n      <!-- 7000 -->\r\n      <g transform=\"translate(20.878125 55.631811)scale(0.1 -0.1)\">\r\n       <defs>\r\n        <path d=\"M 525 4666 \r\nL 3525 4666 \r\nL 3525 4397 \r\nL 1831 0 \r\nL 1172 0 \r\nL 2766 4134 \r\nL 525 4134 \r\nL 525 4666 \r\nz\r\n\" id=\"DejaVuSans-37\" transform=\"scale(0.015625)\"/>\r\n       </defs>\r\n       <use xlink:href=\"#DejaVuSans-37\"/>\r\n       <use x=\"63.623047\" xlink:href=\"#DejaVuSans-30\"/>\r\n       <use x=\"127.246094\" xlink:href=\"#DejaVuSans-30\"/>\r\n       <use x=\"190.869141\" xlink:href=\"#DejaVuSans-30\"/>\r\n      </g>\r\n     </g>\r\n    </g>\r\n    <g id=\"text_50\">\r\n     <!-- count -->\r\n     <g transform=\"translate(14.798438 151.223125)rotate(-90)scale(0.1 -0.1)\">\r\n      <use xlink:href=\"#DejaVuSans-63\"/>\r\n      <use x=\"54.980469\" xlink:href=\"#DejaVuSans-6f\"/>\r\n      <use x=\"116.162109\" xlink:href=\"#DejaVuSans-75\"/>\r\n      <use x=\"179.541016\" xlink:href=\"#DejaVuSans-6e\"/>\r\n      <use x=\"242.919922\" xlink:href=\"#DejaVuSans-74\"/>\r\n     </g>\r\n    </g>\r\n   </g>\r\n   <g id=\"patch_43\">\r\n    <path d=\"M 53.328125 245.836875 \r\nL 53.328125 28.396875 \r\n\" style=\"fill:none;stroke:#000000;stroke-linecap:square;stroke-linejoin:miter;stroke-width:0.8;\"/>\r\n   </g>\r\n   <g id=\"patch_44\">\r\n    <path d=\"M 388.128125 245.836875 \r\nL 388.128125 28.396875 \r\n\" style=\"fill:none;stroke:#000000;stroke-linecap:square;stroke-linejoin:miter;stroke-width:0.8;\"/>\r\n   </g>\r\n   <g id=\"patch_45\">\r\n    <path d=\"M 53.328125 245.836875 \r\nL 388.128125 245.836875 \r\n\" style=\"fill:none;stroke:#000000;stroke-linecap:square;stroke-linejoin:miter;stroke-width:0.8;\"/>\r\n   </g>\r\n   <g id=\"patch_46\">\r\n    <path d=\"M 53.328125 28.396875 \r\nL 388.128125 28.396875 \r\n\" style=\"fill:none;stroke:#000000;stroke-linecap:square;stroke-linejoin:miter;stroke-width:0.8;\"/>\r\n   </g>\r\n   <g id=\"text_51\">\r\n    <!-- Locations with Highest Jobs -->\r\n    <g transform=\"translate(83.579688 22.396875)scale(0.2 -0.2)\">\r\n     <use xlink:href=\"#DejaVuSans-4c\"/>\r\n     <use x=\"53.962891\" xlink:href=\"#DejaVuSans-6f\"/>\r\n     <use x=\"115.144531\" xlink:href=\"#DejaVuSans-63\"/>\r\n     <use x=\"170.125\" xlink:href=\"#DejaVuSans-61\"/>\r\n     <use x=\"231.404297\" xlink:href=\"#DejaVuSans-74\"/>\r\n     <use x=\"270.613281\" xlink:href=\"#DejaVuSans-69\"/>\r\n     <use x=\"298.396484\" xlink:href=\"#DejaVuSans-6f\"/>\r\n     <use x=\"359.578125\" xlink:href=\"#DejaVuSans-6e\"/>\r\n     <use x=\"422.957031\" xlink:href=\"#DejaVuSans-73\"/>\r\n     <use x=\"475.056641\" xlink:href=\"#DejaVuSans-20\"/>\r\n     <use x=\"506.84375\" xlink:href=\"#DejaVuSans-77\"/>\r\n     <use x=\"588.630859\" xlink:href=\"#DejaVuSans-69\"/>\r\n     <use x=\"616.414062\" xlink:href=\"#DejaVuSans-74\"/>\r\n     <use x=\"655.623047\" xlink:href=\"#DejaVuSans-68\"/>\r\n     <use x=\"719.001953\" xlink:href=\"#DejaVuSans-20\"/>\r\n     <use x=\"750.789062\" xlink:href=\"#DejaVuSans-48\"/>\r\n     <use x=\"825.984375\" xlink:href=\"#DejaVuSans-69\"/>\r\n     <use x=\"853.767578\" xlink:href=\"#DejaVuSans-67\"/>\r\n     <use x=\"917.244141\" xlink:href=\"#DejaVuSans-68\"/>\r\n     <use x=\"980.623047\" xlink:href=\"#DejaVuSans-65\"/>\r\n     <use x=\"1042.146484\" xlink:href=\"#DejaVuSans-73\"/>\r\n     <use x=\"1094.246094\" xlink:href=\"#DejaVuSans-74\"/>\r\n     <use x=\"1133.455078\" xlink:href=\"#DejaVuSans-20\"/>\r\n     <use x=\"1165.242188\" xlink:href=\"#DejaVuSans-4a\"/>\r\n     <use x=\"1194.734375\" xlink:href=\"#DejaVuSans-6f\"/>\r\n     <use x=\"1255.916016\" xlink:href=\"#DejaVuSans-62\"/>\r\n     <use x=\"1319.392578\" xlink:href=\"#DejaVuSans-73\"/>\r\n    </g>\r\n   </g>\r\n  </g>\r\n </g>\r\n <defs>\r\n  <clipPath id=\"p6d267527ae\">\r\n   <rect height=\"217.44\" width=\"334.8\" x=\"53.328125\" y=\"28.396875\"/>\r\n  </clipPath>\r\n </defs>\r\n</svg>\r\n",
      "image/png": "[encoded data removed]"
     },
     "metadata": {
      "needs_background": "light"
     }
    }
   ],
   "source": [
    "sns.countplot(x = data['joblocation_address'], palette = 'inferno')\n",
    "plt.title('Locations with Highest Jobs', fontsize = 20)\n",
    "plt.xlabel(' ')\n",
    "plt.xticks(rotation = 90)\n",
    "plt.show()"
   ]
  },
  {
   "source": [
    "## Cleaning Experience column"
   ],
   "cell_type": "markdown",
   "metadata": {}
  },
  {
   "cell_type": "code",
   "execution_count": 8,
   "metadata": {},
   "outputs": [
    {
     "output_type": "stream",
     "name": "stdout",
     "text": [
      "0          0 - 1 yrs\n1          0 - 0 yrs\n2          4 - 8 yrs\n3        11 - 15 yrs\n3        11 - 15 yrs\n            ...     \n21996      3 - 5 yrs\n21997      2 - 4 yrs\n21998     7 - 12 yrs\n21998     7 - 12 yrs\n21999     5 - 10 yrs\nName: experience, Length: 37185, dtype: object\n"
     ]
    }
   ],
   "source": [
    "print(data['experience'])\n",
    "data['experience'] = data['experience'].str.split(' ')"
   ]
  },
  {
   "cell_type": "code",
   "execution_count": 9,
   "metadata": {},
   "outputs": [
    {
     "output_type": "execute_result",
     "data": {
      "text/plain": [
       "2      7384\n",
       "0      6470\n",
       "3      5397\n",
       "1      4556\n",
       "5      3366\n",
       "4      3169\n",
       "6      1539\n",
       "10     1442\n",
       "8      1300\n",
       "7      1066\n",
       "9       486\n",
       "12      318\n",
       "15      291\n",
       "Not     111\n",
       "13       75\n",
       "11       75\n",
       "14       63\n",
       "20       27\n",
       "18       25\n",
       "16       16\n",
       "17        6\n",
       "26        1\n",
       "25        1\n",
       "23        1\n",
       "Name: Min Experience, dtype: int64"
      ]
     },
     "metadata": {},
     "execution_count": 9
    }
   ],
   "source": [
    "# Split experience into 2 columns: minimum and maximum\n",
    "data['Min Experience'] = data['experience'].apply(lambda x: x[0])\n",
    "data['Max Experience'] = data['experience'].apply(lambda x: x[2] if len(x) > 2 else x[1])\n",
    "data['Min Experience'].value_counts()"
   ]
  },
  {
   "cell_type": "code",
   "execution_count": 10,
   "metadata": {},
   "outputs": [
    {
     "output_type": "execute_result",
     "data": {
      "text/plain": [
       "5            6542\n",
       "7            4550\n",
       "8            3777\n",
       "6            3351\n",
       "3            3269\n",
       "10           2904\n",
       "4            2686\n",
       "9            1828\n",
       "2            1618\n",
       "1            1106\n",
       "12           1098\n",
       "11           1063\n",
       "15            842\n",
       "13            688\n",
       "20            503\n",
       "0             378\n",
       "14            251\n",
       "18            136\n",
       "Mentioned     111\n",
       "16            109\n",
       "17             95\n",
       "25             85\n",
       "22             85\n",
       "19             28\n",
       "23             27\n",
       "24             21\n",
       "21             12\n",
       "30             11\n",
       "28              8\n",
       "26              1\n",
       "27              1\n",
       "-1              1\n",
       "Name: Max Experience, dtype: int64"
      ]
     },
     "metadata": {},
     "execution_count": 10
    }
   ],
   "source": [
    "data['Max Experience'].value_counts()"
   ]
  },
  {
   "cell_type": "code",
   "execution_count": 11,
   "metadata": {},
   "outputs": [],
   "source": [
    "data['Min Experience'] = data['Min Experience'].replace('Not', 0)\n",
    "data['Min Experience'] = data['Min Experience'].astype('int')\n",
    "data['Max Experience'] = data['Max Experience'].replace(('Mentioned', '-1'), 5)\n",
    "data['Max Experience'] = data['Max Experience'].astype('int')"
   ]
  },
  {
   "cell_type": "code",
   "execution_count": 12,
   "metadata": {},
   "outputs": [
    {
     "output_type": "stream",
     "name": "stderr",
     "text": [
      "C:\\Users\\claim\\AppData\\Local\\Programs\\Python\\Python39\\lib\\site-packages\\seaborn\\_decorators.py:36: FutureWarning: Pass the following variable as a keyword arg: x. From version 0.12, the only valid positional argument will be `data`, and passing other arguments without an explicit keyword will result in an error or misinterpretation.\n",
      "  warnings.warn(\n",
      "C:\\Users\\claim\\AppData\\Local\\Programs\\Python\\Python39\\lib\\site-packages\\seaborn\\_decorators.py:36: FutureWarning: Pass the following variable as a keyword arg: x. From version 0.12, the only valid positional argument will be `data`, and passing other arguments without an explicit keyword will result in an error or misinterpretation.\n",
      "  warnings.warn(\n"
     ]
    },
    {
     "output_type": "display_data",
     "data": {
      "text/plain": "<Figure size 1080x288 with 2 Axes>",
      "image/svg+xml": "<?xml version=\"1.0\" encoding=\"utf-8\" standalone=\"no\"?>\r\n<!DOCTYPE svg PUBLIC \"-//W3C//DTD SVG 1.1//EN\"\r\n  \"http://www.w3.org/Graphics/SVG/1.1/DTD/svg11.dtd\">\r\n<svg height=\"290.028437pt\" version=\"1.1\" viewBox=\"0 0 897.528125 290.028437\" width=\"897.528125pt\" xmlns=\"http://www.w3.org/2000/svg\" xmlns:xlink=\"http://www.w3.org/1999/xlink\">\r\n <metadata>\r\n  <rdf:RDF xmlns:cc=\"http://creativecommons.org/ns#\" xmlns:dc=\"http://purl.org/dc/elements/1.1/\" xmlns:rdf=\"http://www.w3.org/1999/02/22-rdf-syntax-ns#\">\r\n   <cc:Work>\r\n    <dc:type rdf:resource=\"http://purl.org/dc/dcmitype/StillImage\"/>\r\n    <dc:date>2021-05-10T21:51:03.007551</dc:date>\r\n    <dc:format>image/svg+xml</dc:format>\r\n    <dc:creator>\r\n     <cc:Agent>\r\n      <dc:title>Matplotlib v3.4.1, https://matplotlib.org/</dc:title>\r\n     </cc:Agent>\r\n    </dc:creator>\r\n   </cc:Work>\r\n  </rdf:RDF>\r\n </metadata>\r\n <defs>\r\n  <style type=\"text/css\">*{stroke-linecap:butt;stroke-linejoin:round;}</style>\r\n </defs>\r\n <g id=\"figure_1\">\r\n  <g id=\"patch_1\">\r\n   <path d=\"M 0 290.028437 \r\nL 897.528125 290.028437 \r\nL 897.528125 0 \r\nL 0 0 \r\nz\r\n\" style=\"fill:none;\"/>\r\n  </g>\r\n  <g id=\"axes_1\">\r\n   <g id=\"patch_2\">\r\n    <path d=\"M 53.328125 253.44 \r\nL 433.78267 253.44 \r\nL 433.78267 36 \r\nL 53.328125 36 \r\nz\r\n\" style=\"fill:#ffffff;\"/>\r\n   </g>\r\n   <g id=\"patch_3\">\r\n    <path clip-path=\"url(#p56198bf0e8)\" d=\"M 54.982275 253.44 \r\nL 68.215477 253.44 \r\nL 68.215477 68.874577 \r\nL 54.982275 68.874577 \r\nz\r\n\" style=\"fill:#070613;\"/>\r\n   </g>\r\n   <g id=\"patch_4\">\r\n    <path clip-path=\"url(#p56198bf0e8)\" d=\"M 71.523777 253.44 \r\nL 84.756979 253.44 \r\nL 84.756979 125.666095 \r\nL 71.523777 125.666095 \r\nz\r\n\" style=\"fill:#131029;\"/>\r\n   </g>\r\n   <g id=\"patch_5\">\r\n    <path clip-path=\"url(#p56198bf0e8)\" d=\"M 88.065279 253.44 \r\nL 101.298481 253.44 \r\nL 101.298481 46.354286 \r\nL 88.065279 46.354286 \r\nz\r\n\" style=\"fill:#211740;\"/>\r\n   </g>\r\n   <g id=\"patch_6\">\r\n    <path clip-path=\"url(#p56198bf0e8)\" d=\"M 104.606781 253.44 \r\nL 117.839983 253.44 \r\nL 117.839983 102.080087 \r\nL 104.606781 102.080087 \r\nz\r\n\" style=\"fill:#2f1b55;\"/>\r\n   </g>\r\n   <g id=\"patch_7\">\r\n    <path clip-path=\"url(#p56198bf0e8)\" d=\"M 121.148283 253.44 \r\nL 134.381485 253.44 \r\nL 134.381485 164.564779 \r\nL 121.148283 164.564779 \r\nz\r\n\" style=\"fill:#3f1c66;\"/>\r\n   </g>\r\n   <g id=\"patch_8\">\r\n    <path clip-path=\"url(#p56198bf0e8)\" d=\"M 137.689785 253.44 \r\nL 150.922987 253.44 \r\nL 150.922987 159.039876 \r\nL 137.689785 159.039876 \r\nz\r\n\" style=\"fill:#4e1f6f;\"/>\r\n   </g>\r\n   <g id=\"patch_9\">\r\n    <path clip-path=\"url(#p56198bf0e8)\" d=\"M 154.231287 253.44 \r\nL 167.464489 253.44 \r\nL 167.464489 210.278446 \r\nL 154.231287 210.278446 \r\nz\r\n\" style=\"fill:#5b2573;\"/>\r\n   </g>\r\n   <g id=\"patch_10\">\r\n    <path clip-path=\"url(#p56198bf0e8)\" d=\"M 170.772789 253.44 \r\nL 184.005991 253.44 \r\nL 184.005991 223.543823 \r\nL 170.772789 223.543823 \r\nz\r\n\" style=\"fill:#692c75;\"/>\r\n   </g>\r\n   <g id=\"patch_11\">\r\n    <path clip-path=\"url(#p56198bf0e8)\" d=\"M 187.314291 253.44 \r\nL 200.547493 253.44 \r\nL 200.547493 216.981247 \r\nL 187.314291 216.981247 \r\nz\r\n\" style=\"fill:#773176;\"/>\r\n   </g>\r\n   <g id=\"patch_12\">\r\n    <path clip-path=\"url(#p56198bf0e8)\" d=\"M 203.855793 253.44 \r\nL 217.088995 253.44 \r\nL 217.088995 239.810036 \r\nL 203.855793 239.810036 \r\nz\r\n\" style=\"fill:#863878;\"/>\r\n   </g>\r\n   <g id=\"patch_13\">\r\n    <path clip-path=\"url(#p56198bf0e8)\" d=\"M 220.397295 253.44 \r\nL 233.630497 253.44 \r\nL 233.630497 212.99883 \r\nL 220.397295 212.99883 \r\nz\r\n\" style=\"fill:#963f79;\"/>\r\n   </g>\r\n   <g id=\"patch_14\">\r\n    <path clip-path=\"url(#p56198bf0e8)\" d=\"M 236.938797 253.44 \r\nL 250.171999 253.44 \r\nL 250.171999 251.33661 \r\nL 236.938797 251.33661 \r\nz\r\n\" style=\"fill:#a74779;\"/>\r\n   </g>\r\n   <g id=\"patch_15\">\r\n    <path clip-path=\"url(#p56198bf0e8)\" d=\"M 253.480299 253.44 \r\nL 266.7135 253.44 \r\nL 266.7135 244.521628 \r\nL 253.480299 244.521628 \r\nz\r\n\" style=\"fill:#b64e77;\"/>\r\n   </g>\r\n   <g id=\"patch_16\">\r\n    <path clip-path=\"url(#p56198bf0e8)\" d=\"M 270.021801 253.44 \r\nL 283.255002 253.44 \r\nL 283.255002 251.33661 \r\nL 270.021801 251.33661 \r\nz\r\n\" style=\"fill:#c65874;\"/>\r\n   </g>\r\n   <g id=\"patch_17\">\r\n    <path clip-path=\"url(#p56198bf0e8)\" d=\"M 286.563303 253.44 \r\nL 299.796504 253.44 \r\nL 299.796504 251.673153 \r\nL 286.563303 251.673153 \r\nz\r\n\" style=\"fill:#d46471;\"/>\r\n   </g>\r\n   <g id=\"patch_18\">\r\n    <path clip-path=\"url(#p56198bf0e8)\" d=\"M 303.104805 253.44 \r\nL 316.338006 253.44 \r\nL 316.338006 245.278848 \r\nL 303.104805 245.278848 \r\nz\r\n\" style=\"fill:#de7270;\"/>\r\n   </g>\r\n   <g id=\"patch_19\">\r\n    <path clip-path=\"url(#p56198bf0e8)\" d=\"M 319.646307 253.44 \r\nL 332.879508 253.44 \r\nL 332.879508 252.991277 \r\nL 319.646307 252.991277 \r\nz\r\n\" style=\"fill:#e48170;\"/>\r\n   </g>\r\n   <g id=\"patch_20\">\r\n    <path clip-path=\"url(#p56198bf0e8)\" d=\"M 336.187809 253.44 \r\nL 349.42101 253.44 \r\nL 349.42101 253.271729 \r\nL 336.187809 253.271729 \r\nz\r\n\" style=\"fill:#e89275;\"/>\r\n   </g>\r\n   <g id=\"patch_21\">\r\n    <path clip-path=\"url(#p56198bf0e8)\" d=\"M 352.729311 253.44 \r\nL 365.962512 253.44 \r\nL 365.962512 252.73887 \r\nL 352.729311 252.73887 \r\nz\r\n\" style=\"fill:#eba27d;\"/>\r\n   </g>\r\n   <g id=\"patch_22\">\r\n    <path clip-path=\"url(#p56198bf0e8)\" d=\"M 369.270813 253.44 \r\nL 382.504014 253.44 \r\nL 382.504014 252.68278 \r\nL 369.270813 252.68278 \r\nz\r\n\" style=\"fill:#eeb389;\"/>\r\n   </g>\r\n   <g id=\"patch_23\">\r\n    <path clip-path=\"url(#p56198bf0e8)\" d=\"M 385.812315 253.44 \r\nL 399.045516 253.44 \r\nL 399.045516 253.411955 \r\nL 385.812315 253.411955 \r\nz\r\n\" style=\"fill:#efc497;\"/>\r\n   </g>\r\n   <g id=\"patch_24\">\r\n    <path clip-path=\"url(#p56198bf0e8)\" d=\"M 402.353817 253.44 \r\nL 415.587018 253.44 \r\nL 415.587018 253.411955 \r\nL 402.353817 253.411955 \r\nz\r\n\" style=\"fill:#f1d4a5;\"/>\r\n   </g>\r\n   <g id=\"patch_25\">\r\n    <path clip-path=\"url(#p56198bf0e8)\" d=\"M 418.895319 253.44 \r\nL 432.12852 253.44 \r\nL 432.12852 253.411955 \r\nL 418.895319 253.411955 \r\nz\r\n\" style=\"fill:#f3e5b6;\"/>\r\n   </g>\r\n   <g id=\"matplotlib.axis_1\">\r\n    <g id=\"xtick_1\">\r\n     <g id=\"line2d_1\">\r\n      <defs>\r\n       <path d=\"M 0 0 \r\nL 0 3.5 \r\n\" id=\"m9a4e05203c\" style=\"stroke:#000000;stroke-width:0.8;\"/>\r\n      </defs>\r\n      <g>\r\n       <use style=\"stroke:#000000;stroke-width:0.8;\" x=\"61.598876\" xlink:href=\"#m9a4e05203c\" y=\"253.44\"/>\r\n      </g>\r\n     </g>\r\n     <g id=\"text_1\">\r\n      <!-- 0 -->\r\n      <g transform=\"translate(58.735751 267.278594)scale(0.09 -0.09)\">\r\n       <defs>\r\n        <path d=\"M 2034 4250 \r\nQ 1547 4250 1301 3770 \r\nQ 1056 3291 1056 2328 \r\nQ 1056 1369 1301 889 \r\nQ 1547 409 2034 409 \r\nQ 2525 409 2770 889 \r\nQ 3016 1369 3016 2328 \r\nQ 3016 3291 2770 3770 \r\nQ 2525 4250 2034 4250 \r\nz\r\nM 2034 4750 \r\nQ 2819 4750 3233 4129 \r\nQ 3647 3509 3647 2328 \r\nQ 3647 1150 3233 529 \r\nQ 2819 -91 2034 -91 \r\nQ 1250 -91 836 529 \r\nQ 422 1150 422 2328 \r\nQ 422 3509 836 4129 \r\nQ 1250 4750 2034 4750 \r\nz\r\n\" id=\"DejaVuSans-30\" transform=\"scale(0.015625)\"/>\r\n       </defs>\r\n       <use xlink:href=\"#DejaVuSans-30\"/>\r\n      </g>\r\n     </g>\r\n    </g>\r\n    <g id=\"xtick_2\">\r\n     <g id=\"line2d_2\">\r\n      <g>\r\n       <use style=\"stroke:#000000;stroke-width:0.8;\" x=\"78.140378\" xlink:href=\"#m9a4e05203c\" y=\"253.44\"/>\r\n      </g>\r\n     </g>\r\n     <g id=\"text_2\">\r\n      <!-- 1 -->\r\n      <g transform=\"translate(75.277253 267.278594)scale(0.09 -0.09)\">\r\n       <defs>\r\n        <path d=\"M 794 531 \r\nL 1825 531 \r\nL 1825 4091 \r\nL 703 3866 \r\nL 703 4441 \r\nL 1819 4666 \r\nL 2450 4666 \r\nL 2450 531 \r\nL 3481 531 \r\nL 3481 0 \r\nL 794 0 \r\nL 794 531 \r\nz\r\n\" id=\"DejaVuSans-31\" transform=\"scale(0.015625)\"/>\r\n       </defs>\r\n       <use xlink:href=\"#DejaVuSans-31\"/>\r\n      </g>\r\n     </g>\r\n    </g>\r\n    <g id=\"xtick_3\">\r\n     <g id=\"line2d_3\">\r\n      <g>\r\n       <use style=\"stroke:#000000;stroke-width:0.8;\" x=\"94.68188\" xlink:href=\"#m9a4e05203c\" y=\"253.44\"/>\r\n      </g>\r\n     </g>\r\n     <g id=\"text_3\">\r\n      <!-- 2 -->\r\n      <g transform=\"translate(91.818755 267.278594)scale(0.09 -0.09)\">\r\n       <defs>\r\n        <path d=\"M 1228 531 \r\nL 3431 531 \r\nL 3431 0 \r\nL 469 0 \r\nL 469 531 \r\nQ 828 903 1448 1529 \r\nQ 2069 2156 2228 2338 \r\nQ 2531 2678 2651 2914 \r\nQ 2772 3150 2772 3378 \r\nQ 2772 3750 2511 3984 \r\nQ 2250 4219 1831 4219 \r\nQ 1534 4219 1204 4116 \r\nQ 875 4013 500 3803 \r\nL 500 4441 \r\nQ 881 4594 1212 4672 \r\nQ 1544 4750 1819 4750 \r\nQ 2544 4750 2975 4387 \r\nQ 3406 4025 3406 3419 \r\nQ 3406 3131 3298 2873 \r\nQ 3191 2616 2906 2266 \r\nQ 2828 2175 2409 1742 \r\nQ 1991 1309 1228 531 \r\nz\r\n\" id=\"DejaVuSans-32\" transform=\"scale(0.015625)\"/>\r\n       </defs>\r\n       <use xlink:href=\"#DejaVuSans-32\"/>\r\n      </g>\r\n     </g>\r\n    </g>\r\n    <g id=\"xtick_4\">\r\n     <g id=\"line2d_4\">\r\n      <g>\r\n       <use style=\"stroke:#000000;stroke-width:0.8;\" x=\"111.223382\" xlink:href=\"#m9a4e05203c\" y=\"253.44\"/>\r\n      </g>\r\n     </g>\r\n     <g id=\"text_4\">\r\n      <!-- 3 -->\r\n      <g transform=\"translate(108.360257 267.278594)scale(0.09 -0.09)\">\r\n       <defs>\r\n        <path d=\"M 2597 2516 \r\nQ 3050 2419 3304 2112 \r\nQ 3559 1806 3559 1356 \r\nQ 3559 666 3084 287 \r\nQ 2609 -91 1734 -91 \r\nQ 1441 -91 1130 -33 \r\nQ 819 25 488 141 \r\nL 488 750 \r\nQ 750 597 1062 519 \r\nQ 1375 441 1716 441 \r\nQ 2309 441 2620 675 \r\nQ 2931 909 2931 1356 \r\nQ 2931 1769 2642 2001 \r\nQ 2353 2234 1838 2234 \r\nL 1294 2234 \r\nL 1294 2753 \r\nL 1863 2753 \r\nQ 2328 2753 2575 2939 \r\nQ 2822 3125 2822 3475 \r\nQ 2822 3834 2567 4026 \r\nQ 2313 4219 1838 4219 \r\nQ 1578 4219 1281 4162 \r\nQ 984 4106 628 3988 \r\nL 628 4550 \r\nQ 988 4650 1302 4700 \r\nQ 1616 4750 1894 4750 \r\nQ 2613 4750 3031 4423 \r\nQ 3450 4097 3450 3541 \r\nQ 3450 3153 3228 2886 \r\nQ 3006 2619 2597 2516 \r\nz\r\n\" id=\"DejaVuSans-33\" transform=\"scale(0.015625)\"/>\r\n       </defs>\r\n       <use xlink:href=\"#DejaVuSans-33\"/>\r\n      </g>\r\n     </g>\r\n    </g>\r\n    <g id=\"xtick_5\">\r\n     <g id=\"line2d_5\">\r\n      <g>\r\n       <use style=\"stroke:#000000;stroke-width:0.8;\" x=\"127.764884\" xlink:href=\"#m9a4e05203c\" y=\"253.44\"/>\r\n      </g>\r\n     </g>\r\n     <g id=\"text_5\">\r\n      <!-- 4 -->\r\n      <g transform=\"translate(124.901759 267.278594)scale(0.09 -0.09)\">\r\n       <defs>\r\n        <path d=\"M 2419 4116 \r\nL 825 1625 \r\nL 2419 1625 \r\nL 2419 4116 \r\nz\r\nM 2253 4666 \r\nL 3047 4666 \r\nL 3047 1625 \r\nL 3713 1625 \r\nL 3713 1100 \r\nL 3047 1100 \r\nL 3047 0 \r\nL 2419 0 \r\nL 2419 1100 \r\nL 313 1100 \r\nL 313 1709 \r\nL 2253 4666 \r\nz\r\n\" id=\"DejaVuSans-34\" transform=\"scale(0.015625)\"/>\r\n       </defs>\r\n       <use xlink:href=\"#DejaVuSans-34\"/>\r\n      </g>\r\n     </g>\r\n    </g>\r\n    <g id=\"xtick_6\">\r\n     <g id=\"line2d_6\">\r\n      <g>\r\n       <use style=\"stroke:#000000;stroke-width:0.8;\" x=\"144.306386\" xlink:href=\"#m9a4e05203c\" y=\"253.44\"/>\r\n      </g>\r\n     </g>\r\n     <g id=\"text_6\">\r\n      <!-- 5 -->\r\n      <g transform=\"translate(141.443261 267.278594)scale(0.09 -0.09)\">\r\n       <defs>\r\n        <path d=\"M 691 4666 \r\nL 3169 4666 \r\nL 3169 4134 \r\nL 1269 4134 \r\nL 1269 2991 \r\nQ 1406 3038 1543 3061 \r\nQ 1681 3084 1819 3084 \r\nQ 2600 3084 3056 2656 \r\nQ 3513 2228 3513 1497 \r\nQ 3513 744 3044 326 \r\nQ 2575 -91 1722 -91 \r\nQ 1428 -91 1123 -41 \r\nQ 819 9 494 109 \r\nL 494 744 \r\nQ 775 591 1075 516 \r\nQ 1375 441 1709 441 \r\nQ 2250 441 2565 725 \r\nQ 2881 1009 2881 1497 \r\nQ 2881 1984 2565 2268 \r\nQ 2250 2553 1709 2553 \r\nQ 1456 2553 1204 2497 \r\nQ 953 2441 691 2322 \r\nL 691 4666 \r\nz\r\n\" id=\"DejaVuSans-35\" transform=\"scale(0.015625)\"/>\r\n       </defs>\r\n       <use xlink:href=\"#DejaVuSans-35\"/>\r\n      </g>\r\n     </g>\r\n    </g>\r\n    <g id=\"xtick_7\">\r\n     <g id=\"line2d_7\">\r\n      <g>\r\n       <use style=\"stroke:#000000;stroke-width:0.8;\" x=\"160.847888\" xlink:href=\"#m9a4e05203c\" y=\"253.44\"/>\r\n      </g>\r\n     </g>\r\n     <g id=\"text_7\">\r\n      <!-- 6 -->\r\n      <g transform=\"translate(157.984763 267.278594)scale(0.09 -0.09)\">\r\n       <defs>\r\n        <path d=\"M 2113 2584 \r\nQ 1688 2584 1439 2293 \r\nQ 1191 2003 1191 1497 \r\nQ 1191 994 1439 701 \r\nQ 1688 409 2113 409 \r\nQ 2538 409 2786 701 \r\nQ 3034 994 3034 1497 \r\nQ 3034 2003 2786 2293 \r\nQ 2538 2584 2113 2584 \r\nz\r\nM 3366 4563 \r\nL 3366 3988 \r\nQ 3128 4100 2886 4159 \r\nQ 2644 4219 2406 4219 \r\nQ 1781 4219 1451 3797 \r\nQ 1122 3375 1075 2522 \r\nQ 1259 2794 1537 2939 \r\nQ 1816 3084 2150 3084 \r\nQ 2853 3084 3261 2657 \r\nQ 3669 2231 3669 1497 \r\nQ 3669 778 3244 343 \r\nQ 2819 -91 2113 -91 \r\nQ 1303 -91 875 529 \r\nQ 447 1150 447 2328 \r\nQ 447 3434 972 4092 \r\nQ 1497 4750 2381 4750 \r\nQ 2619 4750 2861 4703 \r\nQ 3103 4656 3366 4563 \r\nz\r\n\" id=\"DejaVuSans-36\" transform=\"scale(0.015625)\"/>\r\n       </defs>\r\n       <use xlink:href=\"#DejaVuSans-36\"/>\r\n      </g>\r\n     </g>\r\n    </g>\r\n    <g id=\"xtick_8\">\r\n     <g id=\"line2d_8\">\r\n      <g>\r\n       <use style=\"stroke:#000000;stroke-width:0.8;\" x=\"177.38939\" xlink:href=\"#m9a4e05203c\" y=\"253.44\"/>\r\n      </g>\r\n     </g>\r\n     <g id=\"text_8\">\r\n      <!-- 7 -->\r\n      <g transform=\"translate(174.526265 267.278594)scale(0.09 -0.09)\">\r\n       <defs>\r\n        <path d=\"M 525 4666 \r\nL 3525 4666 \r\nL 3525 4397 \r\nL 1831 0 \r\nL 1172 0 \r\nL 2766 4134 \r\nL 525 4134 \r\nL 525 4666 \r\nz\r\n\" id=\"DejaVuSans-37\" transform=\"scale(0.015625)\"/>\r\n       </defs>\r\n       <use xlink:href=\"#DejaVuSans-37\"/>\r\n      </g>\r\n     </g>\r\n    </g>\r\n    <g id=\"xtick_9\">\r\n     <g id=\"line2d_9\">\r\n      <g>\r\n       <use style=\"stroke:#000000;stroke-width:0.8;\" x=\"193.930892\" xlink:href=\"#m9a4e05203c\" y=\"253.44\"/>\r\n      </g>\r\n     </g>\r\n     <g id=\"text_9\">\r\n      <!-- 8 -->\r\n      <g transform=\"translate(191.067767 267.278594)scale(0.09 -0.09)\">\r\n       <defs>\r\n        <path d=\"M 2034 2216 \r\nQ 1584 2216 1326 1975 \r\nQ 1069 1734 1069 1313 \r\nQ 1069 891 1326 650 \r\nQ 1584 409 2034 409 \r\nQ 2484 409 2743 651 \r\nQ 3003 894 3003 1313 \r\nQ 3003 1734 2745 1975 \r\nQ 2488 2216 2034 2216 \r\nz\r\nM 1403 2484 \r\nQ 997 2584 770 2862 \r\nQ 544 3141 544 3541 \r\nQ 544 4100 942 4425 \r\nQ 1341 4750 2034 4750 \r\nQ 2731 4750 3128 4425 \r\nQ 3525 4100 3525 3541 \r\nQ 3525 3141 3298 2862 \r\nQ 3072 2584 2669 2484 \r\nQ 3125 2378 3379 2068 \r\nQ 3634 1759 3634 1313 \r\nQ 3634 634 3220 271 \r\nQ 2806 -91 2034 -91 \r\nQ 1263 -91 848 271 \r\nQ 434 634 434 1313 \r\nQ 434 1759 690 2068 \r\nQ 947 2378 1403 2484 \r\nz\r\nM 1172 3481 \r\nQ 1172 3119 1398 2916 \r\nQ 1625 2713 2034 2713 \r\nQ 2441 2713 2670 2916 \r\nQ 2900 3119 2900 3481 \r\nQ 2900 3844 2670 4047 \r\nQ 2441 4250 2034 4250 \r\nQ 1625 4250 1398 4047 \r\nQ 1172 3844 1172 3481 \r\nz\r\n\" id=\"DejaVuSans-38\" transform=\"scale(0.015625)\"/>\r\n       </defs>\r\n       <use xlink:href=\"#DejaVuSans-38\"/>\r\n      </g>\r\n     </g>\r\n    </g>\r\n    <g id=\"xtick_10\">\r\n     <g id=\"line2d_10\">\r\n      <g>\r\n       <use style=\"stroke:#000000;stroke-width:0.8;\" x=\"210.472394\" xlink:href=\"#m9a4e05203c\" y=\"253.44\"/>\r\n      </g>\r\n     </g>\r\n     <g id=\"text_10\">\r\n      <!-- 9 -->\r\n      <g transform=\"translate(207.609269 267.278594)scale(0.09 -0.09)\">\r\n       <defs>\r\n        <path d=\"M 703 97 \r\nL 703 672 \r\nQ 941 559 1184 500 \r\nQ 1428 441 1663 441 \r\nQ 2288 441 2617 861 \r\nQ 2947 1281 2994 2138 \r\nQ 2813 1869 2534 1725 \r\nQ 2256 1581 1919 1581 \r\nQ 1219 1581 811 2004 \r\nQ 403 2428 403 3163 \r\nQ 403 3881 828 4315 \r\nQ 1253 4750 1959 4750 \r\nQ 2769 4750 3195 4129 \r\nQ 3622 3509 3622 2328 \r\nQ 3622 1225 3098 567 \r\nQ 2575 -91 1691 -91 \r\nQ 1453 -91 1209 -44 \r\nQ 966 3 703 97 \r\nz\r\nM 1959 2075 \r\nQ 2384 2075 2632 2365 \r\nQ 2881 2656 2881 3163 \r\nQ 2881 3666 2632 3958 \r\nQ 2384 4250 1959 4250 \r\nQ 1534 4250 1286 3958 \r\nQ 1038 3666 1038 3163 \r\nQ 1038 2656 1286 2365 \r\nQ 1534 2075 1959 2075 \r\nz\r\n\" id=\"DejaVuSans-39\" transform=\"scale(0.015625)\"/>\r\n       </defs>\r\n       <use xlink:href=\"#DejaVuSans-39\"/>\r\n      </g>\r\n     </g>\r\n    </g>\r\n    <g id=\"xtick_11\">\r\n     <g id=\"line2d_11\">\r\n      <g>\r\n       <use style=\"stroke:#000000;stroke-width:0.8;\" x=\"227.013896\" xlink:href=\"#m9a4e05203c\" y=\"253.44\"/>\r\n      </g>\r\n     </g>\r\n     <g id=\"text_11\">\r\n      <!-- 10 -->\r\n      <g transform=\"translate(221.287646 267.278594)scale(0.09 -0.09)\">\r\n       <use xlink:href=\"#DejaVuSans-31\"/>\r\n       <use x=\"63.623047\" xlink:href=\"#DejaVuSans-30\"/>\r\n      </g>\r\n     </g>\r\n    </g>\r\n    <g id=\"xtick_12\">\r\n     <g id=\"line2d_12\">\r\n      <g>\r\n       <use style=\"stroke:#000000;stroke-width:0.8;\" x=\"243.555398\" xlink:href=\"#m9a4e05203c\" y=\"253.44\"/>\r\n      </g>\r\n     </g>\r\n     <g id=\"text_12\">\r\n      <!-- 11 -->\r\n      <g transform=\"translate(237.829148 267.278594)scale(0.09 -0.09)\">\r\n       <use xlink:href=\"#DejaVuSans-31\"/>\r\n       <use x=\"63.623047\" xlink:href=\"#DejaVuSans-31\"/>\r\n      </g>\r\n     </g>\r\n    </g>\r\n    <g id=\"xtick_13\">\r\n     <g id=\"line2d_13\">\r\n      <g>\r\n       <use style=\"stroke:#000000;stroke-width:0.8;\" x=\"260.0969\" xlink:href=\"#m9a4e05203c\" y=\"253.44\"/>\r\n      </g>\r\n     </g>\r\n     <g id=\"text_13\">\r\n      <!-- 12 -->\r\n      <g transform=\"translate(254.37065 267.278594)scale(0.09 -0.09)\">\r\n       <use xlink:href=\"#DejaVuSans-31\"/>\r\n       <use x=\"63.623047\" xlink:href=\"#DejaVuSans-32\"/>\r\n      </g>\r\n     </g>\r\n    </g>\r\n    <g id=\"xtick_14\">\r\n     <g id=\"line2d_14\">\r\n      <g>\r\n       <use style=\"stroke:#000000;stroke-width:0.8;\" x=\"276.638402\" xlink:href=\"#m9a4e05203c\" y=\"253.44\"/>\r\n      </g>\r\n     </g>\r\n     <g id=\"text_14\">\r\n      <!-- 13 -->\r\n      <g transform=\"translate(270.912152 267.278594)scale(0.09 -0.09)\">\r\n       <use xlink:href=\"#DejaVuSans-31\"/>\r\n       <use x=\"63.623047\" xlink:href=\"#DejaVuSans-33\"/>\r\n      </g>\r\n     </g>\r\n    </g>\r\n    <g id=\"xtick_15\">\r\n     <g id=\"line2d_15\">\r\n      <g>\r\n       <use style=\"stroke:#000000;stroke-width:0.8;\" x=\"293.179904\" xlink:href=\"#m9a4e05203c\" y=\"253.44\"/>\r\n      </g>\r\n     </g>\r\n     <g id=\"text_15\">\r\n      <!-- 14 -->\r\n      <g transform=\"translate(287.453654 267.278594)scale(0.09 -0.09)\">\r\n       <use xlink:href=\"#DejaVuSans-31\"/>\r\n       <use x=\"63.623047\" xlink:href=\"#DejaVuSans-34\"/>\r\n      </g>\r\n     </g>\r\n    </g>\r\n    <g id=\"xtick_16\">\r\n     <g id=\"line2d_16\">\r\n      <g>\r\n       <use style=\"stroke:#000000;stroke-width:0.8;\" x=\"309.721406\" xlink:href=\"#m9a4e05203c\" y=\"253.44\"/>\r\n      </g>\r\n     </g>\r\n     <g id=\"text_16\">\r\n      <!-- 15 -->\r\n      <g transform=\"translate(303.995156 267.278594)scale(0.09 -0.09)\">\r\n       <use xlink:href=\"#DejaVuSans-31\"/>\r\n       <use x=\"63.623047\" xlink:href=\"#DejaVuSans-35\"/>\r\n      </g>\r\n     </g>\r\n    </g>\r\n    <g id=\"xtick_17\">\r\n     <g id=\"line2d_17\">\r\n      <g>\r\n       <use style=\"stroke:#000000;stroke-width:0.8;\" x=\"326.262908\" xlink:href=\"#m9a4e05203c\" y=\"253.44\"/>\r\n      </g>\r\n     </g>\r\n     <g id=\"text_17\">\r\n      <!-- 16 -->\r\n      <g transform=\"translate(320.536658 267.278594)scale(0.09 -0.09)\">\r\n       <use xlink:href=\"#DejaVuSans-31\"/>\r\n       <use x=\"63.623047\" xlink:href=\"#DejaVuSans-36\"/>\r\n      </g>\r\n     </g>\r\n    </g>\r\n    <g id=\"xtick_18\">\r\n     <g id=\"line2d_18\">\r\n      <g>\r\n       <use style=\"stroke:#000000;stroke-width:0.8;\" x=\"342.80441\" xlink:href=\"#m9a4e05203c\" y=\"253.44\"/>\r\n      </g>\r\n     </g>\r\n     <g id=\"text_18\">\r\n      <!-- 17 -->\r\n      <g transform=\"translate(337.07816 267.278594)scale(0.09 -0.09)\">\r\n       <use xlink:href=\"#DejaVuSans-31\"/>\r\n       <use x=\"63.623047\" xlink:href=\"#DejaVuSans-37\"/>\r\n      </g>\r\n     </g>\r\n    </g>\r\n    <g id=\"xtick_19\">\r\n     <g id=\"line2d_19\">\r\n      <g>\r\n       <use style=\"stroke:#000000;stroke-width:0.8;\" x=\"359.345912\" xlink:href=\"#m9a4e05203c\" y=\"253.44\"/>\r\n      </g>\r\n     </g>\r\n     <g id=\"text_19\">\r\n      <!-- 18 -->\r\n      <g transform=\"translate(353.619662 267.278594)scale(0.09 -0.09)\">\r\n       <use xlink:href=\"#DejaVuSans-31\"/>\r\n       <use x=\"63.623047\" xlink:href=\"#DejaVuSans-38\"/>\r\n      </g>\r\n     </g>\r\n    </g>\r\n    <g id=\"xtick_20\">\r\n     <g id=\"line2d_20\">\r\n      <g>\r\n       <use style=\"stroke:#000000;stroke-width:0.8;\" x=\"375.887414\" xlink:href=\"#m9a4e05203c\" y=\"253.44\"/>\r\n      </g>\r\n     </g>\r\n     <g id=\"text_20\">\r\n      <!-- 20 -->\r\n      <g transform=\"translate(370.161164 267.278594)scale(0.09 -0.09)\">\r\n       <use xlink:href=\"#DejaVuSans-32\"/>\r\n       <use x=\"63.623047\" xlink:href=\"#DejaVuSans-30\"/>\r\n      </g>\r\n     </g>\r\n    </g>\r\n    <g id=\"xtick_21\">\r\n     <g id=\"line2d_21\">\r\n      <g>\r\n       <use style=\"stroke:#000000;stroke-width:0.8;\" x=\"392.428916\" xlink:href=\"#m9a4e05203c\" y=\"253.44\"/>\r\n      </g>\r\n     </g>\r\n     <g id=\"text_21\">\r\n      <!-- 23 -->\r\n      <g transform=\"translate(386.702666 267.278594)scale(0.09 -0.09)\">\r\n       <use xlink:href=\"#DejaVuSans-32\"/>\r\n       <use x=\"63.623047\" xlink:href=\"#DejaVuSans-33\"/>\r\n      </g>\r\n     </g>\r\n    </g>\r\n    <g id=\"xtick_22\">\r\n     <g id=\"line2d_22\">\r\n      <g>\r\n       <use style=\"stroke:#000000;stroke-width:0.8;\" x=\"408.970417\" xlink:href=\"#m9a4e05203c\" y=\"253.44\"/>\r\n      </g>\r\n     </g>\r\n     <g id=\"text_22\">\r\n      <!-- 25 -->\r\n      <g transform=\"translate(403.244167 267.278594)scale(0.09 -0.09)\">\r\n       <use xlink:href=\"#DejaVuSans-32\"/>\r\n       <use x=\"63.623047\" xlink:href=\"#DejaVuSans-35\"/>\r\n      </g>\r\n     </g>\r\n    </g>\r\n    <g id=\"xtick_23\">\r\n     <g id=\"line2d_23\">\r\n      <g>\r\n       <use style=\"stroke:#000000;stroke-width:0.8;\" x=\"425.511919\" xlink:href=\"#m9a4e05203c\" y=\"253.44\"/>\r\n      </g>\r\n     </g>\r\n     <g id=\"text_23\">\r\n      <!-- 26 -->\r\n      <g transform=\"translate(419.785669 267.278594)scale(0.09 -0.09)\">\r\n       <use xlink:href=\"#DejaVuSans-32\"/>\r\n       <use x=\"63.623047\" xlink:href=\"#DejaVuSans-36\"/>\r\n      </g>\r\n     </g>\r\n    </g>\r\n    <g id=\"text_24\">\r\n     <!-- Min Experience -->\r\n     <g transform=\"translate(205.209304 280.74875)scale(0.1 -0.1)\">\r\n      <defs>\r\n       <path d=\"M 628 4666 \r\nL 1569 4666 \r\nL 2759 1491 \r\nL 3956 4666 \r\nL 4897 4666 \r\nL 4897 0 \r\nL 4281 0 \r\nL 4281 4097 \r\nL 3078 897 \r\nL 2444 897 \r\nL 1241 4097 \r\nL 1241 0 \r\nL 628 0 \r\nL 628 4666 \r\nz\r\n\" id=\"DejaVuSans-4d\" transform=\"scale(0.015625)\"/>\r\n       <path d=\"M 603 3500 \r\nL 1178 3500 \r\nL 1178 0 \r\nL 603 0 \r\nL 603 3500 \r\nz\r\nM 603 4863 \r\nL 1178 4863 \r\nL 1178 4134 \r\nL 603 4134 \r\nL 603 4863 \r\nz\r\n\" id=\"DejaVuSans-69\" transform=\"scale(0.015625)\"/>\r\n       <path d=\"M 3513 2113 \r\nL 3513 0 \r\nL 2938 0 \r\nL 2938 2094 \r\nQ 2938 2591 2744 2837 \r\nQ 2550 3084 2163 3084 \r\nQ 1697 3084 1428 2787 \r\nQ 1159 2491 1159 1978 \r\nL 1159 0 \r\nL 581 0 \r\nL 581 3500 \r\nL 1159 3500 \r\nL 1159 2956 \r\nQ 1366 3272 1645 3428 \r\nQ 1925 3584 2291 3584 \r\nQ 2894 3584 3203 3211 \r\nQ 3513 2838 3513 2113 \r\nz\r\n\" id=\"DejaVuSans-6e\" transform=\"scale(0.015625)\"/>\r\n       <path id=\"DejaVuSans-20\" transform=\"scale(0.015625)\"/>\r\n       <path d=\"M 628 4666 \r\nL 3578 4666 \r\nL 3578 4134 \r\nL 1259 4134 \r\nL 1259 2753 \r\nL 3481 2753 \r\nL 3481 2222 \r\nL 1259 2222 \r\nL 1259 531 \r\nL 3634 531 \r\nL 3634 0 \r\nL 628 0 \r\nL 628 4666 \r\nz\r\n\" id=\"DejaVuSans-45\" transform=\"scale(0.015625)\"/>\r\n       <path d=\"M 3513 3500 \r\nL 2247 1797 \r\nL 3578 0 \r\nL 2900 0 \r\nL 1881 1375 \r\nL 863 0 \r\nL 184 0 \r\nL 1544 1831 \r\nL 300 3500 \r\nL 978 3500 \r\nL 1906 2253 \r\nL 2834 3500 \r\nL 3513 3500 \r\nz\r\n\" id=\"DejaVuSans-78\" transform=\"scale(0.015625)\"/>\r\n       <path d=\"M 1159 525 \r\nL 1159 -1331 \r\nL 581 -1331 \r\nL 581 3500 \r\nL 1159 3500 \r\nL 1159 2969 \r\nQ 1341 3281 1617 3432 \r\nQ 1894 3584 2278 3584 \r\nQ 2916 3584 3314 3078 \r\nQ 3713 2572 3713 1747 \r\nQ 3713 922 3314 415 \r\nQ 2916 -91 2278 -91 \r\nQ 1894 -91 1617 61 \r\nQ 1341 213 1159 525 \r\nz\r\nM 3116 1747 \r\nQ 3116 2381 2855 2742 \r\nQ 2594 3103 2138 3103 \r\nQ 1681 3103 1420 2742 \r\nQ 1159 2381 1159 1747 \r\nQ 1159 1113 1420 752 \r\nQ 1681 391 2138 391 \r\nQ 2594 391 2855 752 \r\nQ 3116 1113 3116 1747 \r\nz\r\n\" id=\"DejaVuSans-70\" transform=\"scale(0.015625)\"/>\r\n       <path d=\"M 3597 1894 \r\nL 3597 1613 \r\nL 953 1613 \r\nQ 991 1019 1311 708 \r\nQ 1631 397 2203 397 \r\nQ 2534 397 2845 478 \r\nQ 3156 559 3463 722 \r\nL 3463 178 \r\nQ 3153 47 2828 -22 \r\nQ 2503 -91 2169 -91 \r\nQ 1331 -91 842 396 \r\nQ 353 884 353 1716 \r\nQ 353 2575 817 3079 \r\nQ 1281 3584 2069 3584 \r\nQ 2775 3584 3186 3129 \r\nQ 3597 2675 3597 1894 \r\nz\r\nM 3022 2063 \r\nQ 3016 2534 2758 2815 \r\nQ 2500 3097 2075 3097 \r\nQ 1594 3097 1305 2825 \r\nQ 1016 2553 972 2059 \r\nL 3022 2063 \r\nz\r\n\" id=\"DejaVuSans-65\" transform=\"scale(0.015625)\"/>\r\n       <path d=\"M 2631 2963 \r\nQ 2534 3019 2420 3045 \r\nQ 2306 3072 2169 3072 \r\nQ 1681 3072 1420 2755 \r\nQ 1159 2438 1159 1844 \r\nL 1159 0 \r\nL 581 0 \r\nL 581 3500 \r\nL 1159 3500 \r\nL 1159 2956 \r\nQ 1341 3275 1631 3429 \r\nQ 1922 3584 2338 3584 \r\nQ 2397 3584 2469 3576 \r\nQ 2541 3569 2628 3553 \r\nL 2631 2963 \r\nz\r\n\" id=\"DejaVuSans-72\" transform=\"scale(0.015625)\"/>\r\n       <path d=\"M 3122 3366 \r\nL 3122 2828 \r\nQ 2878 2963 2633 3030 \r\nQ 2388 3097 2138 3097 \r\nQ 1578 3097 1268 2742 \r\nQ 959 2388 959 1747 \r\nQ 959 1106 1268 751 \r\nQ 1578 397 2138 397 \r\nQ 2388 397 2633 464 \r\nQ 2878 531 3122 666 \r\nL 3122 134 \r\nQ 2881 22 2623 -34 \r\nQ 2366 -91 2075 -91 \r\nQ 1284 -91 818 406 \r\nQ 353 903 353 1747 \r\nQ 353 2603 823 3093 \r\nQ 1294 3584 2113 3584 \r\nQ 2378 3584 2631 3529 \r\nQ 2884 3475 3122 3366 \r\nz\r\n\" id=\"DejaVuSans-63\" transform=\"scale(0.015625)\"/>\r\n      </defs>\r\n      <use xlink:href=\"#DejaVuSans-4d\"/>\r\n      <use x=\"86.279297\" xlink:href=\"#DejaVuSans-69\"/>\r\n      <use x=\"114.0625\" xlink:href=\"#DejaVuSans-6e\"/>\r\n      <use x=\"177.441406\" xlink:href=\"#DejaVuSans-20\"/>\r\n      <use x=\"209.228516\" xlink:href=\"#DejaVuSans-45\"/>\r\n      <use x=\"272.412109\" xlink:href=\"#DejaVuSans-78\"/>\r\n      <use x=\"331.591797\" xlink:href=\"#DejaVuSans-70\"/>\r\n      <use x=\"395.068359\" xlink:href=\"#DejaVuSans-65\"/>\r\n      <use x=\"456.591797\" xlink:href=\"#DejaVuSans-72\"/>\r\n      <use x=\"497.705078\" xlink:href=\"#DejaVuSans-69\"/>\r\n      <use x=\"525.488281\" xlink:href=\"#DejaVuSans-65\"/>\r\n      <use x=\"587.011719\" xlink:href=\"#DejaVuSans-6e\"/>\r\n      <use x=\"650.390625\" xlink:href=\"#DejaVuSans-63\"/>\r\n      <use x=\"705.371094\" xlink:href=\"#DejaVuSans-65\"/>\r\n     </g>\r\n    </g>\r\n   </g>\r\n   <g id=\"matplotlib.axis_2\">\r\n    <g id=\"ytick_1\">\r\n     <g id=\"line2d_24\">\r\n      <defs>\r\n       <path d=\"M 0 0 \r\nL -3.5 0 \r\n\" id=\"ma22bd6b861\" style=\"stroke:#000000;stroke-width:0.8;\"/>\r\n      </defs>\r\n      <g>\r\n       <use style=\"stroke:#000000;stroke-width:0.8;\" x=\"53.328125\" xlink:href=\"#ma22bd6b861\" y=\"253.44\"/>\r\n      </g>\r\n     </g>\r\n     <g id=\"text_25\">\r\n      <!-- 0 -->\r\n      <g transform=\"translate(39.965625 257.239219)scale(0.1 -0.1)\">\r\n       <use xlink:href=\"#DejaVuSans-30\"/>\r\n      </g>\r\n     </g>\r\n    </g>\r\n    <g id=\"ytick_2\">\r\n     <g id=\"line2d_25\">\r\n      <g>\r\n       <use style=\"stroke:#000000;stroke-width:0.8;\" x=\"53.328125\" xlink:href=\"#ma22bd6b861\" y=\"225.394806\"/>\r\n      </g>\r\n     </g>\r\n     <g id=\"text_26\">\r\n      <!-- 1000 -->\r\n      <g transform=\"translate(20.878125 229.194025)scale(0.1 -0.1)\">\r\n       <use xlink:href=\"#DejaVuSans-31\"/>\r\n       <use x=\"63.623047\" xlink:href=\"#DejaVuSans-30\"/>\r\n       <use x=\"127.246094\" xlink:href=\"#DejaVuSans-30\"/>\r\n       <use x=\"190.869141\" xlink:href=\"#DejaVuSans-30\"/>\r\n      </g>\r\n     </g>\r\n    </g>\r\n    <g id=\"ytick_3\">\r\n     <g id=\"line2d_26\">\r\n      <g>\r\n       <use style=\"stroke:#000000;stroke-width:0.8;\" x=\"53.328125\" xlink:href=\"#ma22bd6b861\" y=\"197.349612\"/>\r\n      </g>\r\n     </g>\r\n     <g id=\"text_27\">\r\n      <!-- 2000 -->\r\n      <g transform=\"translate(20.878125 201.14883)scale(0.1 -0.1)\">\r\n       <use xlink:href=\"#DejaVuSans-32\"/>\r\n       <use x=\"63.623047\" xlink:href=\"#DejaVuSans-30\"/>\r\n       <use x=\"127.246094\" xlink:href=\"#DejaVuSans-30\"/>\r\n       <use x=\"190.869141\" xlink:href=\"#DejaVuSans-30\"/>\r\n      </g>\r\n     </g>\r\n    </g>\r\n    <g id=\"ytick_4\">\r\n     <g id=\"line2d_27\">\r\n      <g>\r\n       <use style=\"stroke:#000000;stroke-width:0.8;\" x=\"53.328125\" xlink:href=\"#ma22bd6b861\" y=\"169.304417\"/>\r\n      </g>\r\n     </g>\r\n     <g id=\"text_28\">\r\n      <!-- 3000 -->\r\n      <g transform=\"translate(20.878125 173.103636)scale(0.1 -0.1)\">\r\n       <use xlink:href=\"#DejaVuSans-33\"/>\r\n       <use x=\"63.623047\" xlink:href=\"#DejaVuSans-30\"/>\r\n       <use x=\"127.246094\" xlink:href=\"#DejaVuSans-30\"/>\r\n       <use x=\"190.869141\" xlink:href=\"#DejaVuSans-30\"/>\r\n      </g>\r\n     </g>\r\n    </g>\r\n    <g id=\"ytick_5\">\r\n     <g id=\"line2d_28\">\r\n      <g>\r\n       <use style=\"stroke:#000000;stroke-width:0.8;\" x=\"53.328125\" xlink:href=\"#ma22bd6b861\" y=\"141.259223\"/>\r\n      </g>\r\n     </g>\r\n     <g id=\"text_29\">\r\n      <!-- 4000 -->\r\n      <g transform=\"translate(20.878125 145.058442)scale(0.1 -0.1)\">\r\n       <use xlink:href=\"#DejaVuSans-34\"/>\r\n       <use x=\"63.623047\" xlink:href=\"#DejaVuSans-30\"/>\r\n       <use x=\"127.246094\" xlink:href=\"#DejaVuSans-30\"/>\r\n       <use x=\"190.869141\" xlink:href=\"#DejaVuSans-30\"/>\r\n      </g>\r\n     </g>\r\n    </g>\r\n    <g id=\"ytick_6\">\r\n     <g id=\"line2d_29\">\r\n      <g>\r\n       <use style=\"stroke:#000000;stroke-width:0.8;\" x=\"53.328125\" xlink:href=\"#ma22bd6b861\" y=\"113.214029\"/>\r\n      </g>\r\n     </g>\r\n     <g id=\"text_30\">\r\n      <!-- 5000 -->\r\n      <g transform=\"translate(20.878125 117.013248)scale(0.1 -0.1)\">\r\n       <use xlink:href=\"#DejaVuSans-35\"/>\r\n       <use x=\"63.623047\" xlink:href=\"#DejaVuSans-30\"/>\r\n       <use x=\"127.246094\" xlink:href=\"#DejaVuSans-30\"/>\r\n       <use x=\"190.869141\" xlink:href=\"#DejaVuSans-30\"/>\r\n      </g>\r\n     </g>\r\n    </g>\r\n    <g id=\"ytick_7\">\r\n     <g id=\"line2d_30\">\r\n      <g>\r\n       <use style=\"stroke:#000000;stroke-width:0.8;\" x=\"53.328125\" xlink:href=\"#ma22bd6b861\" y=\"85.168835\"/>\r\n      </g>\r\n     </g>\r\n     <g id=\"text_31\">\r\n      <!-- 6000 -->\r\n      <g transform=\"translate(20.878125 88.968053)scale(0.1 -0.1)\">\r\n       <use xlink:href=\"#DejaVuSans-36\"/>\r\n       <use x=\"63.623047\" xlink:href=\"#DejaVuSans-30\"/>\r\n       <use x=\"127.246094\" xlink:href=\"#DejaVuSans-30\"/>\r\n       <use x=\"190.869141\" xlink:href=\"#DejaVuSans-30\"/>\r\n      </g>\r\n     </g>\r\n    </g>\r\n    <g id=\"ytick_8\">\r\n     <g id=\"line2d_31\">\r\n      <g>\r\n       <use style=\"stroke:#000000;stroke-width:0.8;\" x=\"53.328125\" xlink:href=\"#ma22bd6b861\" y=\"57.12364\"/>\r\n      </g>\r\n     </g>\r\n     <g id=\"text_32\">\r\n      <!-- 7000 -->\r\n      <g transform=\"translate(20.878125 60.922859)scale(0.1 -0.1)\">\r\n       <use xlink:href=\"#DejaVuSans-37\"/>\r\n       <use x=\"63.623047\" xlink:href=\"#DejaVuSans-30\"/>\r\n       <use x=\"127.246094\" xlink:href=\"#DejaVuSans-30\"/>\r\n       <use x=\"190.869141\" xlink:href=\"#DejaVuSans-30\"/>\r\n      </g>\r\n     </g>\r\n    </g>\r\n    <g id=\"text_33\">\r\n     <!--   -->\r\n     <g transform=\"translate(14.798438 146.309063)rotate(-90)scale(0.1 -0.1)\">\r\n      <use xlink:href=\"#DejaVuSans-20\"/>\r\n     </g>\r\n    </g>\r\n   </g>\r\n   <g id=\"patch_26\">\r\n    <path d=\"M 53.328125 253.44 \r\nL 53.328125 36 \r\n\" style=\"fill:none;stroke:#000000;stroke-linecap:square;stroke-linejoin:miter;stroke-width:0.8;\"/>\r\n   </g>\r\n   <g id=\"patch_27\">\r\n    <path d=\"M 433.78267 253.44 \r\nL 433.78267 36 \r\n\" style=\"fill:none;stroke:#000000;stroke-linecap:square;stroke-linejoin:miter;stroke-width:0.8;\"/>\r\n   </g>\r\n   <g id=\"patch_28\">\r\n    <path d=\"M 53.328125 253.44 \r\nL 433.78267 253.44 \r\n\" style=\"fill:none;stroke:#000000;stroke-linecap:square;stroke-linejoin:miter;stroke-width:0.8;\"/>\r\n   </g>\r\n   <g id=\"patch_29\">\r\n    <path d=\"M 53.328125 36 \r\nL 433.78267 36 \r\n\" style=\"fill:none;stroke:#000000;stroke-linecap:square;stroke-linejoin:miter;stroke-width:0.8;\"/>\r\n   </g>\r\n  </g>\r\n  <g id=\"axes_2\">\r\n   <g id=\"patch_30\">\r\n    <path d=\"M 509.87358 253.44 \r\nL 890.328125 253.44 \r\nL 890.328125 36 \r\nL 509.87358 36 \r\nz\r\n\" style=\"fill:#ffffff;\"/>\r\n   </g>\r\n   <g id=\"patch_31\">\r\n    <path clip-path=\"url(#p852cbf11ff)\" d=\"M 511.141761 253.44 \r\nL 521.287216 253.44 \r\nL 521.287216 241.675888 \r\nL 511.141761 241.675888 \r\nz\r\n\" style=\"fill:#050510;\"/>\r\n   </g>\r\n   <g id=\"patch_32\">\r\n    <path clip-path=\"url(#p852cbf11ff)\" d=\"M 523.82358 253.44 \r\nL 533.969034 253.44 \r\nL 533.969034 219.01908 \r\nL 523.82358 219.01908 \r\nz\r\n\" style=\"fill:#0d0b1f;\"/>\r\n   </g>\r\n   <g id=\"patch_33\">\r\n    <path clip-path=\"url(#p852cbf11ff)\" d=\"M 536.505398 253.44 \r\nL 546.650852 253.44 \r\nL 546.650852 203.084622 \r\nL 536.505398 203.084622 \r\nz\r\n\" style=\"fill:#16122f;\"/>\r\n   </g>\r\n   <g id=\"patch_34\">\r\n    <path clip-path=\"url(#p852cbf11ff)\" d=\"M 549.187216 253.44 \r\nL 559.33267 253.44 \r\nL 559.33267 151.702218 \r\nL 549.187216 151.702218 \r\nz\r\n\" style=\"fill:#221842;\"/>\r\n   </g>\r\n   <g id=\"patch_35\">\r\n    <path clip-path=\"url(#p852cbf11ff)\" d=\"M 561.869034 253.44 \r\nL 572.014489 253.44 \r\nL 572.014489 169.846338 \r\nL 561.869034 169.846338 \r\nz\r\n\" style=\"fill:#2d1b53;\"/>\r\n   </g>\r\n   <g id=\"patch_36\">\r\n    <path clip-path=\"url(#p852cbf11ff)\" d=\"M 574.550852 253.44 \r\nL 584.696307 253.44 \r\nL 584.696307 46.354286 \r\nL 574.550852 46.354286 \r\nz\r\n\" style=\"fill:#391b61;\"/>\r\n   </g>\r\n   <g id=\"patch_37\">\r\n    <path clip-path=\"url(#p852cbf11ff)\" d=\"M 587.23267 253.44 \r\nL 597.378125 253.44 \r\nL 597.378125 149.150215 \r\nL 587.23267 149.150215 \r\nz\r\n\" style=\"fill:#451c6a;\"/>\r\n   </g>\r\n   <g id=\"patch_38\">\r\n    <path clip-path=\"url(#p852cbf11ff)\" d=\"M 599.914489 253.44 \r\nL 610.059943 253.44 \r\nL 610.059943 111.83495 \r\nL 599.914489 111.83495 \r\nz\r\n\" style=\"fill:#512170;\"/>\r\n   </g>\r\n   <g id=\"patch_39\">\r\n    <path clip-path=\"url(#p852cbf11ff)\" d=\"M 612.596307 253.44 \r\nL 622.741761 253.44 \r\nL 622.741761 135.892248 \r\nL 612.596307 135.892248 \r\nz\r\n\" style=\"fill:#5b2573;\"/>\r\n   </g>\r\n   <g id=\"patch_40\">\r\n    <path clip-path=\"url(#p852cbf11ff)\" d=\"M 625.278125 253.44 \r\nL 635.42358 253.44 \r\nL 635.42358 196.549004 \r\nL 625.278125 196.549004 \r\nz\r\n\" style=\"fill:#652a75;\"/>\r\n   </g>\r\n   <g id=\"patch_41\">\r\n    <path clip-path=\"url(#p852cbf11ff)\" d=\"M 637.959943 253.44 \r\nL 648.105398 253.44 \r\nL 648.105398 163.061744 \r\nL 637.959943 163.061744 \r\nz\r\n\" style=\"fill:#6f2e76;\"/>\r\n   </g>\r\n   <g id=\"patch_42\">\r\n    <path clip-path=\"url(#p852cbf11ff)\" d=\"M 650.641761 253.44 \r\nL 660.787216 253.44 \r\nL 660.787216 220.357326 \r\nL 650.641761 220.357326 \r\nz\r\n\" style=\"fill:#7c3377;\"/>\r\n   </g>\r\n   <g id=\"patch_43\">\r\n    <path clip-path=\"url(#p852cbf11ff)\" d=\"M 663.32358 253.44 \r\nL 673.469034 253.44 \r\nL 673.469034 219.268056 \r\nL 663.32358 219.268056 \r\nz\r\n\" style=\"fill:#873978;\"/>\r\n   </g>\r\n   <g id=\"patch_44\">\r\n    <path clip-path=\"url(#p852cbf11ff)\" d=\"M 676.005398 253.44 \r\nL 686.150852 253.44 \r\nL 686.150852 232.028072 \r\nL 676.005398 232.028072 \r\nz\r\n\" style=\"fill:#933e79;\"/>\r\n   </g>\r\n   <g id=\"patch_45\">\r\n    <path clip-path=\"url(#p852cbf11ff)\" d=\"M 688.687216 253.44 \r\nL 698.83267 253.44 \r\nL 698.83267 245.628381 \r\nL 688.687216 245.628381 \r\nz\r\n\" style=\"fill:#9f4379;\"/>\r\n   </g>\r\n   <g id=\"patch_46\">\r\n    <path clip-path=\"url(#p852cbf11ff)\" d=\"M 701.369034 253.44 \r\nL 711.514489 253.44 \r\nL 711.514489 227.235285 \r\nL 701.369034 227.235285 \r\nz\r\n\" style=\"fill:#ad4a78;\"/>\r\n   </g>\r\n   <g id=\"patch_47\">\r\n    <path clip-path=\"url(#p852cbf11ff)\" d=\"M 714.050852 253.44 \r\nL 724.196307 253.44 \r\nL 724.196307 250.047703 \r\nL 714.050852 250.047703 \r\nz\r\n\" style=\"fill:#b95077;\"/>\r\n   </g>\r\n   <g id=\"patch_48\">\r\n    <path clip-path=\"url(#p852cbf11ff)\" d=\"M 726.73267 253.44 \r\nL 736.878125 253.44 \r\nL 736.878125 250.483411 \r\nL 726.73267 250.483411 \r\nz\r\n\" style=\"fill:#c45775;\"/>\r\n   </g>\r\n   <g id=\"patch_49\">\r\n    <path clip-path=\"url(#p852cbf11ff)\" d=\"M 739.414489 253.44 \r\nL 749.559943 253.44 \r\nL 749.559943 249.20741 \r\nL 739.414489 249.20741 \r\nz\r\n\" style=\"fill:#cf5f72;\"/>\r\n   </g>\r\n   <g id=\"patch_50\">\r\n    <path clip-path=\"url(#p852cbf11ff)\" d=\"M 752.096307 253.44 \r\nL 762.241761 253.44 \r\nL 762.241761 252.568584 \r\nL 752.096307 252.568584 \r\nz\r\n\" style=\"fill:#da6b70;\"/>\r\n   </g>\r\n   <g id=\"patch_51\">\r\n    <path clip-path=\"url(#p852cbf11ff)\" d=\"M 764.778125 253.44 \r\nL 774.92358 253.44 \r\nL 774.92358 237.78564 \r\nL 764.778125 237.78564 \r\nz\r\n\" style=\"fill:#e0766f;\"/>\r\n   </g>\r\n   <g id=\"patch_52\">\r\n    <path clip-path=\"url(#p852cbf11ff)\" d=\"M 777.459943 253.44 \r\nL 787.605398 253.44 \r\nL 787.605398 253.066536 \r\nL 777.459943 253.066536 \r\nz\r\n\" style=\"fill:#e48170;\"/>\r\n   </g>\r\n   <g id=\"patch_53\">\r\n    <path clip-path=\"url(#p852cbf11ff)\" d=\"M 790.141761 253.44 \r\nL 800.287216 253.44 \r\nL 800.287216 250.794631 \r\nL 790.141761 250.794631 \r\nz\r\n\" style=\"fill:#e78d73;\"/>\r\n   </g>\r\n   <g id=\"patch_54\">\r\n    <path clip-path=\"url(#p852cbf11ff)\" d=\"M 802.82358 253.44 \r\nL 812.969034 253.44 \r\nL 812.969034 252.599706 \r\nL 802.82358 252.599706 \r\nz\r\n\" style=\"fill:#ea9b79;\"/>\r\n   </g>\r\n   <g id=\"patch_55\">\r\n    <path clip-path=\"url(#p852cbf11ff)\" d=\"M 815.505398 253.44 \r\nL 825.650852 253.44 \r\nL 825.650852 252.786438 \r\nL 815.505398 252.786438 \r\nz\r\n\" style=\"fill:#eca881;\"/>\r\n   </g>\r\n   <g id=\"patch_56\">\r\n    <path clip-path=\"url(#p852cbf11ff)\" d=\"M 828.187216 253.44 \r\nL 838.33267 253.44 \r\nL 838.33267 250.794631 \r\nL 828.187216 250.794631 \r\nz\r\n\" style=\"fill:#eeb48a;\"/>\r\n   </g>\r\n   <g id=\"patch_57\">\r\n    <path clip-path=\"url(#p852cbf11ff)\" d=\"M 840.869034 253.44 \r\nL 851.014489 253.44 \r\nL 851.014489 253.408878 \r\nL 840.869034 253.408878 \r\nz\r\n\" style=\"fill:#efc194;\"/>\r\n   </g>\r\n   <g id=\"patch_58\">\r\n    <path clip-path=\"url(#p852cbf11ff)\" d=\"M 853.550852 253.44 \r\nL 863.696307 253.44 \r\nL 863.696307 253.408878 \r\nL 853.550852 253.408878 \r\nz\r\n\" style=\"fill:#f1cfa1;\"/>\r\n   </g>\r\n   <g id=\"patch_59\">\r\n    <path clip-path=\"url(#p852cbf11ff)\" d=\"M 866.23267 253.44 \r\nL 876.378125 253.44 \r\nL 876.378125 253.191024 \r\nL 866.23267 253.191024 \r\nz\r\n\" style=\"fill:#f2dcad;\"/>\r\n   </g>\r\n   <g id=\"patch_60\">\r\n    <path clip-path=\"url(#p852cbf11ff)\" d=\"M 878.914489 253.44 \r\nL 889.059943 253.44 \r\nL 889.059943 253.097658 \r\nL 878.914489 253.097658 \r\nz\r\n\" style=\"fill:#f3e8ba;\"/>\r\n   </g>\r\n   <g id=\"matplotlib.axis_3\">\r\n    <g id=\"xtick_24\">\r\n     <g id=\"line2d_32\">\r\n      <g>\r\n       <use style=\"stroke:#000000;stroke-width:0.8;\" x=\"516.214489\" xlink:href=\"#m9a4e05203c\" y=\"253.44\"/>\r\n      </g>\r\n     </g>\r\n     <g id=\"text_34\">\r\n      <!-- 0 -->\r\n      <g transform=\"translate(513.351364 267.278594)scale(0.09 -0.09)\">\r\n       <use xlink:href=\"#DejaVuSans-30\"/>\r\n      </g>\r\n     </g>\r\n    </g>\r\n    <g id=\"xtick_25\">\r\n     <g id=\"line2d_33\">\r\n      <g>\r\n       <use style=\"stroke:#000000;stroke-width:0.8;\" x=\"528.896307\" xlink:href=\"#m9a4e05203c\" y=\"253.44\"/>\r\n      </g>\r\n     </g>\r\n     <g id=\"text_35\">\r\n      <!-- 1 -->\r\n      <g transform=\"translate(526.033182 267.278594)scale(0.09 -0.09)\">\r\n       <use xlink:href=\"#DejaVuSans-31\"/>\r\n      </g>\r\n     </g>\r\n    </g>\r\n    <g id=\"xtick_26\">\r\n     <g id=\"line2d_34\">\r\n      <g>\r\n       <use style=\"stroke:#000000;stroke-width:0.8;\" x=\"541.578125\" xlink:href=\"#m9a4e05203c\" y=\"253.44\"/>\r\n      </g>\r\n     </g>\r\n     <g id=\"text_36\">\r\n      <!-- 2 -->\r\n      <g transform=\"translate(538.715 267.278594)scale(0.09 -0.09)\">\r\n       <use xlink:href=\"#DejaVuSans-32\"/>\r\n      </g>\r\n     </g>\r\n    </g>\r\n    <g id=\"xtick_27\">\r\n     <g id=\"line2d_35\">\r\n      <g>\r\n       <use style=\"stroke:#000000;stroke-width:0.8;\" x=\"554.259943\" xlink:href=\"#m9a4e05203c\" y=\"253.44\"/>\r\n      </g>\r\n     </g>\r\n     <g id=\"text_37\">\r\n      <!-- 3 -->\r\n      <g transform=\"translate(551.396818 267.278594)scale(0.09 -0.09)\">\r\n       <use xlink:href=\"#DejaVuSans-33\"/>\r\n      </g>\r\n     </g>\r\n    </g>\r\n    <g id=\"xtick_28\">\r\n     <g id=\"line2d_36\">\r\n      <g>\r\n       <use style=\"stroke:#000000;stroke-width:0.8;\" x=\"566.941761\" xlink:href=\"#m9a4e05203c\" y=\"253.44\"/>\r\n      </g>\r\n     </g>\r\n     <g id=\"text_38\">\r\n      <!-- 4 -->\r\n      <g transform=\"translate(564.078636 267.278594)scale(0.09 -0.09)\">\r\n       <use xlink:href=\"#DejaVuSans-34\"/>\r\n      </g>\r\n     </g>\r\n    </g>\r\n    <g id=\"xtick_29\">\r\n     <g id=\"line2d_37\">\r\n      <g>\r\n       <use style=\"stroke:#000000;stroke-width:0.8;\" x=\"579.62358\" xlink:href=\"#m9a4e05203c\" y=\"253.44\"/>\r\n      </g>\r\n     </g>\r\n     <g id=\"text_39\">\r\n      <!-- 5 -->\r\n      <g transform=\"translate(576.760455 267.278594)scale(0.09 -0.09)\">\r\n       <use xlink:href=\"#DejaVuSans-35\"/>\r\n      </g>\r\n     </g>\r\n    </g>\r\n    <g id=\"xtick_30\">\r\n     <g id=\"line2d_38\">\r\n      <g>\r\n       <use style=\"stroke:#000000;stroke-width:0.8;\" x=\"592.305398\" xlink:href=\"#m9a4e05203c\" y=\"253.44\"/>\r\n      </g>\r\n     </g>\r\n     <g id=\"text_40\">\r\n      <!-- 6 -->\r\n      <g transform=\"translate(589.442273 267.278594)scale(0.09 -0.09)\">\r\n       <use xlink:href=\"#DejaVuSans-36\"/>\r\n      </g>\r\n     </g>\r\n    </g>\r\n    <g id=\"xtick_31\">\r\n     <g id=\"line2d_39\">\r\n      <g>\r\n       <use style=\"stroke:#000000;stroke-width:0.8;\" x=\"604.987216\" xlink:href=\"#m9a4e05203c\" y=\"253.44\"/>\r\n      </g>\r\n     </g>\r\n     <g id=\"text_41\">\r\n      <!-- 7 -->\r\n      <g transform=\"translate(602.124091 267.278594)scale(0.09 -0.09)\">\r\n       <use xlink:href=\"#DejaVuSans-37\"/>\r\n      </g>\r\n     </g>\r\n    </g>\r\n    <g id=\"xtick_32\">\r\n     <g id=\"line2d_40\">\r\n      <g>\r\n       <use style=\"stroke:#000000;stroke-width:0.8;\" x=\"617.669034\" xlink:href=\"#m9a4e05203c\" y=\"253.44\"/>\r\n      </g>\r\n     </g>\r\n     <g id=\"text_42\">\r\n      <!-- 8 -->\r\n      <g transform=\"translate(614.805909 267.278594)scale(0.09 -0.09)\">\r\n       <use xlink:href=\"#DejaVuSans-38\"/>\r\n      </g>\r\n     </g>\r\n    </g>\r\n    <g id=\"xtick_33\">\r\n     <g id=\"line2d_41\">\r\n      <g>\r\n       <use style=\"stroke:#000000;stroke-width:0.8;\" x=\"630.350852\" xlink:href=\"#m9a4e05203c\" y=\"253.44\"/>\r\n      </g>\r\n     </g>\r\n     <g id=\"text_43\">\r\n      <!-- 9 -->\r\n      <g transform=\"translate(627.487727 267.278594)scale(0.09 -0.09)\">\r\n       <use xlink:href=\"#DejaVuSans-39\"/>\r\n      </g>\r\n     </g>\r\n    </g>\r\n    <g id=\"xtick_34\">\r\n     <g id=\"line2d_42\">\r\n      <g>\r\n       <use style=\"stroke:#000000;stroke-width:0.8;\" x=\"643.03267\" xlink:href=\"#m9a4e05203c\" y=\"253.44\"/>\r\n      </g>\r\n     </g>\r\n     <g id=\"text_44\">\r\n      <!-- 10 -->\r\n      <g transform=\"translate(637.30642 267.278594)scale(0.09 -0.09)\">\r\n       <use xlink:href=\"#DejaVuSans-31\"/>\r\n       <use x=\"63.623047\" xlink:href=\"#DejaVuSans-30\"/>\r\n      </g>\r\n     </g>\r\n    </g>\r\n    <g id=\"xtick_35\">\r\n     <g id=\"line2d_43\">\r\n      <g>\r\n       <use style=\"stroke:#000000;stroke-width:0.8;\" x=\"655.714489\" xlink:href=\"#m9a4e05203c\" y=\"253.44\"/>\r\n      </g>\r\n     </g>\r\n     <g id=\"text_45\">\r\n      <!-- 11 -->\r\n      <g transform=\"translate(649.988239 267.278594)scale(0.09 -0.09)\">\r\n       <use xlink:href=\"#DejaVuSans-31\"/>\r\n       <use x=\"63.623047\" xlink:href=\"#DejaVuSans-31\"/>\r\n      </g>\r\n     </g>\r\n    </g>\r\n    <g id=\"xtick_36\">\r\n     <g id=\"line2d_44\">\r\n      <g>\r\n       <use style=\"stroke:#000000;stroke-width:0.8;\" x=\"668.396307\" xlink:href=\"#m9a4e05203c\" y=\"253.44\"/>\r\n      </g>\r\n     </g>\r\n     <g id=\"text_46\">\r\n      <!-- 12 -->\r\n      <g transform=\"translate(662.670057 267.278594)scale(0.09 -0.09)\">\r\n       <use xlink:href=\"#DejaVuSans-31\"/>\r\n       <use x=\"63.623047\" xlink:href=\"#DejaVuSans-32\"/>\r\n      </g>\r\n     </g>\r\n    </g>\r\n    <g id=\"xtick_37\">\r\n     <g id=\"line2d_45\">\r\n      <g>\r\n       <use style=\"stroke:#000000;stroke-width:0.8;\" x=\"681.078125\" xlink:href=\"#m9a4e05203c\" y=\"253.44\"/>\r\n      </g>\r\n     </g>\r\n     <g id=\"text_47\">\r\n      <!-- 13 -->\r\n      <g transform=\"translate(675.351875 267.278594)scale(0.09 -0.09)\">\r\n       <use xlink:href=\"#DejaVuSans-31\"/>\r\n       <use x=\"63.623047\" xlink:href=\"#DejaVuSans-33\"/>\r\n      </g>\r\n     </g>\r\n    </g>\r\n    <g id=\"xtick_38\">\r\n     <g id=\"line2d_46\">\r\n      <g>\r\n       <use style=\"stroke:#000000;stroke-width:0.8;\" x=\"693.759943\" xlink:href=\"#m9a4e05203c\" y=\"253.44\"/>\r\n      </g>\r\n     </g>\r\n     <g id=\"text_48\">\r\n      <!-- 14 -->\r\n      <g transform=\"translate(688.033693 267.278594)scale(0.09 -0.09)\">\r\n       <use xlink:href=\"#DejaVuSans-31\"/>\r\n       <use x=\"63.623047\" xlink:href=\"#DejaVuSans-34\"/>\r\n      </g>\r\n     </g>\r\n    </g>\r\n    <g id=\"xtick_39\">\r\n     <g id=\"line2d_47\">\r\n      <g>\r\n       <use style=\"stroke:#000000;stroke-width:0.8;\" x=\"706.441761\" xlink:href=\"#m9a4e05203c\" y=\"253.44\"/>\r\n      </g>\r\n     </g>\r\n     <g id=\"text_49\">\r\n      <!-- 15 -->\r\n      <g transform=\"translate(700.715511 267.278594)scale(0.09 -0.09)\">\r\n       <use xlink:href=\"#DejaVuSans-31\"/>\r\n       <use x=\"63.623047\" xlink:href=\"#DejaVuSans-35\"/>\r\n      </g>\r\n     </g>\r\n    </g>\r\n    <g id=\"xtick_40\">\r\n     <g id=\"line2d_48\">\r\n      <g>\r\n       <use style=\"stroke:#000000;stroke-width:0.8;\" x=\"719.12358\" xlink:href=\"#m9a4e05203c\" y=\"253.44\"/>\r\n      </g>\r\n     </g>\r\n     <g id=\"text_50\">\r\n      <!-- 16 -->\r\n      <g transform=\"translate(713.39733 267.278594)scale(0.09 -0.09)\">\r\n       <use xlink:href=\"#DejaVuSans-31\"/>\r\n       <use x=\"63.623047\" xlink:href=\"#DejaVuSans-36\"/>\r\n      </g>\r\n     </g>\r\n    </g>\r\n    <g id=\"xtick_41\">\r\n     <g id=\"line2d_49\">\r\n      <g>\r\n       <use style=\"stroke:#000000;stroke-width:0.8;\" x=\"731.805398\" xlink:href=\"#m9a4e05203c\" y=\"253.44\"/>\r\n      </g>\r\n     </g>\r\n     <g id=\"text_51\">\r\n      <!-- 17 -->\r\n      <g transform=\"translate(726.079148 267.278594)scale(0.09 -0.09)\">\r\n       <use xlink:href=\"#DejaVuSans-31\"/>\r\n       <use x=\"63.623047\" xlink:href=\"#DejaVuSans-37\"/>\r\n      </g>\r\n     </g>\r\n    </g>\r\n    <g id=\"xtick_42\">\r\n     <g id=\"line2d_50\">\r\n      <g>\r\n       <use style=\"stroke:#000000;stroke-width:0.8;\" x=\"744.487216\" xlink:href=\"#m9a4e05203c\" y=\"253.44\"/>\r\n      </g>\r\n     </g>\r\n     <g id=\"text_52\">\r\n      <!-- 18 -->\r\n      <g transform=\"translate(738.760966 267.278594)scale(0.09 -0.09)\">\r\n       <use xlink:href=\"#DejaVuSans-31\"/>\r\n       <use x=\"63.623047\" xlink:href=\"#DejaVuSans-38\"/>\r\n      </g>\r\n     </g>\r\n    </g>\r\n    <g id=\"xtick_43\">\r\n     <g id=\"line2d_51\">\r\n      <g>\r\n       <use style=\"stroke:#000000;stroke-width:0.8;\" x=\"757.169034\" xlink:href=\"#m9a4e05203c\" y=\"253.44\"/>\r\n      </g>\r\n     </g>\r\n     <g id=\"text_53\">\r\n      <!-- 19 -->\r\n      <g transform=\"translate(751.442784 267.278594)scale(0.09 -0.09)\">\r\n       <use xlink:href=\"#DejaVuSans-31\"/>\r\n       <use x=\"63.623047\" xlink:href=\"#DejaVuSans-39\"/>\r\n      </g>\r\n     </g>\r\n    </g>\r\n    <g id=\"xtick_44\">\r\n     <g id=\"line2d_52\">\r\n      <g>\r\n       <use style=\"stroke:#000000;stroke-width:0.8;\" x=\"769.850852\" xlink:href=\"#m9a4e05203c\" y=\"253.44\"/>\r\n      </g>\r\n     </g>\r\n     <g id=\"text_54\">\r\n      <!-- 20 -->\r\n      <g transform=\"translate(764.124602 267.278594)scale(0.09 -0.09)\">\r\n       <use xlink:href=\"#DejaVuSans-32\"/>\r\n       <use x=\"63.623047\" xlink:href=\"#DejaVuSans-30\"/>\r\n      </g>\r\n     </g>\r\n    </g>\r\n    <g id=\"xtick_45\">\r\n     <g id=\"line2d_53\">\r\n      <g>\r\n       <use style=\"stroke:#000000;stroke-width:0.8;\" x=\"782.53267\" xlink:href=\"#m9a4e05203c\" y=\"253.44\"/>\r\n      </g>\r\n     </g>\r\n     <g id=\"text_55\">\r\n      <!-- 21 -->\r\n      <g transform=\"translate(776.80642 267.278594)scale(0.09 -0.09)\">\r\n       <use xlink:href=\"#DejaVuSans-32\"/>\r\n       <use x=\"63.623047\" xlink:href=\"#DejaVuSans-31\"/>\r\n      </g>\r\n     </g>\r\n    </g>\r\n    <g id=\"xtick_46\">\r\n     <g id=\"line2d_54\">\r\n      <g>\r\n       <use style=\"stroke:#000000;stroke-width:0.8;\" x=\"795.214489\" xlink:href=\"#m9a4e05203c\" y=\"253.44\"/>\r\n      </g>\r\n     </g>\r\n     <g id=\"text_56\">\r\n      <!-- 22 -->\r\n      <g transform=\"translate(789.488239 267.278594)scale(0.09 -0.09)\">\r\n       <use xlink:href=\"#DejaVuSans-32\"/>\r\n       <use x=\"63.623047\" xlink:href=\"#DejaVuSans-32\"/>\r\n      </g>\r\n     </g>\r\n    </g>\r\n    <g id=\"xtick_47\">\r\n     <g id=\"line2d_55\">\r\n      <g>\r\n       <use style=\"stroke:#000000;stroke-width:0.8;\" x=\"807.896307\" xlink:href=\"#m9a4e05203c\" y=\"253.44\"/>\r\n      </g>\r\n     </g>\r\n     <g id=\"text_57\">\r\n      <!-- 23 -->\r\n      <g transform=\"translate(802.170057 267.278594)scale(0.09 -0.09)\">\r\n       <use xlink:href=\"#DejaVuSans-32\"/>\r\n       <use x=\"63.623047\" xlink:href=\"#DejaVuSans-33\"/>\r\n      </g>\r\n     </g>\r\n    </g>\r\n    <g id=\"xtick_48\">\r\n     <g id=\"line2d_56\">\r\n      <g>\r\n       <use style=\"stroke:#000000;stroke-width:0.8;\" x=\"820.578125\" xlink:href=\"#m9a4e05203c\" y=\"253.44\"/>\r\n      </g>\r\n     </g>\r\n     <g id=\"text_58\">\r\n      <!-- 24 -->\r\n      <g transform=\"translate(814.851875 267.278594)scale(0.09 -0.09)\">\r\n       <use xlink:href=\"#DejaVuSans-32\"/>\r\n       <use x=\"63.623047\" xlink:href=\"#DejaVuSans-34\"/>\r\n      </g>\r\n     </g>\r\n    </g>\r\n    <g id=\"xtick_49\">\r\n     <g id=\"line2d_57\">\r\n      <g>\r\n       <use style=\"stroke:#000000;stroke-width:0.8;\" x=\"833.259943\" xlink:href=\"#m9a4e05203c\" y=\"253.44\"/>\r\n      </g>\r\n     </g>\r\n     <g id=\"text_59\">\r\n      <!-- 25 -->\r\n      <g transform=\"translate(827.533693 267.278594)scale(0.09 -0.09)\">\r\n       <use xlink:href=\"#DejaVuSans-32\"/>\r\n       <use x=\"63.623047\" xlink:href=\"#DejaVuSans-35\"/>\r\n      </g>\r\n     </g>\r\n    </g>\r\n    <g id=\"xtick_50\">\r\n     <g id=\"line2d_58\">\r\n      <g>\r\n       <use style=\"stroke:#000000;stroke-width:0.8;\" x=\"845.941761\" xlink:href=\"#m9a4e05203c\" y=\"253.44\"/>\r\n      </g>\r\n     </g>\r\n     <g id=\"text_60\">\r\n      <!-- 26 -->\r\n      <g transform=\"translate(840.215511 267.278594)scale(0.09 -0.09)\">\r\n       <use xlink:href=\"#DejaVuSans-32\"/>\r\n       <use x=\"63.623047\" xlink:href=\"#DejaVuSans-36\"/>\r\n      </g>\r\n     </g>\r\n    </g>\r\n    <g id=\"xtick_51\">\r\n     <g id=\"line2d_59\">\r\n      <g>\r\n       <use style=\"stroke:#000000;stroke-width:0.8;\" x=\"858.62358\" xlink:href=\"#m9a4e05203c\" y=\"253.44\"/>\r\n      </g>\r\n     </g>\r\n     <g id=\"text_61\">\r\n      <!-- 27 -->\r\n      <g transform=\"translate(852.89733 267.278594)scale(0.09 -0.09)\">\r\n       <use xlink:href=\"#DejaVuSans-32\"/>\r\n       <use x=\"63.623047\" xlink:href=\"#DejaVuSans-37\"/>\r\n      </g>\r\n     </g>\r\n    </g>\r\n    <g id=\"xtick_52\">\r\n     <g id=\"line2d_60\">\r\n      <g>\r\n       <use style=\"stroke:#000000;stroke-width:0.8;\" x=\"871.305398\" xlink:href=\"#m9a4e05203c\" y=\"253.44\"/>\r\n      </g>\r\n     </g>\r\n     <g id=\"text_62\">\r\n      <!-- 28 -->\r\n      <g transform=\"translate(865.579148 267.278594)scale(0.09 -0.09)\">\r\n       <use xlink:href=\"#DejaVuSans-32\"/>\r\n       <use x=\"63.623047\" xlink:href=\"#DejaVuSans-38\"/>\r\n      </g>\r\n     </g>\r\n    </g>\r\n    <g id=\"xtick_53\">\r\n     <g id=\"line2d_61\">\r\n      <g>\r\n       <use style=\"stroke:#000000;stroke-width:0.8;\" x=\"883.987216\" xlink:href=\"#m9a4e05203c\" y=\"253.44\"/>\r\n      </g>\r\n     </g>\r\n     <g id=\"text_63\">\r\n      <!-- 30 -->\r\n      <g transform=\"translate(878.260966 267.278594)scale(0.09 -0.09)\">\r\n       <use xlink:href=\"#DejaVuSans-33\"/>\r\n       <use x=\"63.623047\" xlink:href=\"#DejaVuSans-30\"/>\r\n      </g>\r\n     </g>\r\n    </g>\r\n    <g id=\"text_64\">\r\n     <!-- Max Experience -->\r\n     <g transform=\"translate(660.289134 280.74875)scale(0.1 -0.1)\">\r\n      <defs>\r\n       <path d=\"M 2194 1759 \r\nQ 1497 1759 1228 1600 \r\nQ 959 1441 959 1056 \r\nQ 959 750 1161 570 \r\nQ 1363 391 1709 391 \r\nQ 2188 391 2477 730 \r\nQ 2766 1069 2766 1631 \r\nL 2766 1759 \r\nL 2194 1759 \r\nz\r\nM 3341 1997 \r\nL 3341 0 \r\nL 2766 0 \r\nL 2766 531 \r\nQ 2569 213 2275 61 \r\nQ 1981 -91 1556 -91 \r\nQ 1019 -91 701 211 \r\nQ 384 513 384 1019 \r\nQ 384 1609 779 1909 \r\nQ 1175 2209 1959 2209 \r\nL 2766 2209 \r\nL 2766 2266 \r\nQ 2766 2663 2505 2880 \r\nQ 2244 3097 1772 3097 \r\nQ 1472 3097 1187 3025 \r\nQ 903 2953 641 2809 \r\nL 641 3341 \r\nQ 956 3463 1253 3523 \r\nQ 1550 3584 1831 3584 \r\nQ 2591 3584 2966 3190 \r\nQ 3341 2797 3341 1997 \r\nz\r\n\" id=\"DejaVuSans-61\" transform=\"scale(0.015625)\"/>\r\n      </defs>\r\n      <use xlink:href=\"#DejaVuSans-4d\"/>\r\n      <use x=\"86.279297\" xlink:href=\"#DejaVuSans-61\"/>\r\n      <use x=\"147.558594\" xlink:href=\"#DejaVuSans-78\"/>\r\n      <use x=\"206.738281\" xlink:href=\"#DejaVuSans-20\"/>\r\n      <use x=\"238.525391\" xlink:href=\"#DejaVuSans-45\"/>\r\n      <use x=\"301.708984\" xlink:href=\"#DejaVuSans-78\"/>\r\n      <use x=\"360.888672\" xlink:href=\"#DejaVuSans-70\"/>\r\n      <use x=\"424.365234\" xlink:href=\"#DejaVuSans-65\"/>\r\n      <use x=\"485.888672\" xlink:href=\"#DejaVuSans-72\"/>\r\n      <use x=\"527.001953\" xlink:href=\"#DejaVuSans-69\"/>\r\n      <use x=\"554.785156\" xlink:href=\"#DejaVuSans-65\"/>\r\n      <use x=\"616.308594\" xlink:href=\"#DejaVuSans-6e\"/>\r\n      <use x=\"679.6875\" xlink:href=\"#DejaVuSans-63\"/>\r\n      <use x=\"734.667969\" xlink:href=\"#DejaVuSans-65\"/>\r\n     </g>\r\n    </g>\r\n   </g>\r\n   <g id=\"matplotlib.axis_4\">\r\n    <g id=\"ytick_9\">\r\n     <g id=\"line2d_62\">\r\n      <g>\r\n       <use style=\"stroke:#000000;stroke-width:0.8;\" x=\"509.87358\" xlink:href=\"#ma22bd6b861\" y=\"253.44\"/>\r\n      </g>\r\n     </g>\r\n     <g id=\"text_65\">\r\n      <!-- 0 -->\r\n      <g transform=\"translate(496.51108 257.239219)scale(0.1 -0.1)\">\r\n       <use xlink:href=\"#DejaVuSans-30\"/>\r\n      </g>\r\n     </g>\r\n    </g>\r\n    <g id=\"ytick_10\">\r\n     <g id=\"line2d_63\">\r\n      <g>\r\n       <use style=\"stroke:#000000;stroke-width:0.8;\" x=\"509.87358\" xlink:href=\"#ma22bd6b861\" y=\"222.318011\"/>\r\n      </g>\r\n     </g>\r\n     <g id=\"text_66\">\r\n      <!-- 1000 -->\r\n      <g transform=\"translate(477.42358 226.11723)scale(0.1 -0.1)\">\r\n       <use xlink:href=\"#DejaVuSans-31\"/>\r\n       <use x=\"63.623047\" xlink:href=\"#DejaVuSans-30\"/>\r\n       <use x=\"127.246094\" xlink:href=\"#DejaVuSans-30\"/>\r\n       <use x=\"190.869141\" xlink:href=\"#DejaVuSans-30\"/>\r\n      </g>\r\n     </g>\r\n    </g>\r\n    <g id=\"ytick_11\">\r\n     <g id=\"line2d_64\">\r\n      <g>\r\n       <use style=\"stroke:#000000;stroke-width:0.8;\" x=\"509.87358\" xlink:href=\"#ma22bd6b861\" y=\"191.196022\"/>\r\n      </g>\r\n     </g>\r\n     <g id=\"text_67\">\r\n      <!-- 2000 -->\r\n      <g transform=\"translate(477.42358 194.995241)scale(0.1 -0.1)\">\r\n       <use xlink:href=\"#DejaVuSans-32\"/>\r\n       <use x=\"63.623047\" xlink:href=\"#DejaVuSans-30\"/>\r\n       <use x=\"127.246094\" xlink:href=\"#DejaVuSans-30\"/>\r\n       <use x=\"190.869141\" xlink:href=\"#DejaVuSans-30\"/>\r\n      </g>\r\n     </g>\r\n    </g>\r\n    <g id=\"ytick_12\">\r\n     <g id=\"line2d_65\">\r\n      <g>\r\n       <use style=\"stroke:#000000;stroke-width:0.8;\" x=\"509.87358\" xlink:href=\"#ma22bd6b861\" y=\"160.074033\"/>\r\n      </g>\r\n     </g>\r\n     <g id=\"text_68\">\r\n      <!-- 3000 -->\r\n      <g transform=\"translate(477.42358 163.873252)scale(0.1 -0.1)\">\r\n       <use xlink:href=\"#DejaVuSans-33\"/>\r\n       <use x=\"63.623047\" xlink:href=\"#DejaVuSans-30\"/>\r\n       <use x=\"127.246094\" xlink:href=\"#DejaVuSans-30\"/>\r\n       <use x=\"190.869141\" xlink:href=\"#DejaVuSans-30\"/>\r\n      </g>\r\n     </g>\r\n    </g>\r\n    <g id=\"ytick_13\">\r\n     <g id=\"line2d_66\">\r\n      <g>\r\n       <use style=\"stroke:#000000;stroke-width:0.8;\" x=\"509.87358\" xlink:href=\"#ma22bd6b861\" y=\"128.952044\"/>\r\n      </g>\r\n     </g>\r\n     <g id=\"text_69\">\r\n      <!-- 4000 -->\r\n      <g transform=\"translate(477.42358 132.751263)scale(0.1 -0.1)\">\r\n       <use xlink:href=\"#DejaVuSans-34\"/>\r\n       <use x=\"63.623047\" xlink:href=\"#DejaVuSans-30\"/>\r\n       <use x=\"127.246094\" xlink:href=\"#DejaVuSans-30\"/>\r\n       <use x=\"190.869141\" xlink:href=\"#DejaVuSans-30\"/>\r\n      </g>\r\n     </g>\r\n    </g>\r\n    <g id=\"ytick_14\">\r\n     <g id=\"line2d_67\">\r\n      <g>\r\n       <use style=\"stroke:#000000;stroke-width:0.8;\" x=\"509.87358\" xlink:href=\"#ma22bd6b861\" y=\"97.830055\"/>\r\n      </g>\r\n     </g>\r\n     <g id=\"text_70\">\r\n      <!-- 5000 -->\r\n      <g transform=\"translate(477.42358 101.629274)scale(0.1 -0.1)\">\r\n       <use xlink:href=\"#DejaVuSans-35\"/>\r\n       <use x=\"63.623047\" xlink:href=\"#DejaVuSans-30\"/>\r\n       <use x=\"127.246094\" xlink:href=\"#DejaVuSans-30\"/>\r\n       <use x=\"190.869141\" xlink:href=\"#DejaVuSans-30\"/>\r\n      </g>\r\n     </g>\r\n    </g>\r\n    <g id=\"ytick_15\">\r\n     <g id=\"line2d_68\">\r\n      <g>\r\n       <use style=\"stroke:#000000;stroke-width:0.8;\" x=\"509.87358\" xlink:href=\"#ma22bd6b861\" y=\"66.708066\"/>\r\n      </g>\r\n     </g>\r\n     <g id=\"text_71\">\r\n      <!-- 6000 -->\r\n      <g transform=\"translate(477.42358 70.507285)scale(0.1 -0.1)\">\r\n       <use xlink:href=\"#DejaVuSans-36\"/>\r\n       <use x=\"63.623047\" xlink:href=\"#DejaVuSans-30\"/>\r\n       <use x=\"127.246094\" xlink:href=\"#DejaVuSans-30\"/>\r\n       <use x=\"190.869141\" xlink:href=\"#DejaVuSans-30\"/>\r\n      </g>\r\n     </g>\r\n    </g>\r\n    <g id=\"text_72\">\r\n     <!--   -->\r\n     <g transform=\"translate(471.343892 146.309063)rotate(-90)scale(0.1 -0.1)\">\r\n      <use xlink:href=\"#DejaVuSans-20\"/>\r\n     </g>\r\n    </g>\r\n   </g>\r\n   <g id=\"patch_61\">\r\n    <path d=\"M 509.87358 253.44 \r\nL 509.87358 36 \r\n\" style=\"fill:none;stroke:#000000;stroke-linecap:square;stroke-linejoin:miter;stroke-width:0.8;\"/>\r\n   </g>\r\n   <g id=\"patch_62\">\r\n    <path d=\"M 890.328125 253.44 \r\nL 890.328125 36 \r\n\" style=\"fill:none;stroke:#000000;stroke-linecap:square;stroke-linejoin:miter;stroke-width:0.8;\"/>\r\n   </g>\r\n   <g id=\"patch_63\">\r\n    <path d=\"M 509.87358 253.44 \r\nL 890.328125 253.44 \r\n\" style=\"fill:none;stroke:#000000;stroke-linecap:square;stroke-linejoin:miter;stroke-width:0.8;\"/>\r\n   </g>\r\n   <g id=\"patch_64\">\r\n    <path d=\"M 509.87358 36 \r\nL 890.328125 36 \r\n\" style=\"fill:none;stroke:#000000;stroke-linecap:square;stroke-linejoin:miter;stroke-width:0.8;\"/>\r\n   </g>\r\n  </g>\r\n  <g id=\"text_73\">\r\n   <!-- Distribution of Experience -->\r\n   <g transform=\"translate(380.26625 16.318125)scale(0.12 -0.12)\">\r\n    <defs>\r\n     <path d=\"M 1259 4147 \r\nL 1259 519 \r\nL 2022 519 \r\nQ 2988 519 3436 956 \r\nQ 3884 1394 3884 2338 \r\nQ 3884 3275 3436 3711 \r\nQ 2988 4147 2022 4147 \r\nL 1259 4147 \r\nz\r\nM 628 4666 \r\nL 1925 4666 \r\nQ 3281 4666 3915 4102 \r\nQ 4550 3538 4550 2338 \r\nQ 4550 1131 3912 565 \r\nQ 3275 0 1925 0 \r\nL 628 0 \r\nL 628 4666 \r\nz\r\n\" id=\"DejaVuSans-44\" transform=\"scale(0.015625)\"/>\r\n     <path d=\"M 2834 3397 \r\nL 2834 2853 \r\nQ 2591 2978 2328 3040 \r\nQ 2066 3103 1784 3103 \r\nQ 1356 3103 1142 2972 \r\nQ 928 2841 928 2578 \r\nQ 928 2378 1081 2264 \r\nQ 1234 2150 1697 2047 \r\nL 1894 2003 \r\nQ 2506 1872 2764 1633 \r\nQ 3022 1394 3022 966 \r\nQ 3022 478 2636 193 \r\nQ 2250 -91 1575 -91 \r\nQ 1294 -91 989 -36 \r\nQ 684 19 347 128 \r\nL 347 722 \r\nQ 666 556 975 473 \r\nQ 1284 391 1588 391 \r\nQ 1994 391 2212 530 \r\nQ 2431 669 2431 922 \r\nQ 2431 1156 2273 1281 \r\nQ 2116 1406 1581 1522 \r\nL 1381 1569 \r\nQ 847 1681 609 1914 \r\nQ 372 2147 372 2553 \r\nQ 372 3047 722 3315 \r\nQ 1072 3584 1716 3584 \r\nQ 2034 3584 2315 3537 \r\nQ 2597 3491 2834 3397 \r\nz\r\n\" id=\"DejaVuSans-73\" transform=\"scale(0.015625)\"/>\r\n     <path d=\"M 1172 4494 \r\nL 1172 3500 \r\nL 2356 3500 \r\nL 2356 3053 \r\nL 1172 3053 \r\nL 1172 1153 \r\nQ 1172 725 1289 603 \r\nQ 1406 481 1766 481 \r\nL 2356 481 \r\nL 2356 0 \r\nL 1766 0 \r\nQ 1100 0 847 248 \r\nQ 594 497 594 1153 \r\nL 594 3053 \r\nL 172 3053 \r\nL 172 3500 \r\nL 594 3500 \r\nL 594 4494 \r\nL 1172 4494 \r\nz\r\n\" id=\"DejaVuSans-74\" transform=\"scale(0.015625)\"/>\r\n     <path d=\"M 3116 1747 \r\nQ 3116 2381 2855 2742 \r\nQ 2594 3103 2138 3103 \r\nQ 1681 3103 1420 2742 \r\nQ 1159 2381 1159 1747 \r\nQ 1159 1113 1420 752 \r\nQ 1681 391 2138 391 \r\nQ 2594 391 2855 752 \r\nQ 3116 1113 3116 1747 \r\nz\r\nM 1159 2969 \r\nQ 1341 3281 1617 3432 \r\nQ 1894 3584 2278 3584 \r\nQ 2916 3584 3314 3078 \r\nQ 3713 2572 3713 1747 \r\nQ 3713 922 3314 415 \r\nQ 2916 -91 2278 -91 \r\nQ 1894 -91 1617 61 \r\nQ 1341 213 1159 525 \r\nL 1159 0 \r\nL 581 0 \r\nL 581 4863 \r\nL 1159 4863 \r\nL 1159 2969 \r\nz\r\n\" id=\"DejaVuSans-62\" transform=\"scale(0.015625)\"/>\r\n     <path d=\"M 544 1381 \r\nL 544 3500 \r\nL 1119 3500 \r\nL 1119 1403 \r\nQ 1119 906 1312 657 \r\nQ 1506 409 1894 409 \r\nQ 2359 409 2629 706 \r\nQ 2900 1003 2900 1516 \r\nL 2900 3500 \r\nL 3475 3500 \r\nL 3475 0 \r\nL 2900 0 \r\nL 2900 538 \r\nQ 2691 219 2414 64 \r\nQ 2138 -91 1772 -91 \r\nQ 1169 -91 856 284 \r\nQ 544 659 544 1381 \r\nz\r\nM 1991 3584 \r\nL 1991 3584 \r\nz\r\n\" id=\"DejaVuSans-75\" transform=\"scale(0.015625)\"/>\r\n     <path d=\"M 1959 3097 \r\nQ 1497 3097 1228 2736 \r\nQ 959 2375 959 1747 \r\nQ 959 1119 1226 758 \r\nQ 1494 397 1959 397 \r\nQ 2419 397 2687 759 \r\nQ 2956 1122 2956 1747 \r\nQ 2956 2369 2687 2733 \r\nQ 2419 3097 1959 3097 \r\nz\r\nM 1959 3584 \r\nQ 2709 3584 3137 3096 \r\nQ 3566 2609 3566 1747 \r\nQ 3566 888 3137 398 \r\nQ 2709 -91 1959 -91 \r\nQ 1206 -91 779 398 \r\nQ 353 888 353 1747 \r\nQ 353 2609 779 3096 \r\nQ 1206 3584 1959 3584 \r\nz\r\n\" id=\"DejaVuSans-6f\" transform=\"scale(0.015625)\"/>\r\n     <path d=\"M 2375 4863 \r\nL 2375 4384 \r\nL 1825 4384 \r\nQ 1516 4384 1395 4259 \r\nQ 1275 4134 1275 3809 \r\nL 1275 3500 \r\nL 2222 3500 \r\nL 2222 3053 \r\nL 1275 3053 \r\nL 1275 0 \r\nL 697 0 \r\nL 697 3053 \r\nL 147 3053 \r\nL 147 3500 \r\nL 697 3500 \r\nL 697 3744 \r\nQ 697 4328 969 4595 \r\nQ 1241 4863 1831 4863 \r\nL 2375 4863 \r\nz\r\n\" id=\"DejaVuSans-66\" transform=\"scale(0.015625)\"/>\r\n    </defs>\r\n    <use xlink:href=\"#DejaVuSans-44\"/>\r\n    <use x=\"77.001953\" xlink:href=\"#DejaVuSans-69\"/>\r\n    <use x=\"104.785156\" xlink:href=\"#DejaVuSans-73\"/>\r\n    <use x=\"156.884766\" xlink:href=\"#DejaVuSans-74\"/>\r\n    <use x=\"196.09375\" xlink:href=\"#DejaVuSans-72\"/>\r\n    <use x=\"237.207031\" xlink:href=\"#DejaVuSans-69\"/>\r\n    <use x=\"264.990234\" xlink:href=\"#DejaVuSans-62\"/>\r\n    <use x=\"328.466797\" xlink:href=\"#DejaVuSans-75\"/>\r\n    <use x=\"391.845703\" xlink:href=\"#DejaVuSans-74\"/>\r\n    <use x=\"431.054688\" xlink:href=\"#DejaVuSans-69\"/>\r\n    <use x=\"458.837891\" xlink:href=\"#DejaVuSans-6f\"/>\r\n    <use x=\"520.019531\" xlink:href=\"#DejaVuSans-6e\"/>\r\n    <use x=\"583.398438\" xlink:href=\"#DejaVuSans-20\"/>\r\n    <use x=\"615.185547\" xlink:href=\"#DejaVuSans-6f\"/>\r\n    <use x=\"676.367188\" xlink:href=\"#DejaVuSans-66\"/>\r\n    <use x=\"711.572266\" xlink:href=\"#DejaVuSans-20\"/>\r\n    <use x=\"743.359375\" xlink:href=\"#DejaVuSans-45\"/>\r\n    <use x=\"806.542969\" xlink:href=\"#DejaVuSans-78\"/>\r\n    <use x=\"865.722656\" xlink:href=\"#DejaVuSans-70\"/>\r\n    <use x=\"929.199219\" xlink:href=\"#DejaVuSans-65\"/>\r\n    <use x=\"990.722656\" xlink:href=\"#DejaVuSans-72\"/>\r\n    <use x=\"1031.835938\" xlink:href=\"#DejaVuSans-69\"/>\r\n    <use x=\"1059.619141\" xlink:href=\"#DejaVuSans-65\"/>\r\n    <use x=\"1121.142578\" xlink:href=\"#DejaVuSans-6e\"/>\r\n    <use x=\"1184.521484\" xlink:href=\"#DejaVuSans-63\"/>\r\n    <use x=\"1239.501953\" xlink:href=\"#DejaVuSans-65\"/>\r\n   </g>\r\n  </g>\r\n </g>\r\n <defs>\r\n  <clipPath id=\"p56198bf0e8\">\r\n   <rect height=\"217.44\" width=\"380.454545\" x=\"53.328125\" y=\"36\"/>\r\n  </clipPath>\r\n  <clipPath id=\"p852cbf11ff\">\r\n   <rect height=\"217.44\" width=\"380.454545\" x=\"509.87358\" y=\"36\"/>\r\n  </clipPath>\r\n </defs>\r\n</svg>\r\n",
      "image/png": "[encoded data removed]"
     },
     "metadata": {
      "needs_background": "light"
     }
    }
   ],
   "source": [
    "plt.rcParams['figure.figsize'] = (15, 4)\n",
    "plt.subplot(1, 2, 1)\n",
    "sns.countplot(data['Min Experience'], palette='magma')\n",
    "plt.xticks(fontsize = 9)\n",
    "plt.ylabel(' ')\n",
    "\n",
    "plt.subplot(1, 2, 2)\n",
    "sns.countplot(data['Max Experience'], palette='magma')\n",
    "plt.xticks(fontsize = 9)\n",
    "plt.ylabel(' ')\n",
    "\n",
    "plt.suptitle('Distribution of Experience')\n",
    "plt.show()"
   ]
  },
  {
   "source": [
    "## Cleaning Education column"
   ],
   "cell_type": "markdown",
   "metadata": {}
  },
  {
   "cell_type": "code",
   "execution_count": 13,
   "metadata": {},
   "outputs": [
    {
     "output_type": "execute_result",
     "data": {
      "text/plain": [
       "0    UG: B.Tech/B.E. - Any Specialization PG:Any Po...\n",
       "1    UG: B.Tech/B.E. - Any Specialization PG:MBA/PG...\n",
       "2    UG: Any Graduate - Any Specialization PG:Any P...\n",
       "3    UG: Any Graduate - Any Specialization PG:CA Do...\n",
       "3    UG: Any Graduate - Any Specialization PG:CA Do...\n",
       "3    UG: Any Graduate - Any Specialization PG:CA Do...\n",
       "3    UG: Any Graduate - Any Specialization PG:CA Do...\n",
       "3    UG: Any Graduate - Any Specialization PG:CA Do...\n",
       "4    UG: B.Tech/B.E. - Any Specialization PG:Any Po...\n",
       "5    UG: B.Tech/B.E. - Any Specialization PG:MCA - ...\n",
       "6                                                  NaN\n",
       "6                                                  NaN\n",
       "6                                                  NaN\n",
       "6                                                  NaN\n",
       "6                                                  NaN\n",
       "Name: education, dtype: object"
      ]
     },
     "metadata": {},
     "execution_count": 13
    }
   ],
   "source": [
    "data['education'][:15]"
   ]
  },
  {
   "cell_type": "code",
   "execution_count": 14,
   "metadata": {},
   "outputs": [
    {
     "output_type": "execute_result",
     "data": {
      "text/plain": [
       "0"
      ]
     },
     "metadata": {},
     "execution_count": 14
    }
   ],
   "source": [
    "data['education'] = data['education'].fillna('UG: Any Graduate - Any Specialization')\n",
    "data['education'].isnull().sum()"
   ]
  },
  {
   "cell_type": "code",
   "execution_count": 15,
   "metadata": {},
   "outputs": [
    {
     "output_type": "execute_result",
     "data": {
      "text/plain": [
       "Any                    24501\n",
       "B.Tech/B.E.             8942\n",
       "B.Com                    660\n",
       "B.Sc                     566\n",
       "Diploma                  448\n",
       "Graduation               399\n",
       "B.B.A                    270\n",
       "B.A                      245\n",
       "BCA                      178\n",
       "MBBS                     160\n",
       "BDS                      111\n",
       "B.Pharma                  99\n",
       "Other                     86\n",
       "B.Ed                      85\n",
       "LLB                       71\n",
       "Not                       56\n",
       "BHM                       55\n",
       "-                         54\n",
       "Doctorate                 49\n",
       "B.Arch                    37\n",
       "B.Tech/B.E.,              24\n",
       "B.Sc,                     22\n",
       "Postgraduate              14\n",
       "PG:CA                     10\n",
       "Doctorate:Doctorate        9\n",
       "B.Pharma,                  7\n",
       "B.Com,                     5\n",
       "Diploma,                   5\n",
       "BCA,                       3\n",
       "B.A,                       3\n",
       "BVSC                       3\n",
       "MBA/PGDM                   2\n",
       "B.B.A,                     2\n",
       "BFA                        1\n",
       "B.Des.                     1\n",
       "BAMS                       1\n",
       "PG:Other                   1\n",
       "Name: education, dtype: int64"
      ]
     },
     "metadata": {},
     "execution_count": 15
    }
   ],
   "source": [
    "data['education'] = data['education'].str.split(' ')\n",
    "data['education'] = data['education'].apply(lambda x: x[1] if len(x) > 1 else x[0])\n",
    "data['education'].value_counts(dropna = False)"
   ]
  },
  {
   "cell_type": "code",
   "execution_count": 16,
   "metadata": {},
   "outputs": [
    {
     "output_type": "execute_result",
     "data": {
      "text/plain": [
       "Any             24501\n",
       "B.Tech           8966\n",
       "B.Com             665\n",
       "B.Sc              588\n",
       "Diploma           453\n",
       "Graduation        399\n",
       "B.B.A             272\n",
       "B.A               248\n",
       "Other             197\n",
       "BCA               181\n",
       "MBBS              160\n",
       "BDS               111\n",
       "B.Pharma          106\n",
       "B.Ed               85\n",
       "LLB                71\n",
       "Doctorate          58\n",
       "BHM                55\n",
       "B.Arch             37\n",
       "Postgraduate       14\n",
       "CA                 10\n",
       "BVSC                3\n",
       "MBA/PGDM            2\n",
       "BFA                 1\n",
       "B.Des.              1\n",
       "BAMS                1\n",
       "Name: education, dtype: int64"
      ]
     },
     "metadata": {},
     "execution_count": 16
    }
   ],
   "source": [
    "data['education'] = data['education'].replace(('B.Tech/B.E.', 'B.Tech/B.E.,'),'B.Tech')\r\n",
    "data['education'] = data['education'].replace(('-', 'Not', 'Other', 'PG:Other', 'Post'), 'Other')\r\n",
    "data['education'] = data['education'].replace(('B.Sc,', 'B.Pharma,', 'B.Com,', 'Diploma,', 'B.A,', 'BCA,', 'B.B.A,', 'Doctorate:Doctorate', 'PG:CA'),('B.Sc', 'B.Pharma', 'B.Com', 'Diploma', 'B.A', 'BCA', 'B.B.A', 'Doctorate', 'CA'))\r\n",
    "data['education'].value_counts()"
   ]
  },
  {
   "source": [
    "Looks very clean now.\n",
    "\n",
    "## Cleaning Industry column"
   ],
   "cell_type": "markdown",
   "metadata": {}
  },
  {
   "cell_type": "code",
   "execution_count": 17,
   "metadata": {},
   "outputs": [
    {
     "output_type": "execute_result",
     "data": {
      "text/plain": [
       "0            Media / Entertainment / Internet\n",
       "1    Advertising / PR / MR / Event Management\n",
       "2             IT-Software / Software Services\n",
       "3      Banking / Financial Services / Broking\n",
       "3      Banking / Financial Services / Broking\n",
       "3      Banking / Financial Services / Broking\n",
       "3      Banking / Financial Services / Broking\n",
       "3      Banking / Financial Services / Broking\n",
       "4             IT-Software / Software Services\n",
       "5             IT-Software / Software Services\n",
       "Name: industry, dtype: object"
      ]
     },
     "metadata": {},
     "execution_count": 17
    }
   ],
   "source": [
    "data['industry'][ : 10]"
   ]
  },
  {
   "cell_type": "code",
   "execution_count": 18,
   "metadata": {},
   "outputs": [
    {
     "output_type": "stream",
     "name": "stdout",
     "text": [
      "2\n"
     ]
    }
   ],
   "source": [
    "print(data['industry'].isnull().sum()) # very few!"
   ]
  },
  {
   "cell_type": "code",
   "execution_count": 19,
   "metadata": {},
   "outputs": [
    {
     "output_type": "stream",
     "name": "stdout",
     "text": [
      "0\n"
     ]
    }
   ],
   "source": [
    "data['industry'].fillna(data['industry'].mode()[0], inplace=True)\n",
    "print(data['industry'].isnull().sum())"
   ]
  },
  {
   "cell_type": "code",
   "execution_count": 20,
   "metadata": {},
   "outputs": [
    {
     "output_type": "stream",
     "name": "stdout",
     "text": [
      "0           [Media, Entertainment, Internet]\n1    [Advertising, PR, MR, Event Management]\n2           [IT-Software, Software Services]\n3     [Banking, Financial Services, Broking]\n3     [Banking, Financial Services, Broking]\nName: industry, dtype: object\n"
     ]
    },
    {
     "output_type": "execute_result",
     "data": {
      "text/plain": [
       "IT-Software                 14801\n",
       "BPO                          2361\n",
       "Banking                      2165\n",
       "Education                    1753\n",
       "Recruitment                  1556\n",
       "Automobile                   1188\n",
       "Pharma                       1036\n",
       "Internet                     1035\n",
       "Construction                  970\n",
       "Medical                       896\n",
       "Travel                        752\n",
       "Industrial Products           614\n",
       "Other                         553\n",
       "Accounting                    553\n",
       "Strategy                      524\n",
       "Advertising                   472\n",
       "IT-Hardware & Networking      447\n",
       "FMCG                          434\n",
       "Media                         427\n",
       "Insurance                     414\n",
       "Retail                        376\n",
       "Oil and Gas                   354\n",
       "Telecom/ISP /                 320\n",
       "Real Estate                   311\n",
       "Consumer Electronics          274\n",
       "Semiconductors                262\n",
       "Electricals                   250\n",
       "Textiles                      197\n",
       "Courier                       184\n",
       "KPO                           156\n",
       "Chemicals                     154\n",
       "NGO                           133\n",
       "Telecom/ISP                   118\n",
       "Wellness                      106\n",
       "Architecture                  100\n",
       "Export                         96\n",
       "Ceramics                       86\n",
       "Security                       65\n",
       "Facility Management            65\n",
       "Printing                       62\n",
       "Agriculture                    61\n",
       "Publishing                     56\n",
       "Fresher                        48\n",
       "Iron and Steel                 45\n",
       "Shipping                       39\n",
       "Aviation                       38\n",
       "Legal                          36\n",
       "Animation                      36\n",
       "Gems                           31\n",
       "Food Processing                29\n",
       "Government                     25\n",
       "Office Equipment               23\n",
       "Heat Ventilation               23\n",
       "Fertilizers                    18\n",
       "Medical Devices                16\n",
       "Water Treatment                15\n",
       "Tyres                           8\n",
       "Glass                           7\n",
       "Brewery                         7\n",
       "Pulp and Paper                  2\n",
       "Leather                         1\n",
       "Broadcasting                    1\n",
       "Name: industry, dtype: int64"
      ]
     },
     "metadata": {},
     "execution_count": 20
    }
   ],
   "source": [
    "data['industry'] = data['industry'].str.split(' / ')\n",
    "print(data['industry'].head())\n",
    "data['industry'] = data['industry'].apply(lambda x: x[0])\n",
    "data['industry'].value_counts()"
   ]
  },
  {
   "cell_type": "code",
   "execution_count": 21,
   "metadata": {},
   "outputs": [
    {
     "output_type": "execute_result",
     "data": {
      "text/plain": [
       "IT Software - Application Programming      9225\n",
       "Sales                                      6072\n",
       "ITES                                       3003\n",
       "Production                                 1606\n",
       "Accounts                                   1556\n",
       "HR                                         1474\n",
       "Teaching                                   1370\n",
       "Marketing                                  1340\n",
       "Medical                                     841\n",
       "Financial Services                          774\n",
       "Site Engineering                            682\n",
       "IT Software - Other                         636\n",
       "Engineering Design                          626\n",
       "IT Software - ERP                           566\n",
       "IT Software - eCommerce                     536\n",
       "IT Software - Network Administration        512\n",
       "IT Software - QA & Testing                  483\n",
       "IT Hardware                                 475\n",
       "Journalism                                  433\n",
       "IT Software - DBA                           427\n",
       "Supply Chain                                386\n",
       "IT Software - Embedded                      372\n",
       "Design                                      346\n",
       "Hotels                                      284\n",
       "IT Software - System Programming            263\n",
       "IT Software - Mobile                        255\n",
       "Analytics & Business Intelligence           251\n",
       "Executive Assistant                         240\n",
       "Travel                                      207\n",
       "IT Software - Telecom Software              172\n",
       "Strategy                                    137\n",
       "Legal                                       120\n",
       "Top Management                              119\n",
       "IT Software - Client/Server Programming     101\n",
       "Export                                       97\n",
       "Fashion Designing                            84\n",
       "Architecture                                 83\n",
       "IT Software - Systems                        64\n",
       "TV                                           42\n",
       "IT Software - Middleware                     34\n",
       "Defence Forces                               28\n",
       "IT Software - Mainframe                      22\n",
       "Packaging                                    14\n",
       "Beauty/Fitness/Spa Services                   7\n",
       "Shipping                                      3\n",
       "Name: skills, dtype: int64"
      ]
     },
     "metadata": {},
     "execution_count": 21
    }
   ],
   "source": [
    "data['skills'] = data['skills'].replace('Telecom/ISP /', 'Telecom/ISP')\n",
    "data['skills'].value_counts()"
   ]
  },
  {
   "source": [
    "The column looks much cleaner now"
   ],
   "cell_type": "markdown",
   "metadata": {}
  },
  {
   "source": [
    "## Cleaning the Skills column"
   ],
   "cell_type": "markdown",
   "metadata": {}
  },
  {
   "cell_type": "code",
   "execution_count": 22,
   "metadata": {},
   "outputs": [
    {
     "output_type": "stream",
     "name": "stdout",
     "text": [
      "0                                     ITES\n1                                Marketing\n2    IT Software - Application Programming\n3                                 Accounts\n3                                 Accounts\n3                                 Accounts\n3                                 Accounts\n3                                 Accounts\n4    IT Software - Application Programming\n5    IT Software - Application Programming\nName: skills, dtype: object\n"
     ]
    },
    {
     "output_type": "execute_result",
     "data": {
      "text/plain": [
       "817"
      ]
     },
     "metadata": {},
     "execution_count": 22
    }
   ],
   "source": [
    "print(data['skills'].head(10))\n",
    "data['skills'].isnull().sum()"
   ]
  },
  {
   "cell_type": "code",
   "execution_count": 23,
   "metadata": {},
   "outputs": [
    {
     "output_type": "execute_result",
     "data": {
      "text/plain": [
       "0"
      ]
     },
     "metadata": {},
     "execution_count": 23
    }
   ],
   "source": [
    "data['skills'] = data['skills'].fillna(data['skills'].mode()[0])\n",
    "data['skills'].isnull().sum() # surprisingly, that's huge jump"
   ]
  },
  {
   "cell_type": "code",
   "execution_count": 24,
   "metadata": {},
   "outputs": [
    {
     "output_type": "execute_result",
     "data": {
      "text/plain": [
       "Application Programming              10042\n",
       "Sales                                 6072\n",
       "ITES                                  3003\n",
       "Production                            1606\n",
       "Accounts                              1556\n",
       "HR                                    1474\n",
       "Teaching                              1370\n",
       "Marketing                             1340\n",
       "Medical                                841\n",
       "Financial Services                     774\n",
       "Site Engineering                       682\n",
       "Other                                  636\n",
       "Engineering Design                     626\n",
       "ERP                                    566\n",
       "eCommerce                              536\n",
       "Network Administration                 512\n",
       "QA & Testing                           483\n",
       "IT Hardware                            475\n",
       "Journalism                             433\n",
       "DBA                                    427\n",
       "Supply Chain                           386\n",
       "Embedded                               372\n",
       "Design                                 346\n",
       "Hotels                                 284\n",
       "System Programming                     263\n",
       "Mobile                                 255\n",
       "Analytics & Business Intelligence      251\n",
       "Executive Assistant                    240\n",
       "Travel                                 207\n",
       "Telecom Software                       172\n",
       "Strategy                               137\n",
       "Legal                                  120\n",
       "Top Management                         119\n",
       "Client/Server Programming              101\n",
       "Export                                  97\n",
       "Fashion Designing                       84\n",
       "Architecture                            83\n",
       "Systems                                 64\n",
       "TV                                      42\n",
       "Middleware                              34\n",
       "Defence Forces                          28\n",
       "Mainframe                               22\n",
       "Packaging                               14\n",
       "Beauty/Fitness/Spa Services              7\n",
       "Shipping                                 3\n",
       "Name: skills, dtype: int64"
      ]
     },
     "metadata": {},
     "execution_count": 24
    }
   ],
   "source": [
    "data['skills'] = data['skills'].str.split(' - ')\n",
    "data['skills'] = data['skills'].apply(lambda x: x[1] if len(x) > 1 else x[0])\n",
    "data['skills'].value_counts()"
   ]
  },
  {
   "source": [
    "Another column cleaned easily!"
   ],
   "cell_type": "markdown",
   "metadata": {}
  },
  {
   "cell_type": "code",
   "execution_count": 25,
   "metadata": {},
   "outputs": [
    {
     "output_type": "execute_result",
     "data": {
      "text/plain": [
       "company                    0\n",
       "education                  0\n",
       "experience                 0\n",
       "industry                   0\n",
       "jobdescription             0\n",
       "jobid                      0\n",
       "joblocation_address        0\n",
       "jobtitle                   0\n",
       "numberofpositions      28147\n",
       "payrate                   94\n",
       "postdate                  29\n",
       "site_name              31610\n",
       "skills                     0\n",
       "uniq_id                    0\n",
       "Min Experience             0\n",
       "Max Experience             0\n",
       "dtype: int64"
      ]
     },
     "metadata": {},
     "execution_count": 25
    }
   ],
   "source": [
    "data.isnull().sum()"
   ]
  },
  {
   "source": [
    "## Cleaning rest of the datasets appropriately"
   ],
   "cell_type": "markdown",
   "metadata": {}
  },
  {
   "cell_type": "code",
   "execution_count": 26,
   "metadata": {},
   "outputs": [
    {
     "output_type": "execute_result",
     "data": {
      "text/plain": [
       "0"
      ]
     },
     "metadata": {},
     "execution_count": 26
    }
   ],
   "source": [
    "data['numberofpositions'] = (data['numberofpositions'].fillna(1)).astype(int)\n",
    "data['numberofpositions'].isnull().sum()"
   ]
  },
  {
   "cell_type": "code",
   "execution_count": 27,
   "metadata": {},
   "outputs": [
    {
     "output_type": "stream",
     "name": "stdout",
     "text": [
      "company                    0\neducation                  0\nexperience                 0\nindustry                   0\njobdescription             0\njobid                      0\njoblocation_address        0\njobtitle                   0\nnumberofpositions          0\npayrate                   94\npostdate                  29\nsite_name              31610\nskills                     0\nuniq_id                    0\nMin Experience             0\nMax Experience             0\ndtype: int64\n"
     ]
    }
   ],
   "source": [
    "print(data.isnull().sum())"
   ]
  },
  {
   "cell_type": "code",
   "execution_count": 28,
   "metadata": {},
   "outputs": [
    {
     "output_type": "execute_result",
     "data": {
      "text/plain": [
       "company                0\n",
       "education              0\n",
       "experience             0\n",
       "industry               0\n",
       "jobdescription         0\n",
       "jobid                  0\n",
       "joblocation_address    0\n",
       "jobtitle               0\n",
       "numberofpositions      0\n",
       "payrate                0\n",
       "postdate               0\n",
       "site_name              0\n",
       "skills                 0\n",
       "uniq_id                0\n",
       "Min Experience         0\n",
       "Max Experience         0\n",
       "dtype: int64"
      ]
     },
     "metadata": {},
     "execution_count": 28
    }
   ],
   "source": [
    "# Remove the records that have missing payrate and postdate\n",
    "data = data.dropna()\n",
    "data.isnull().sum()"
   ]
  },
  {
   "source": [
    "# CLeaned!"
   ],
   "cell_type": "markdown",
   "metadata": {}
  }
 ]
}